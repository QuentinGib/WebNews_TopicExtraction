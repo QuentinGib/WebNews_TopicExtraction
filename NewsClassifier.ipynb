{
  "nbformat": 4,
  "nbformat_minor": 0,
  "metadata": {
    "colab": {
      "name": "NewsClassifier.ipynb",
      "provenance": [],
      "collapsed_sections": [],
      "toc_visible": true,
      "authorship_tag": "ABX9TyPflysATg+/GDTY4fh7XC65",
      "include_colab_link": true
    },
    "kernelspec": {
      "name": "python3",
      "display_name": "Python 3"
    },
    "language_info": {
      "name": "python"
    },
    "widgets": {
      "application/vnd.jupyter.widget-state+json": {
        "6d2e2df67af64ae9aead9af7185719bc": {
          "model_module": "@jupyter-widgets/controls",
          "model_name": "HBoxModel",
          "state": {
            "_view_name": "HBoxView",
            "_dom_classes": [],
            "_model_name": "HBoxModel",
            "_view_module": "@jupyter-widgets/controls",
            "_model_module_version": "1.5.0",
            "_view_count": null,
            "_view_module_version": "1.5.0",
            "box_style": "",
            "layout": "IPY_MODEL_d6b9c59127524a50812052d7685b48d8",
            "_model_module": "@jupyter-widgets/controls",
            "children": [
              "IPY_MODEL_052307fcd29d4a56a7f8cbd5a92e94a0",
              "IPY_MODEL_720fff5d19b5429c9b734093a354173c"
            ]
          }
        },
        "d6b9c59127524a50812052d7685b48d8": {
          "model_module": "@jupyter-widgets/base",
          "model_name": "LayoutModel",
          "state": {
            "_view_name": "LayoutView",
            "grid_template_rows": null,
            "right": null,
            "justify_content": null,
            "_view_module": "@jupyter-widgets/base",
            "overflow": null,
            "_model_module_version": "1.2.0",
            "_view_count": null,
            "flex_flow": null,
            "width": null,
            "min_width": null,
            "border": null,
            "align_items": null,
            "bottom": null,
            "_model_module": "@jupyter-widgets/base",
            "top": null,
            "grid_column": null,
            "overflow_y": null,
            "overflow_x": null,
            "grid_auto_flow": null,
            "grid_area": null,
            "grid_template_columns": null,
            "flex": null,
            "_model_name": "LayoutModel",
            "justify_items": null,
            "grid_row": null,
            "max_height": null,
            "align_content": null,
            "visibility": null,
            "align_self": null,
            "height": null,
            "min_height": null,
            "padding": null,
            "grid_auto_rows": null,
            "grid_gap": null,
            "max_width": null,
            "order": null,
            "_view_module_version": "1.2.0",
            "grid_template_areas": null,
            "object_position": null,
            "object_fit": null,
            "grid_auto_columns": null,
            "margin": null,
            "display": null,
            "left": null
          }
        },
        "052307fcd29d4a56a7f8cbd5a92e94a0": {
          "model_module": "@jupyter-widgets/controls",
          "model_name": "FloatProgressModel",
          "state": {
            "_view_name": "ProgressView",
            "style": "IPY_MODEL_9d2397c462d5467b92a79ac848a58f60",
            "_dom_classes": [],
            "description": "Batches: 100%",
            "_model_name": "FloatProgressModel",
            "bar_style": "success",
            "max": 25,
            "_view_module": "@jupyter-widgets/controls",
            "_model_module_version": "1.5.0",
            "value": 25,
            "_view_count": null,
            "_view_module_version": "1.5.0",
            "orientation": "horizontal",
            "min": 0,
            "description_tooltip": null,
            "_model_module": "@jupyter-widgets/controls",
            "layout": "IPY_MODEL_018c2c2e5a8f40ebb50d9a8afa0143cb"
          }
        },
        "720fff5d19b5429c9b734093a354173c": {
          "model_module": "@jupyter-widgets/controls",
          "model_name": "HTMLModel",
          "state": {
            "_view_name": "HTMLView",
            "style": "IPY_MODEL_3dfa03e4e2954a518d8a93d0530e493a",
            "_dom_classes": [],
            "description": "",
            "_model_name": "HTMLModel",
            "placeholder": "​",
            "_view_module": "@jupyter-widgets/controls",
            "_model_module_version": "1.5.0",
            "value": " 25/25 [06:43&lt;00:00, 16.13s/it]",
            "_view_count": null,
            "_view_module_version": "1.5.0",
            "description_tooltip": null,
            "_model_module": "@jupyter-widgets/controls",
            "layout": "IPY_MODEL_96e0c48d00734c889ffbfda02868489f"
          }
        },
        "9d2397c462d5467b92a79ac848a58f60": {
          "model_module": "@jupyter-widgets/controls",
          "model_name": "ProgressStyleModel",
          "state": {
            "_view_name": "StyleView",
            "_model_name": "ProgressStyleModel",
            "description_width": "initial",
            "_view_module": "@jupyter-widgets/base",
            "_model_module_version": "1.5.0",
            "_view_count": null,
            "_view_module_version": "1.2.0",
            "bar_color": null,
            "_model_module": "@jupyter-widgets/controls"
          }
        },
        "018c2c2e5a8f40ebb50d9a8afa0143cb": {
          "model_module": "@jupyter-widgets/base",
          "model_name": "LayoutModel",
          "state": {
            "_view_name": "LayoutView",
            "grid_template_rows": null,
            "right": null,
            "justify_content": null,
            "_view_module": "@jupyter-widgets/base",
            "overflow": null,
            "_model_module_version": "1.2.0",
            "_view_count": null,
            "flex_flow": null,
            "width": null,
            "min_width": null,
            "border": null,
            "align_items": null,
            "bottom": null,
            "_model_module": "@jupyter-widgets/base",
            "top": null,
            "grid_column": null,
            "overflow_y": null,
            "overflow_x": null,
            "grid_auto_flow": null,
            "grid_area": null,
            "grid_template_columns": null,
            "flex": null,
            "_model_name": "LayoutModel",
            "justify_items": null,
            "grid_row": null,
            "max_height": null,
            "align_content": null,
            "visibility": null,
            "align_self": null,
            "height": null,
            "min_height": null,
            "padding": null,
            "grid_auto_rows": null,
            "grid_gap": null,
            "max_width": null,
            "order": null,
            "_view_module_version": "1.2.0",
            "grid_template_areas": null,
            "object_position": null,
            "object_fit": null,
            "grid_auto_columns": null,
            "margin": null,
            "display": null,
            "left": null
          }
        },
        "3dfa03e4e2954a518d8a93d0530e493a": {
          "model_module": "@jupyter-widgets/controls",
          "model_name": "DescriptionStyleModel",
          "state": {
            "_view_name": "StyleView",
            "_model_name": "DescriptionStyleModel",
            "description_width": "",
            "_view_module": "@jupyter-widgets/base",
            "_model_module_version": "1.5.0",
            "_view_count": null,
            "_view_module_version": "1.2.0",
            "_model_module": "@jupyter-widgets/controls"
          }
        },
        "96e0c48d00734c889ffbfda02868489f": {
          "model_module": "@jupyter-widgets/base",
          "model_name": "LayoutModel",
          "state": {
            "_view_name": "LayoutView",
            "grid_template_rows": null,
            "right": null,
            "justify_content": null,
            "_view_module": "@jupyter-widgets/base",
            "overflow": null,
            "_model_module_version": "1.2.0",
            "_view_count": null,
            "flex_flow": null,
            "width": null,
            "min_width": null,
            "border": null,
            "align_items": null,
            "bottom": null,
            "_model_module": "@jupyter-widgets/base",
            "top": null,
            "grid_column": null,
            "overflow_y": null,
            "overflow_x": null,
            "grid_auto_flow": null,
            "grid_area": null,
            "grid_template_columns": null,
            "flex": null,
            "_model_name": "LayoutModel",
            "justify_items": null,
            "grid_row": null,
            "max_height": null,
            "align_content": null,
            "visibility": null,
            "align_self": null,
            "height": null,
            "min_height": null,
            "padding": null,
            "grid_auto_rows": null,
            "grid_gap": null,
            "max_width": null,
            "order": null,
            "_view_module_version": "1.2.0",
            "grid_template_areas": null,
            "object_position": null,
            "object_fit": null,
            "grid_auto_columns": null,
            "margin": null,
            "display": null,
            "left": null
          }
        },
        "7202a36df9e24850ab79f75ccc7252e7": {
          "model_module": "@jupyter-widgets/controls",
          "model_name": "HBoxModel",
          "state": {
            "_view_name": "HBoxView",
            "_dom_classes": [],
            "_model_name": "HBoxModel",
            "_view_module": "@jupyter-widgets/controls",
            "_model_module_version": "1.5.0",
            "_view_count": null,
            "_view_module_version": "1.5.0",
            "box_style": "",
            "layout": "IPY_MODEL_ac97fe83a846415d80789c3e6dc94402",
            "_model_module": "@jupyter-widgets/controls",
            "children": [
              "IPY_MODEL_1ed6c2df94fd40b4b1eb61309fddbc17",
              "IPY_MODEL_4be7d722c08f49ef9f5520a7170ece79"
            ]
          }
        },
        "ac97fe83a846415d80789c3e6dc94402": {
          "model_module": "@jupyter-widgets/base",
          "model_name": "LayoutModel",
          "state": {
            "_view_name": "LayoutView",
            "grid_template_rows": null,
            "right": null,
            "justify_content": null,
            "_view_module": "@jupyter-widgets/base",
            "overflow": null,
            "_model_module_version": "1.2.0",
            "_view_count": null,
            "flex_flow": null,
            "width": null,
            "min_width": null,
            "border": null,
            "align_items": null,
            "bottom": null,
            "_model_module": "@jupyter-widgets/base",
            "top": null,
            "grid_column": null,
            "overflow_y": null,
            "overflow_x": null,
            "grid_auto_flow": null,
            "grid_area": null,
            "grid_template_columns": null,
            "flex": null,
            "_model_name": "LayoutModel",
            "justify_items": null,
            "grid_row": null,
            "max_height": null,
            "align_content": null,
            "visibility": null,
            "align_self": null,
            "height": null,
            "min_height": null,
            "padding": null,
            "grid_auto_rows": null,
            "grid_gap": null,
            "max_width": null,
            "order": null,
            "_view_module_version": "1.2.0",
            "grid_template_areas": null,
            "object_position": null,
            "object_fit": null,
            "grid_auto_columns": null,
            "margin": null,
            "display": null,
            "left": null
          }
        },
        "1ed6c2df94fd40b4b1eb61309fddbc17": {
          "model_module": "@jupyter-widgets/controls",
          "model_name": "FloatProgressModel",
          "state": {
            "_view_name": "ProgressView",
            "style": "IPY_MODEL_d3faa9ccc6b94917a204603e827d33ce",
            "_dom_classes": [],
            "description": "Batches: 100%",
            "_model_name": "FloatProgressModel",
            "bar_style": "success",
            "max": 1,
            "_view_module": "@jupyter-widgets/controls",
            "_model_module_version": "1.5.0",
            "value": 1,
            "_view_count": null,
            "_view_module_version": "1.5.0",
            "orientation": "horizontal",
            "min": 0,
            "description_tooltip": null,
            "_model_module": "@jupyter-widgets/controls",
            "layout": "IPY_MODEL_63ce6ab6f524417095416c7456949193"
          }
        },
        "4be7d722c08f49ef9f5520a7170ece79": {
          "model_module": "@jupyter-widgets/controls",
          "model_name": "HTMLModel",
          "state": {
            "_view_name": "HTMLView",
            "style": "IPY_MODEL_2fdce37d5b2645478260f5a4d6272113",
            "_dom_classes": [],
            "description": "",
            "_model_name": "HTMLModel",
            "placeholder": "​",
            "_view_module": "@jupyter-widgets/controls",
            "_model_module_version": "1.5.0",
            "value": " 1/1 [00:04&lt;00:00,  4.53s/it]",
            "_view_count": null,
            "_view_module_version": "1.5.0",
            "description_tooltip": null,
            "_model_module": "@jupyter-widgets/controls",
            "layout": "IPY_MODEL_9239c87feb074a61922c12bfdbe5ea14"
          }
        },
        "d3faa9ccc6b94917a204603e827d33ce": {
          "model_module": "@jupyter-widgets/controls",
          "model_name": "ProgressStyleModel",
          "state": {
            "_view_name": "StyleView",
            "_model_name": "ProgressStyleModel",
            "description_width": "initial",
            "_view_module": "@jupyter-widgets/base",
            "_model_module_version": "1.5.0",
            "_view_count": null,
            "_view_module_version": "1.2.0",
            "bar_color": null,
            "_model_module": "@jupyter-widgets/controls"
          }
        },
        "63ce6ab6f524417095416c7456949193": {
          "model_module": "@jupyter-widgets/base",
          "model_name": "LayoutModel",
          "state": {
            "_view_name": "LayoutView",
            "grid_template_rows": null,
            "right": null,
            "justify_content": null,
            "_view_module": "@jupyter-widgets/base",
            "overflow": null,
            "_model_module_version": "1.2.0",
            "_view_count": null,
            "flex_flow": null,
            "width": null,
            "min_width": null,
            "border": null,
            "align_items": null,
            "bottom": null,
            "_model_module": "@jupyter-widgets/base",
            "top": null,
            "grid_column": null,
            "overflow_y": null,
            "overflow_x": null,
            "grid_auto_flow": null,
            "grid_area": null,
            "grid_template_columns": null,
            "flex": null,
            "_model_name": "LayoutModel",
            "justify_items": null,
            "grid_row": null,
            "max_height": null,
            "align_content": null,
            "visibility": null,
            "align_self": null,
            "height": null,
            "min_height": null,
            "padding": null,
            "grid_auto_rows": null,
            "grid_gap": null,
            "max_width": null,
            "order": null,
            "_view_module_version": "1.2.0",
            "grid_template_areas": null,
            "object_position": null,
            "object_fit": null,
            "grid_auto_columns": null,
            "margin": null,
            "display": null,
            "left": null
          }
        },
        "2fdce37d5b2645478260f5a4d6272113": {
          "model_module": "@jupyter-widgets/controls",
          "model_name": "DescriptionStyleModel",
          "state": {
            "_view_name": "StyleView",
            "_model_name": "DescriptionStyleModel",
            "description_width": "",
            "_view_module": "@jupyter-widgets/base",
            "_model_module_version": "1.5.0",
            "_view_count": null,
            "_view_module_version": "1.2.0",
            "_model_module": "@jupyter-widgets/controls"
          }
        },
        "9239c87feb074a61922c12bfdbe5ea14": {
          "model_module": "@jupyter-widgets/base",
          "model_name": "LayoutModel",
          "state": {
            "_view_name": "LayoutView",
            "grid_template_rows": null,
            "right": null,
            "justify_content": null,
            "_view_module": "@jupyter-widgets/base",
            "overflow": null,
            "_model_module_version": "1.2.0",
            "_view_count": null,
            "flex_flow": null,
            "width": null,
            "min_width": null,
            "border": null,
            "align_items": null,
            "bottom": null,
            "_model_module": "@jupyter-widgets/base",
            "top": null,
            "grid_column": null,
            "overflow_y": null,
            "overflow_x": null,
            "grid_auto_flow": null,
            "grid_area": null,
            "grid_template_columns": null,
            "flex": null,
            "_model_name": "LayoutModel",
            "justify_items": null,
            "grid_row": null,
            "max_height": null,
            "align_content": null,
            "visibility": null,
            "align_self": null,
            "height": null,
            "min_height": null,
            "padding": null,
            "grid_auto_rows": null,
            "grid_gap": null,
            "max_width": null,
            "order": null,
            "_view_module_version": "1.2.0",
            "grid_template_areas": null,
            "object_position": null,
            "object_fit": null,
            "grid_auto_columns": null,
            "margin": null,
            "display": null,
            "left": null
          }
        }
      }
    }
  },
  "cells": [
    {
      "cell_type": "markdown",
      "metadata": {
        "id": "view-in-github",
        "colab_type": "text"
      },
      "source": [
        "<a href=\"https://colab.research.google.com/github/QuentinGib/WebNews_TopicExtraction/blob/main/NewsClassifier.ipynb\" target=\"_parent\"><img src=\"https://colab.research.google.com/assets/colab-badge.svg\" alt=\"Open In Colab\"/></a>"
      ]
    },
    {
      "cell_type": "markdown",
      "metadata": {
        "id": "gI3yFtJeU0BK"
      },
      "source": [
        "#  **Clustering et extraction du sujet d'un article** - par Quentin Gibon\n",
        "\n",
        "---\n",
        "\n",
        "\n",
        "## Introduction\n",
        "L'objectif de ce projet est de retrouver le sujet d'un article de presse par clustering (et non pas par classification). Nous allons pour cela utiliser un dataset d'articles de presses françaises (trouvé [ici](https://webhose.io/free-datasets/french-news-articles/)) pour enrichir notre model, et nous tenterons d'extraire le sujet d'un article scrappé sur le site du journal [Le Monde](https://www.lemonde.fr/).\n",
        "\n",
        "Le domaine dans lequel se place cette étude se nomme le Traitement Automatique du Langage naturel (TAL) ou Natural Language Processing (NLP) en anglais. C'est un des domaines de recherche les plus actifs en science des données actuellement, à l’intersection du Machine Learning et de la linguistique. Il a pour but d’extraire des informations et une signification d’un contenu textuel.\n",
        "\n",
        "Comme mentionné précédemment, ici nous ne connaissons pas les sujets des articles que traite le model. L'objectif est de former des clusters, de regrouper les articles présentant des similarités pour en extraire le sujet.\n",
        "\n",
        "Dans ce notebook seront exposés deux algorithmes : le LDA (Latent Dirichlet Allocation) et un autre \"maison\" de Topic Modeling en utilisant BERT.\n",
        "\n",
        "Ce notebook vient en complément d'un autre projet autour du NLP ([voir le projet](https://github.com/QuentinGib/WebNews_Summary))."
      ]
    },
    {
      "cell_type": "markdown",
      "metadata": {
        "id": "tGvgZTT-vY81"
      },
      "source": [
        "## Bibliothèques et modules\n",
        "Dans un premier temps nous avons besoin d’installer toutes les bibliothèques et autres modules qui nous serviront pour réaliser le projet. J'ai divisé les éléments en deux, ceux utilisés par le premier algorithme (BERTopic) et ceux par le LDA.\n",
        "\n",
        "**BERTopic** : Comme le nom l'indique, nous allons utiliser les models BERT pour créer l'embedding et tokenizer les phrases des articles, particulièrement nous utiliserons `sentence-transformers`, un model d'embedding qui fonctionne bien avec un grand nombre de documents. BERT rentre dans la catégorie des `transformers`, ce sont des modèles état-de-l’art qui apprennent des représentations vectorielles à partir d’un texte d’entrée et qui dépassent les capacités humaines sur certains points. Ces modèles peuvent être pré-entraînés et sont mis à disposition par Hugging Face, une startup spécialisée dans le traitement de langage naturel.\n",
        "\n",
        "Pour la reduction de dimensionalité, on choisit l'algorithme UMAP, adapté à notre projet car \"il conserve une partie importante de la structure locale de haute dimension dans une dimensionnalité inférieure\".\n",
        "\n",
        "Enfin nous le verrons, l'algorithme de clusterisation que l'on choisit est HDBSCAN car il fonctionne bien avec UMAP et propose l'avantage de ne pas forcer tous les points à rentrer dans un cluster, les considérants comme des outliers."
      ]
    },
    {
      "cell_type": "code",
      "metadata": {
        "id": "X9QrHw2yfIZC"
      },
      "source": [
        "!pip install sentence-transformers\n",
        "!pip install umap-learn\n",
        "!pip install hdbscan"
      ],
      "execution_count": null,
      "outputs": []
    },
    {
      "cell_type": "markdown",
      "metadata": {
        "id": "75EdgnQx_6ze"
      },
      "source": [
        "En ce qui concerne le **LDA** :\n",
        "\n",
        "La plupart des bibliothèques que l'on utilise servent au pre-processing des données. Nous n'en avions pas besoin pour **BERTopic** car BERT est suffisamment sophistiqué pour analyser le sens de toutes les nuances du langage et ne nécessite pas de recourir aux étapes de pre-processing telles que la suppression des stop words, le stemming et les transformations en minuscules.\n",
        "\n",
        "D'abord, nous utiliserons `SpaCy`. SpaCy est une jeune librairie (2015) qui offre des modèles pré-entraînés pour diverses applications, y compris la reconnaissance d’entités nommées. SpaCy est la principale alternative à `NLTK` (Natural Language Tool Kit), la librairie historique pour le TAL avec Python que nous utiliserons également car elle possède certains outils que SpaCy n'a pas. Parmis ces outils, on retrouve les `stop words`, mots fréquents et portants peu d'information, ou un stemmer `Snowball Stemmer`.\n",
        "\n",
        "Un exemple de modèle SpaCy que nous chargeons est `fr_core_news_sm`, un réseau convolutionnel entraîné sur deux corpus, WikiNER et Sequoia, ce qui représente de gros volumes de données en français (typiquement plusieurs dizaines de Go).\n",
        "\n",
        "Enfin `numpy` et `pandas` seront utiles pour quelques manipulations de données."
      ]
    },
    {
      "cell_type": "code",
      "metadata": {
        "id": "hEIim2uCToJM"
      },
      "source": [
        "!python -m spacy download fr_core_news_sm\n",
        "!pip install spacy\n",
        "import spacy\n",
        "import fr_core_news_sm\n",
        "import nltk\n",
        "nltk.download(\"punkt\")\n",
        "from nltk.corpus import stopwords\n",
        "nltk.download(\"stopwords\")\n",
        "from nltk.stem.snowball import SnowballStemmer\n",
        "import numpy as np\n",
        "import pandas as pd"
      ],
      "execution_count": null,
      "outputs": []
    },
    {
      "cell_type": "markdown",
      "metadata": {
        "id": "yHvn-gdH_aUb"
      },
      "source": [
        "## Chargement des données\n",
        "\n",
        "Nous allons d'abord scrapper un article sur Le Monde. Pour l'exemple j'ai choisi un article de sport, mais la technique que j'ai implémenté permet de scrapper n'importe quel article du journal en lui fournissant simplement l'URL. L'article est par la suite stocké dans un dictionnaire ayant cette architecture : \n",
        "\n",
        "```\n",
        "mainArticle = \n",
        "{\n",
        "  \"title\": \"Le titre de l'article\",\n",
        "  \"link\": \"Le lien pour acceder à l'article\",\n",
        "  \"subTitle\": \"Le sous titre de l'article\",\n",
        "  \"content\": [\"paragraphe 1\", \"paragraphe 2\", ...]\n",
        "}\n",
        "```"
      ]
    },
    {
      "cell_type": "code",
      "metadata": {
        "id": "JDyvHsUI0UHo",
        "colab": {
          "base_uri": "https://localhost:8080/"
        },
        "outputId": "504e58df-b489-4113-da24-b05f4b480e28"
      },
      "source": [
        "import requests\n",
        "from bs4 import BeautifulSoup\n",
        "\n",
        "requete = requests.get(\"https://www.lemonde.fr/\")\n",
        "page = requete.content\n",
        "soupAccueil = BeautifulSoup(page)\n",
        "\n",
        "#Récupère article sur un lien\n",
        "lien = input(\"URL de l'article LeMonde.fr : \")\n",
        "requete = requests.get(lien)\n",
        "page = requete.content\n",
        "soupAccueil = BeautifulSoup(page)\n",
        "\n",
        "mainArticle = {\n",
        "    \"title\": soupAccueil.find(\"h1\", {\"class\": \"article__title\"}).get_text().replace(u'\\xa0', u' '),\n",
        "    \"link\": lien\n",
        "}\n",
        "\n",
        "requete = requests.get(mainArticle[\"link\"])\n",
        "page = requete.content\n",
        "soupMainArticle = BeautifulSoup(page)\n",
        "mainArticle[\"subTitle\"] = soupMainArticle.find(\"p\", {\"class\": \"article__desc\"}).get_text().replace(u'\\xa0', u' ')\n",
        "paragraphes = soupMainArticle.find_all(\"p\", {\"class\": \"article__paragraph\"})\n",
        "mainArticle[\"content\"] = list(map(lambda para: para.get_text().replace(u'\\xa0', u' '), paragraphes))\n",
        "print(mainArticle)"
      ],
      "execution_count": null,
      "outputs": [
        {
          "output_type": "stream",
          "text": [
            "URL de l'article LeMonde.fr : https://www.lemonde.fr/sport/article/2021/04/03/ligue-1-lille-souligne-les-manques-du-psg-et-reprend-la-tete-du-championnat_6075498_3242.html\n",
            "{'title': 'Ligue 1 : Lille souligne les manques du PSG et reprend la tête du championnat', 'link': 'https://www.lemonde.fr/sport/article/2021/04/03/ligue-1-lille-souligne-les-manques-du-psg-et-reprend-la-tete-du-championnat_6075498_3242.html', 'subTitle': '    Les Lillois se sont imposés (1-0) samedi 3 avril à Paris. Rien de rassurant pour les Parisiens, à quatre jours du quart de finale de la Ligue des champions contre le Bayern Munich. ', 'content': ['Le trône national des Parisiens était donc fragile. Revenu en tête de la Ligue 1 juste avant la trêve internationale à la faveur d’un succès contre Lyon (4-2), le 21 mars, le PSG l’a immédiatement reperdu, sans gloire, dans le choc face à Lille, samedi 3 avril. Avant le match de Ligue des champions contre le Bayern Munich, la prestation des hommes de Mauricio Pochettino est inquiétante.', 'Une fois de plus en Ligue 1, contre un concurrent direct pour le titre, les Parisiens n’ont pas trouvé la solution. La victoire contre Lyon ne masque pas le bilan très insuffisant contre les équipes du haut du classement du championnat : en six matchs, les partenaires de Neymar n’ont pris que quatre points, et aucun à domicile, au Parc des Princes.', 'Pour sa première titularisation en deux mois, le Brésilien a illustré les manques des joueurs de la capitale en attaque. Malgré une large possession du ballon par le PSG, « Ney » n’a jamais trouvé la solution face à une équipe regroupée, qui a confirmé son statut de meilleure défense du championnat.', 'Frustré, il a même laissé son équipe à dix à l’entame du temps additionnel, après un deuxième carton jaune, sanctionnant son second geste d’humeur lors d’une altercation avec un Lillois. Après une longue blessure, le Brésilien est encore loin d’avoir apaisé ses émotions et réglé la mire, à l’image de ses deux coups francs envoyés très loin des cages de Mike Maignan, le gardien lillois.', 'Rien de rassurant, à quatre jours du quart de finale aller de la Ligue des champions chez le tenant du titre, le Bayern de Munich. Les Parisiens se présenteront en Bavière avec pour seule certitude celle que représente leur gardien Keylor Navas. Le Costaricain a maintenu son équipe en vie en détournant la frappe de Burak Yilmaz seul face à lui au point de penalty (75e).', 'Le PSG vient sans doute de griller son joker à l’entame de la dernière partie de la saison, où le club parisien va enchaîner les matchs couperets en Ligue des champions, en Coupe de France et, désormais, sur les sept dernières rencontres de Ligue 1.', 'Les Lillois se sont présentés au Parc des Princes avec le même plan que Monaco, mi-février : une défense regroupée, très dense dans l’axe et une projection rapide vers l’avant. Comme Monaco, ce projet de jeu a été validé par un but précoce dans le match : une mauvaise coordination de la défense parisienne a permis à Jonathan Ikoné de s’échapper côté droit. Il a pu remettre en retrait à Jonathan David, dont la frappe, contrée par Thilo Kehrer, a été aidée par la barre transversale pour rentrer (20e).', 'Face à la solidité et à la solidarité des Nordistes, la somme des individualités parisiennes a failli. En attaque, la triplette Di Maria-Neymar-Mbappé, alignée derrière Moise Kean, s’est empêtrée dans le bloc bas.', 'Très en jambe en début du match, à l’image de sa frappe excentrée qui a obligé Mike Maignan à une parade (16e), Kylian Mbappé a rapidement disparu. Aligné sur l’aile gauche au coup d’envoi, son repositionnement dans l’axe en deuxième période n’a rien changé.', 'Le Français peut plaider l’accumulation des matchs et les longs déplacements avec les Bleus lors de la trêve internationale, où il a aussi été décevant. Ce n’est pas le cas de ses deux coéquipiers sud-américains, restés à la capitale pendant les quinze jours.', 'Les manques parisiens ont aussi été criants au milieu, comme souvent lorsque leurs stars offensives sont sur le terrain. L’absence pour cause de Covid de l’Italien Marco Verratti a encore plus désorganisé les relances parisiennes.', 'Le duo Idrissa Gueye-Leandro Paredes a été croqué par la paire Boubakary Soumaré-Benjamin André, infatigables récupérateurs de ballon et qui ont musclé l’entre-jeu dans un match engagé. L’Italien manquera également le premier match contre le Bayern.', 'Faisant valoir notamment les absences de plusieurs joueurs, l’entraîneur du PSG, Mauricio Pochettino a déclaré qu’« il y a plein de circonstances qui font que nous n’arrivons pas à trouver la régularité que l’on souhaite ». « Ce n’est pas une excuse, mais cela explique que l’on a des hauts et des bas », a-t-il ajouté, affirmant n’être « pas inquiet » pour la suite du championnat : « il va falloir se battre jusqu’au bout. »', 'Avec cette victoire, les Lillois ont repris de l’air en tête du classement, avec trois points d’avance sur le PSG, quatre sur Monaco, impressionnant vainqueur de Metz (4-0) plus tôt dans la journée et cinq sur Lyon, tenu en échec (1-1) à Lens.', 'Eliminés de la Coupe d’Europe par l’Ajax Amsterdam et de la Coupe de France par le PSG, les Nordistes n’ont plus que le championnat à jouer. « On est premiers, je vous laisse faire les commentaires. On est dans la bataille, Lyon, Paris et Monaco aussi. L’écart est petit », a souligné après le match Christophe Galtier, l’entraîneur des Lillois.', 'Ces derniers peuvent croire un peu plus encore à un titre de champion de France, dix ans après le précédent.']}\n"
          ],
          "name": "stdout"
        }
      ]
    },
    {
      "cell_type": "markdown",
      "metadata": {
        "id": "y4ERmHpdBId7"
      },
      "source": [
        "Enfin j'ai sélectionné les 800 premiers fichiers json de mon dataset d'articles de presse française pour les charger dans un dataframe pandas `temp` (attention : j'utilise glob pour naviguer dans les fichiers de mon google colab, à adapter selon l'endroit où vous executez le code). Le contenu des ces articles est accessible dans `temp.text`."
      ]
    },
    {
      "cell_type": "code",
      "metadata": {
        "id": "7yYIX-_mlvoJ"
      },
      "source": [
        "import os, json\n",
        "import glob\n",
        "pd.set_option('display.max_columns', None)\n",
        "\n",
        "temp = pd.DataFrame()\n",
        "\n",
        "file_list = glob.glob('*.json')\n",
        "\n",
        "dfs = [] # an empty list to store the data frames\n",
        "for file in file_list:\n",
        "    data = pd.read_json(file, lines=True) # read data frame from json file\n",
        "    dfs.append(data) # append the data frame to the list\n",
        "\n",
        "temp = pd.concat(dfs, ignore_index=True) # concatenate all the data frames in the list."
      ],
      "execution_count": null,
      "outputs": []
    },
    {
      "cell_type": "code",
      "metadata": {
        "colab": {
          "base_uri": "https://localhost:8080/"
        },
        "id": "KTYW3fDVtxsV",
        "outputId": "85e27229-993e-4c54-a76f-8a9594c424b5"
      },
      "source": [
        "temp.text"
      ],
      "execution_count": null,
      "outputs": [
        {
          "output_type": "execute_result",
          "data": {
            "text/plain": [
              "0      3/10/16 - 07h59 Source: AFP © photo news. Le p...\n",
              "1      Pouvez-vous nous indiquer l'article de loi? Il...\n",
              "2      En magasin Manette Xbox One Elite + Adaptateur...\n",
              "3      Veste bombers rouge bordeaux taille M neuve Ty...\n",
              "4                                                       \n",
              "                             ...                        \n",
              "795    Aujourd'hui 09h14 - Céline FION - L'Avenir C’e...\n",
              "796    AFP Agression de Kim Kardashian : pourquoi cet...\n",
              "797    Travail dissimulé: 12 interpellés, 1,4M€ amass...\n",
              "798    Une semaine en Europe 1 - L'hommage à Shimon P...\n",
              "799    > Faits divers | 02 octobre 2016, 8h19 | \\n77 ...\n",
              "Name: text, Length: 800, dtype: object"
            ]
          },
          "metadata": {
            "tags": []
          },
          "execution_count": 114
        }
      ]
    },
    {
      "cell_type": "markdown",
      "metadata": {
        "id": "CAJiEYd_CVIh"
      },
      "source": [
        "Nous aurons l'occasion d'en reparler, mais j'ai fini par remarquer que le dataset était d'extrême mauvaise qualité. Beaucoup d'articles se répètent, certains sont vides, et d'autres ne sont même pas des articles mais des annonces LeBonCoin, pubs, commentaires et discussions de forum.\n",
        "\n",
        "<br>\n",
        "\n",
        "---\n",
        "\n"
      ]
    },
    {
      "cell_type": "markdown",
      "metadata": {
        "id": "1pbAFvxFDxsL"
      },
      "source": [
        "## BERTopic\n",
        "\n",
        "Tout d'abord, on charge le model adapté à nos données pour trouver l'embedding des documents. Sentence Transformer ne possède pas de modèle spécialisé en français, c'est pourqoi nous utilisons `paraphrase-xlm-r-multilingual-v1`. Il existe un model BERT pour le français (CamemBERT), non compatible avec sentence transformer mais que l'on pourrait utiliser pour calculer l'embedding aussi, néanmoins après quelques tests il apparaît que cela prend beaucoup trop de temps pour la quantité de données que l'on utilise, et je pense que les résultats ne seraient que très sensiblement différents.\n",
        "\n",
        "On calcule donc l'embedding de notre dataset d'articles, c'est un peu long (~ 5 min)."
      ]
    },
    {
      "cell_type": "code",
      "metadata": {
        "id": "LvSbvv2w1aXv",
        "colab": {
          "base_uri": "https://localhost:8080/",
          "height": 67,
          "referenced_widgets": [
            "6d2e2df67af64ae9aead9af7185719bc",
            "d6b9c59127524a50812052d7685b48d8",
            "052307fcd29d4a56a7f8cbd5a92e94a0",
            "720fff5d19b5429c9b734093a354173c",
            "9d2397c462d5467b92a79ac848a58f60",
            "018c2c2e5a8f40ebb50d9a8afa0143cb",
            "3dfa03e4e2954a518d8a93d0530e493a",
            "96e0c48d00734c889ffbfda02868489f"
          ]
        },
        "outputId": "ba77ef34-4cd5-4a33-d190-2f84b7859634"
      },
      "source": [
        "from sentence_transformers import SentenceTransformer\n",
        "model = SentenceTransformer('paraphrase-xlm-r-multilingual-v1')\n",
        "embeddings = model.encode(temp.text, show_progress_bar=True)"
      ],
      "execution_count": null,
      "outputs": [
        {
          "output_type": "display_data",
          "data": {
            "application/vnd.jupyter.widget-view+json": {
              "model_id": "6d2e2df67af64ae9aead9af7185719bc",
              "version_minor": 0,
              "version_major": 2
            },
            "text/plain": [
              "HBox(children=(FloatProgress(value=0.0, description='Batches', max=25.0, style=ProgressStyle(description_width…"
            ]
          },
          "metadata": {
            "tags": []
          }
        },
        {
          "output_type": "stream",
          "text": [
            "\n"
          ],
          "name": "stdout"
        }
      ]
    },
    {
      "cell_type": "markdown",
      "metadata": {
        "id": "DizJUWQTNJI6"
      },
      "source": [
        "Puis on calcule l'embedding de l'article Le Monde avant de concaténer le résultat avec les embeddings du dataset. J'ai choisi de séparer ces deux opérations pour gagner du temps et ne pas avoir à tout recalculer lorsque l'on ajoute un article Le Monde."
      ]
    },
    {
      "cell_type": "code",
      "metadata": {
        "colab": {
          "base_uri": "https://localhost:8080/",
          "height": 67,
          "referenced_widgets": [
            "7202a36df9e24850ab79f75ccc7252e7",
            "ac97fe83a846415d80789c3e6dc94402",
            "1ed6c2df94fd40b4b1eb61309fddbc17",
            "4be7d722c08f49ef9f5520a7170ece79",
            "d3faa9ccc6b94917a204603e827d33ce",
            "63ce6ab6f524417095416c7456949193",
            "2fdce37d5b2645478260f5a4d6272113",
            "9239c87feb074a61922c12bfdbe5ea14"
          ]
        },
        "id": "X3SB86IdyerB",
        "outputId": "4984c344-1674-4805-89ae-376a7393a52d"
      },
      "source": [
        "text = \" \".join(mainArticle[\"content\"])\n",
        "plusEmbedding = model.encode(text, show_progress_bar=True)\n",
        "embeddings = np.concatenate((embeddings, [plusEmbedding]))"
      ],
      "execution_count": null,
      "outputs": [
        {
          "output_type": "display_data",
          "data": {
            "application/vnd.jupyter.widget-view+json": {
              "model_id": "7202a36df9e24850ab79f75ccc7252e7",
              "version_minor": 0,
              "version_major": 2
            },
            "text/plain": [
              "HBox(children=(FloatProgress(value=0.0, description='Batches', max=1.0, style=ProgressStyle(description_width=…"
            ]
          },
          "metadata": {
            "tags": []
          }
        },
        {
          "output_type": "stream",
          "text": [
            "\n"
          ],
          "name": "stdout"
        }
      ]
    },
    {
      "cell_type": "markdown",
      "metadata": {
        "id": "gwarq5IWNx4V"
      },
      "source": [
        "On rentre dans le vif du sujet. Comme annoncé on réduit d'abord la dimensionalité des données avec UMAP à 4, en gardant le nombre de voisins locaux à 5. Ces paramètres peuvent être modifiés pour optimiser l'algorithme de clustering, mais en testant des combinaisons diffèrentes, ces paramètres semblent offrir les meilleurs résultats dans notre cas.\n",
        "\n",
        "Puis on cherche les cluster avec HDBSCAN. HDBSCAN est un algorithme dit \"basé sur la densité\", et fonctionne donc bien avec UMAP qui garde une structure locale.\n",
        "\n",
        "Pour visualiser les résultats, on réduit la dimensionalité des données à 2 pour pouvoir les afficher sur un graph. On obtient donc un graphique avec tous les points représentant les articles, colorisés selon leur appartenance à un cluster. Les points grisés représentent les articles que HDBSCAN a considéré comme outliers. Nous pouvons voir que même dans un espace à 2 dimensions, une certaine structure locale est conservée, excepté pour quelques clusters."
      ]
    },
    {
      "cell_type": "code",
      "metadata": {
        "colab": {
          "base_uri": "https://localhost:8080/",
          "height": 509
        },
        "id": "wbjvKYUIa5jb",
        "outputId": "052b5817-dea6-4d06-80e7-d79cb9d76bec"
      },
      "source": [
        "import umap\n",
        "umap_embeddings = umap.UMAP(n_neighbors=5, \n",
        "                            n_components=4, \n",
        "                            metric='cosine').fit_transform(embeddings)\n",
        "\n",
        "import hdbscan\n",
        "cluster = hdbscan.HDBSCAN(min_cluster_size=5,\n",
        "                          metric='euclidean',                      \n",
        "                          cluster_selection_method='eom').fit(umap_embeddings)\n",
        "\n",
        "import matplotlib.pyplot as plt\n",
        "\n",
        "# Prepare data\n",
        "umap_data = umap.UMAP(n_neighbors=5, n_components=2, min_dist=0.0, metric='cosine').fit_transform(embeddings)\n",
        "result = pd.DataFrame(umap_data, columns=['x', 'y'])\n",
        "result['labels'] = cluster.labels_\n",
        "\n",
        "# Visualize clusters\n",
        "fig, ax = plt.subplots(figsize=(20, 10))\n",
        "outliers = result.loc[result.labels == -1, :]\n",
        "clustered = result.loc[result.labels != -1, :]\n",
        "plt.scatter(outliers.x, outliers.y, color='#BDBDBD', s=0.05)\n",
        "plt.scatter(clustered.x, clustered.y, c=clustered.labels, s=0.05, cmap='hsv_r')\n",
        "plt.colorbar()"
      ],
      "execution_count": null,
      "outputs": [
        {
          "output_type": "execute_result",
          "data": {
            "text/plain": [
              "<matplotlib.colorbar.Colorbar at 0x7f5c258184d0>"
            ]
          },
          "metadata": {
            "tags": []
          },
          "execution_count": 132
        },
        {
          "output_type": "display_data",
          "data": {
            "image/png": "[encoded data removed]",
            "text/plain": [
              "<Figure size 1440x720 with 2 Axes>"
            ]
          },
          "metadata": {
            "tags": [],
            "needs_background": "light"
          }
        }
      ]
    },
    {
      "cell_type": "markdown",
      "metadata": {
        "id": "4MYtVxYZUhJP"
      },
      "source": [
        "Les clusters sont calculés, maintenant qu'en est-il de leurs représentations ? Sans connaitre les sujets des articles, nous allons chercher à les retrouver pour chaque cluster créé. Pour ceci nous allons regrouper les articles contenus dans un cluster comme s'ils formaient un unique grand article, et appliquer une méthode de pondération sur les mots pour en extraire les plus importants, les plus représentatifs du cluster. Nous utilisons la méthode TF-IDF, souvent utilisée en recherche d'information et en particulier dans la fouille de textes. Parfaitement adaptée donc.\n",
        "\n",
        "Mathématiquement parlant, nous allons extraire la fréquence de chaque mot `t` pour chaque cluster `i` et divisée par le nombre total de mots `w`. Cette action peut être vue comme une forme de régularisation des mots fréquents en cluster. Ensuite, le nombre total, non joint, de documents `m` est divisé par la fréquence totale du mot `t` dans toutes les clusters `n`. Voir la formule ci-dessous.\n",
        "\n",
        "![0_XV925DDdq5x_Gio4.png](data:image/png;base64,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)"
      ]
    },
    {
      "cell_type": "code",
      "metadata": {
        "colab": {
          "base_uri": "https://localhost:8080/",
          "height": 410
        },
        "id": "umpvDclokqQ8",
        "outputId": "7a7d2954-2674-40d3-8855-ef80084f1da3"
      },
      "source": [
        "data = temp.text.to_numpy()\n",
        "data = np.concatenate((data, [text]))\n",
        "docs_df = pd.DataFrame(data, columns=[\"Doc\"])\n",
        "docs_df['Topic'] = cluster.labels_\n",
        "docs_df['Doc_ID'] = range(len(docs_df))\n",
        "docs_per_topic = docs_df.groupby(['Topic'], as_index = False).agg({'Doc': ' '.join})\n",
        "\n",
        "import numpy as np\n",
        "from sklearn.feature_extraction.text import CountVectorizer\n",
        "\n",
        "def c_tf_idf(documents, m, ngram_range=(1, 1)):\n",
        "    count = CountVectorizer(ngram_range=ngram_range, stop_words=\"english\").fit(documents)\n",
        "    t = count.transform(documents).toarray()\n",
        "    w = t.sum(axis=1)\n",
        "    tf = np.divide(t.T, w)\n",
        "    sum_t = t.sum(axis=0)\n",
        "    idf = np.log(np.divide(m, sum_t)).reshape(-1, 1)\n",
        "    tf_idf = np.multiply(tf, idf)\n",
        "\n",
        "    return tf_idf, count\n",
        "  \n",
        "tf_idf, count = c_tf_idf(docs_per_topic.Doc.values, m=len(data))\n",
        "\n",
        "def extract_top_n_words_per_topic(tf_idf, count, docs_per_topic, n=20):\n",
        "    words = count.get_feature_names()\n",
        "    labels = list(docs_per_topic.Topic)\n",
        "    tf_idf_transposed = tf_idf.T\n",
        "    indices = tf_idf_transposed.argsort()[:, -n:]\n",
        "    top_n_words = {label: [(words[j], tf_idf_transposed[i][j]) for j in indices[i]][::-1] for i, label in enumerate(labels)}\n",
        "    return top_n_words\n",
        "\n",
        "def extract_topic_sizes(df):\n",
        "    topic_sizes = (df.groupby(['Topic'])\n",
        "                     .Doc\n",
        "                     .count()\n",
        "                     .reset_index()\n",
        "                     .rename({\"Topic\": \"Topic\", \"Doc\": \"Size\"}, axis='columns')\n",
        "                     .sort_values(\"Size\", ascending=False))\n",
        "    return topic_sizes\n",
        "\n",
        "top_n_words = extract_top_n_words_per_topic(tf_idf, count, docs_per_topic, n=20)\n",
        "topic_sizes = extract_topic_sizes(docs_df)\n",
        "topic_sizes.head(10)"
      ],
      "execution_count": null,
      "outputs": [
        {
          "output_type": "stream",
          "text": [
            "/usr/local/lib/python3.7/dist-packages/ipykernel_launcher.py:15: RuntimeWarning: invalid value encountered in true_divide\n",
            "  from ipykernel import kernelapp as app\n"
          ],
          "name": "stderr"
        },
        {
          "output_type": "execute_result",
          "data": {
            "text/html": [
              "<div>\n",
              "<style scoped>\n",
              "    .dataframe tbody tr th:only-of-type {\n",
              "        vertical-align: middle;\n",
              "    }\n",
              "\n",
              "    .dataframe tbody tr th {\n",
              "        vertical-align: top;\n",
              "    }\n",
              "\n",
              "    .dataframe thead th {\n",
              "        text-align: right;\n",
              "    }\n",
              "</style>\n",
              "<table border=\"1\" class=\"dataframe\">\n",
              "  <thead>\n",
              "    <tr style=\"text-align: right;\">\n",
              "      <th></th>\n",
              "      <th>Topic</th>\n",
              "      <th>Size</th>\n",
              "    </tr>\n",
              "  </thead>\n",
              "  <tbody>\n",
              "    <tr>\n",
              "      <th>37</th>\n",
              "      <td>36</td>\n",
              "      <td>179</td>\n",
              "    </tr>\n",
              "    <tr>\n",
              "      <th>0</th>\n",
              "      <td>-1</td>\n",
              "      <td>160</td>\n",
              "    </tr>\n",
              "    <tr>\n",
              "      <th>36</th>\n",
              "      <td>35</td>\n",
              "      <td>38</td>\n",
              "    </tr>\n",
              "    <tr>\n",
              "      <th>1</th>\n",
              "      <td>0</td>\n",
              "      <td>25</td>\n",
              "    </tr>\n",
              "    <tr>\n",
              "      <th>22</th>\n",
              "      <td>21</td>\n",
              "      <td>24</td>\n",
              "    </tr>\n",
              "    <tr>\n",
              "      <th>29</th>\n",
              "      <td>28</td>\n",
              "      <td>22</td>\n",
              "    </tr>\n",
              "    <tr>\n",
              "      <th>2</th>\n",
              "      <td>1</td>\n",
              "      <td>21</td>\n",
              "    </tr>\n",
              "    <tr>\n",
              "      <th>3</th>\n",
              "      <td>2</td>\n",
              "      <td>21</td>\n",
              "    </tr>\n",
              "    <tr>\n",
              "      <th>4</th>\n",
              "      <td>3</td>\n",
              "      <td>18</td>\n",
              "    </tr>\n",
              "    <tr>\n",
              "      <th>23</th>\n",
              "      <td>22</td>\n",
              "      <td>17</td>\n",
              "    </tr>\n",
              "  </tbody>\n",
              "</table>\n",
              "</div>"
            ],
            "text/plain": [
              "    Topic  Size\n",
              "37     36   179\n",
              "0      -1   160\n",
              "36     35    38\n",
              "1       0    25\n",
              "22     21    24\n",
              "29     28    22\n",
              "2       1    21\n",
              "3       2    21\n",
              "4       3    18\n",
              "23     22    17"
            ]
          },
          "metadata": {
            "tags": []
          },
          "execution_count": 133
        }
      ]
    },
    {
      "cell_type": "markdown",
      "metadata": {
        "id": "lS2AaviJY6zl"
      },
      "source": [
        "On obtient ainsi un tableau `topic_sizes` contenant le nombre d'articles dans chaque sujet, dans chaque cluster donc. On remarque que de nombreux articles sont contenus dans le sujet -1, correspondant aux outliers, les points grisés sur le graphique.\n",
        "\n",
        "`top_n_words[numéro du sujet][:10]` nous permet d'afficher les 10 mots les plus importants, les plus représentatifs du cluster, et donc d'en extraire son sujet !\n",
        "\n"
      ]
    },
    {
      "cell_type": "code",
      "metadata": {
        "colab": {
          "base_uri": "https://localhost:8080/"
        },
        "id": "fgqdpfbvzJGP",
        "outputId": "4cdb8109-1be5-427c-8c96-869844611924"
      },
      "source": [
        "top_n_words[35][:10]"
      ],
      "execution_count": null,
      "outputs": [
        {
          "output_type": "execute_result",
          "data": {
            "text/plain": [
              "[('hergé', 0.004103217413034801),\n",
              " ('art', 0.0038255150214291196),\n",
              " ('charrues', 0.0038037383317870415),\n",
              " ('poète', 0.003735334210940806),\n",
              " ('carhaix', 0.0035793419175918994),\n",
              " ('tintin', 0.0035111430754957308),\n",
              " ('vieilles', 0.0035111430754957308),\n",
              " ('adoption', 0.0034534568008183003),\n",
              " ('poésie', 0.0033490217563880913),\n",
              " ('cépages', 0.0033490217563880913)]"
            ]
          },
          "metadata": {
            "tags": []
          },
          "execution_count": 176
        }
      ]
    },
    {
      "cell_type": "code",
      "metadata": {
        "colab": {
          "base_uri": "https://localhost:8080/",
          "height": 415
        },
        "id": "dkQFvOV62MvA",
        "outputId": "e4a954e0-cfb5-4bc2-c027-9953f67b4433"
      },
      "source": [
        "docs_df"
      ],
      "execution_count": null,
      "outputs": [
        {
          "output_type": "execute_result",
          "data": {
            "text/html": [
              "<div>\n",
              "<style scoped>\n",
              "    .dataframe tbody tr th:only-of-type {\n",
              "        vertical-align: middle;\n",
              "    }\n",
              "\n",
              "    .dataframe tbody tr th {\n",
              "        vertical-align: top;\n",
              "    }\n",
              "\n",
              "    .dataframe thead th {\n",
              "        text-align: right;\n",
              "    }\n",
              "</style>\n",
              "<table border=\"1\" class=\"dataframe\">\n",
              "  <thead>\n",
              "    <tr style=\"text-align: right;\">\n",
              "      <th></th>\n",
              "      <th>Doc</th>\n",
              "      <th>Topic</th>\n",
              "      <th>Doc_ID</th>\n",
              "    </tr>\n",
              "  </thead>\n",
              "  <tbody>\n",
              "    <tr>\n",
              "      <th>0</th>\n",
              "      <td>3/10/16 - 07h59 Source: AFP © photo news. Le p...</td>\n",
              "      <td>23</td>\n",
              "      <td>0</td>\n",
              "    </tr>\n",
              "    <tr>\n",
              "      <th>1</th>\n",
              "      <td>Pouvez-vous nous indiquer l'article de loi? Il...</td>\n",
              "      <td>1</td>\n",
              "      <td>1</td>\n",
              "    </tr>\n",
              "    <tr>\n",
              "      <th>2</th>\n",
              "      <td>En magasin Manette Xbox One Elite + Adaptateur...</td>\n",
              "      <td>13</td>\n",
              "      <td>2</td>\n",
              "    </tr>\n",
              "    <tr>\n",
              "      <th>3</th>\n",
              "      <td>Veste bombers rouge bordeaux taille M neuve Ty...</td>\n",
              "      <td>-1</td>\n",
              "      <td>3</td>\n",
              "    </tr>\n",
              "    <tr>\n",
              "      <th>4</th>\n",
              "      <td></td>\n",
              "      <td>0</td>\n",
              "      <td>4</td>\n",
              "    </tr>\n",
              "    <tr>\n",
              "      <th>...</th>\n",
              "      <td>...</td>\n",
              "      <td>...</td>\n",
              "      <td>...</td>\n",
              "    </tr>\n",
              "    <tr>\n",
              "      <th>796</th>\n",
              "      <td>AFP Agression de Kim Kardashian : pourquoi cet...</td>\n",
              "      <td>6</td>\n",
              "      <td>796</td>\n",
              "    </tr>\n",
              "    <tr>\n",
              "      <th>797</th>\n",
              "      <td>Travail dissimulé: 12 interpellés, 1,4M€ amass...</td>\n",
              "      <td>36</td>\n",
              "      <td>797</td>\n",
              "    </tr>\n",
              "    <tr>\n",
              "      <th>798</th>\n",
              "      <td>Une semaine en Europe 1 - L'hommage à Shimon P...</td>\n",
              "      <td>36</td>\n",
              "      <td>798</td>\n",
              "    </tr>\n",
              "    <tr>\n",
              "      <th>799</th>\n",
              "      <td>&gt; Faits divers | 02 octobre 2016, 8h19 | \\n77 ...</td>\n",
              "      <td>29</td>\n",
              "      <td>799</td>\n",
              "    </tr>\n",
              "    <tr>\n",
              "      <th>800</th>\n",
              "      <td>Le trône national des Parisiens était donc fra...</td>\n",
              "      <td>36</td>\n",
              "      <td>800</td>\n",
              "    </tr>\n",
              "  </tbody>\n",
              "</table>\n",
              "<p>801 rows × 3 columns</p>\n",
              "</div>"
            ],
            "text/plain": [
              "                                                   Doc  Topic  Doc_ID\n",
              "0    3/10/16 - 07h59 Source: AFP © photo news. Le p...     23       0\n",
              "1    Pouvez-vous nous indiquer l'article de loi? Il...      1       1\n",
              "2    En magasin Manette Xbox One Elite + Adaptateur...     13       2\n",
              "3    Veste bombers rouge bordeaux taille M neuve Ty...     -1       3\n",
              "4                                                           0       4\n",
              "..                                                 ...    ...     ...\n",
              "796  AFP Agression de Kim Kardashian : pourquoi cet...      6     796\n",
              "797  Travail dissimulé: 12 interpellés, 1,4M€ amass...     36     797\n",
              "798  Une semaine en Europe 1 - L'hommage à Shimon P...     36     798\n",
              "799  > Faits divers | 02 octobre 2016, 8h19 | \\n77 ...     29     799\n",
              "800  Le trône national des Parisiens était donc fra...     36     800\n",
              "\n",
              "[801 rows x 3 columns]"
            ]
          },
          "metadata": {
            "tags": []
          },
          "execution_count": 137
        }
      ]
    },
    {
      "cell_type": "markdown",
      "metadata": {
        "id": "C1Gl-peYaZP4"
      },
      "source": [
        "`docs_df` contient l'ensembles des textes et leur sujet associé. On retrouve notre article Le Monde en 800eme position, associé au cluster 36. Voyons voir ce qu'il en ressort :"
      ]
    },
    {
      "cell_type": "code",
      "metadata": {
        "colab": {
          "base_uri": "https://localhost:8080/"
        },
        "id": "a9Zjdbfua3if",
        "outputId": "013cd737-49ea-4d7d-bbe6-41eda5fa0cde"
      },
      "source": [
        "top_n_words[36][:10]"
      ],
      "execution_count": null,
      "outputs": [
        {
          "output_type": "execute_result",
          "data": {
            "text/plain": [
              "[('match', 0.004462481154849431),\n",
              " ('ligue', 0.003379057201397656),\n",
              " ('équipe', 0.0026967322377630574),\n",
              " ('face', 0.0026504132195897616),\n",
              " ('club', 0.0026376118795554925),\n",
              " ('jeu', 0.002560321182838733),\n",
              " ('joueur', 0.002335444831228248),\n",
              " ('minutes', 0.0023133928535333547),\n",
              " ('tête', 0.002309771011268974),\n",
              " ('journée', 0.0022486606029753354)]"
            ]
          },
          "metadata": {
            "tags": []
          },
          "execution_count": 177
        }
      ]
    },
    {
      "cell_type": "markdown",
      "metadata": {
        "id": "1rtTiAw_a9hm"
      },
      "source": [
        "Pour un article sur le football, c'est pas trop mal ! En regardant l'article juste au dessus par exemple, commençant par \"faits divers\" et associé au sujet 29, on a :"
      ]
    },
    {
      "cell_type": "code",
      "metadata": {
        "colab": {
          "base_uri": "https://localhost:8080/"
        },
        "id": "71SfvRTmbYqu",
        "outputId": "f552a0d0-4e02-45a3-c937-cfd28f6047fa"
      },
      "source": [
        "top_n_words[29][:10]"
      ],
      "execution_count": null,
      "outputs": [
        {
          "output_type": "execute_result",
          "data": {
            "text/plain": [
              "[('icann', 0.024608107792783048),\n",
              " ('accident', 0.02234197775963479),\n",
              " ('internet', 0.015537149002602427),\n",
              " ('véhicule', 0.015053765082271211),\n",
              " ('blessé', 0.014157639331234333),\n",
              " ('carman', 0.013488566314672405),\n",
              " ('mère', 0.012059797595415431),\n",
              " ('grièvement', 0.01124047192889367),\n",
              " ('nathan', 0.01124047192889367),\n",
              " ('morts', 0.009887276638019726)]"
            ]
          },
          "metadata": {
            "tags": []
          },
          "execution_count": 178
        }
      ]
    },
    {
      "cell_type": "markdown",
      "metadata": {
        "id": "fXBAJvcrbiSC"
      },
      "source": [
        "Pas joyeux, mais ça colle. D'autres sujets trouvés qui paraissent clairs :"
      ]
    },
    {
      "cell_type": "code",
      "metadata": {
        "colab": {
          "base_uri": "https://localhost:8080/"
        },
        "id": "yBsiGH-cb55S",
        "outputId": "66c00b73-9d3e-46a2-b7aa-3a4ebc2a1034"
      },
      "source": [
        "top_n_words[28][:10]"
      ],
      "execution_count": null,
      "outputs": [
        {
          "output_type": "execute_result",
          "data": {
            "text/plain": [
              "[('migrants', 0.011778010264179028),\n",
              " ('calais', 0.010554246544347654),\n",
              " ('farc', 0.008784991431353967),\n",
              " ('référendum', 0.007690201778108856),\n",
              " ('mur', 0.0076253338464812885),\n",
              " ('préfecture', 0.007420311220277995),\n",
              " ('arrêté', 0.00642926524325589),\n",
              " ('répartition', 0.0062160971313259435),\n",
              " ('port', 0.005676919799504691),\n",
              " ('orban', 0.005646443947957472)]"
            ]
          },
          "metadata": {
            "tags": []
          },
          "execution_count": 180
        }
      ]
    },
    {
      "cell_type": "code",
      "metadata": {
        "colab": {
          "base_uri": "https://localhost:8080/"
        },
        "id": "GMIT0ghUcCQn",
        "outputId": "8e3c9a1b-3b8f-45bc-9318-6ac7af8d736b"
      },
      "source": [
        "top_n_words[22][:10]"
      ],
      "execution_count": null,
      "outputs": [
        {
          "output_type": "execute_result",
          "data": {
            "text/plain": [
              "[('alep', 0.016172808143555754),\n",
              " ('syrie', 0.013772684257164273),\n",
              " ('al', 0.012205935771589177),\n",
              " ('rebelles', 0.00954841804146929),\n",
              " ('humanitaire', 0.00883220923570289),\n",
              " ('bombardements', 0.007850852653958124),\n",
              " ('régime', 0.007833989784586746),\n",
              " ('ville', 0.007717960043655831),\n",
              " ('hôpital', 0.007601606661880051),\n",
              " ('kerry', 0.00743019680581553)]"
            ]
          },
          "metadata": {
            "tags": []
          },
          "execution_count": 181
        }
      ]
    },
    {
      "cell_type": "code",
      "metadata": {
        "colab": {
          "base_uri": "https://localhost:8080/"
        },
        "id": "a8u757mrcFGz",
        "outputId": "e0342664-9719-431c-cadf-b88d08f99cf6"
      },
      "source": [
        "top_n_words[15][:10]"
      ],
      "execution_count": null,
      "outputs": [
        {
          "output_type": "execute_result",
          "data": {
            "text/plain": [
              "[('smart', 0.0235307410344361),\n",
              " ('fortwo', 0.01882950090550192),\n",
              " ('électrique', 0.0172828755247756),\n",
              " ('ed', 0.016237685254725055),\n",
              " ('carrosseries', 0.01572984945112382),\n",
              " ('km', 0.014395878655218165),\n",
              " ('gamme', 0.012738332911552625),\n",
              " ('nm', 0.0125070455656508),\n",
              " ('moteur', 0.01236157232045568),\n",
              " ('nouvelles', 0.01234597114110451)]"
            ]
          },
          "metadata": {
            "tags": []
          },
          "execution_count": 185
        }
      ]
    },
    {
      "cell_type": "markdown",
      "metadata": {
        "id": "E0x0n2v-L3YH"
      },
      "source": [
        "\n",
        "\n",
        "---\n",
        "\n",
        "## LDA (Latent Dirichlet Allocation)\n",
        "\n",
        "Cette méthode est la plus classique. Le LDA est un modèle génératif probabiliste permettant d’expliquer des ensembles d’observations, par le moyen de groupes non observés, eux-mêmes définis par des similarités de données.\n",
        "\n",
        "Ou plus simplement, c'est un modèle d'apprentissage automatique non supervisé qui prend des documents en entrée et trouve des sujets en sortie. Le modèle indique également dans quel pourcentage chaque document parle de chaque sujet. Vous l'aurez compris, notre méthode BERTopic se base également sur ce principe.\n",
        "\n",
        "La première étape concerne le pré-processing de nos données, de notre dataset en l'occurrence. Contrairement à BERT, nous avons besoin de réaliser toutes les opérations de stop words, de ponctutation removal etc car nous utilisons le tokenizer NLTK (par phrases) et nlp de SpaCy (par mots).\n",
        "\n",
        "Ce code de data pre-processing est tiré de [ce notebook](https://github.com/QuentinGib/WebNews_Summary). Vous y trouverez également des explications à ce sujet.\n",
        "\n"
      ]
    },
    {
      "cell_type": "code",
      "metadata": {
        "id": "mckaG5B2TPZf"
      },
      "source": [
        "#tokeniser les mots\n",
        "def return_token(sentence, nlp):\n",
        "    # Tokeniser la phrase\n",
        "    doc = nlp(sentence)\n",
        "    # Retourner le texte de chaque token\n",
        "    return [X.text for X in doc]\n",
        "\n",
        "# MAIN\n",
        "stop_words = stopwords.words('french')\n",
        "nlp = fr_core_news_sm.load()\n",
        "tokenizer = nltk.data.load('tokenizers/punkt/PY3/french.pickle')\n",
        "data = []\n",
        "i=0\n",
        "for articles in temp.text:\n",
        "    # Step 1 - Read text and tokenize\n",
        "    phrases = tokenizer.tokenize(articles)\n",
        "    \n",
        "    if phrases == []:\n",
        "        continue\n",
        "\n",
        "    # Preprocessing\n",
        "    # Filtre les stop words\n",
        "    clean_sentences = []\n",
        "    order = []\n",
        "    idx = 0\n",
        "    for sentence in phrases:\n",
        "      clean_words = []\n",
        "      order.append(idx)\n",
        "      idx += 1\n",
        "      for token in return_token(sentence, nlp):\n",
        "        if token not in stop_words:\n",
        "            mot = ''.join(e for e in token if e.isalnum())\n",
        "            if mot != '' and len(mot) > 2:\n",
        "                clean_words.append(mot)\n",
        "    i+=1\n",
        "    print(i)\n",
        "    data.append(clean_words)"
      ],
      "execution_count": null,
      "outputs": []
    },
    {
      "cell_type": "markdown",
      "metadata": {
        "id": "c2Pjz7SCiVrA"
      },
      "source": [
        "A l'issue de cette opération, on obtient un tableau `data` contenenant tous les articles du dataset tokénisés par mot.\n",
        "\n",
        "On envoie le tout dans le model de LDA fourni par gensim, avec ces paramètres :\n",
        "\n",
        "1.   le nombre de sujet est égal à `num_topics`.\n",
        "2.   la distribution du nombre de mots par sujet est gérée par `eta`.\n",
        "3.   la distribution du nombre de sujets par document est gérée par `alpha`.\n"
      ]
    },
    {
      "cell_type": "code",
      "metadata": {
        "id": "6uJc7xbcFj6H"
      },
      "source": [
        "from gensim import corpora, models\n",
        "\n",
        "list_of_list_of_tokens = data\n",
        "# [\"a\",\"b\",\"c\"] are the tokens of document 1, [\"d\",\"e\",\"f\"] are the tokens of document 2...\n",
        "dictionary_LDA = corpora.Dictionary(list_of_list_of_tokens)\n",
        "dictionary_LDA.filter_extremes(no_below=3)\n",
        "corpus = [dictionary_LDA.doc2bow(list_of_tokens) for list_of_tokens in list_of_list_of_tokens]\n",
        "\n",
        "num_topics = 20\n",
        "%time lda_model = models.LdaModel(corpus, num_topics=num_topics, \\\n",
        "                                  id2word=dictionary_LDA, \\\n",
        "                                  passes=4, alpha=[0.01]*num_topics, \\\n",
        "                                  eta=[0.01]*len(dictionary_LDA.keys()))"
      ],
      "execution_count": null,
      "outputs": []
    },
    {
      "cell_type": "markdown",
      "metadata": {
        "id": "WhM0hEx3kR8K"
      },
      "source": [
        "On peut ainsi afficher les sujets trouvés :"
      ]
    },
    {
      "cell_type": "code",
      "metadata": {
        "colab": {
          "base_uri": "https://localhost:8080/"
        },
        "id": "f1mNun5vGJKe",
        "outputId": "52d2256e-f91b-4002-844f-c5deacaec682"
      },
      "source": [
        "for i,topic in lda_model.show_topics(formatted=True, num_topics=num_topics, num_words=10):\n",
        "    print(str(i)+\": \"+ topic)\n",
        "    print()"
      ],
      "execution_count": null,
      "outputs": [
        {
          "output_type": "stream",
          "text": [
            "0: 0.102*\"Lire\" + 0.094*\"aussi\" + 0.039*\"suite\" + 0.031*\"français\" + 0.028*\"photo\" + 0.026*\"toutes\" + 0.022*\"2016\" + 0.022*\"article\" + 0.021*\"October\" + 0.020*\"ici\"\n",
            "\n",
            "1: 0.101*\"Envoyer\" + 0.086*\"Les\" + 0.072*\"être\" + 0.068*\"aussi\" + 0.065*\"peut\" + 0.065*\"intéresser\" + 0.064*\"pourront\" + 0.064*\"suivantes\" + 0.064*\"annonces\" + 0.030*\"argent\"\n",
            "\n",
            "2: 0.034*\"Union\" + 0.033*\"considérant\" + 0.023*\"européenne\" + 0.021*\"demande\" + 0.020*\"droits\" + 0.016*\"pays\" + 0.016*\"travailleurs\" + 0.014*\"européen\" + 0.013*\"Commission\" + 0.013*\"leurs\"\n",
            "\n",
            "3: 0.048*\"lire\" + 0.041*\"article\" + 0.034*\"Parisien\" + 0.033*\"Les\" + 0.031*\"plus\" + 0.024*\"var\" + 0.024*\"podcasts\" + 0.024*\"sound\" + 0.024*\"exports\" + 0.024*\"reste\"\n",
            "\n",
            "4: 0.342*\"AFP\" + 0.111*\"2016\" + 0.050*\"30092016\" + 0.032*\"01102016\" + 0.025*\"Paris\" + 0.022*\"France\" + 0.021*\"octobre\" + 0.021*\"passe\" + 0.019*\"Avec\" + 0.016*\"000\"\n",
            "\n",
            "5: 0.195*\"Publicité\" + 0.041*\"leparisienfr\" + 0.033*\"Rebloguer\" + 0.029*\"Plus\" + 0.025*\"déjà\" + 0.024*\"cas\" + 0.023*\"Afrique\" + 0.021*\"Une\" + 0.020*\"Quentin\" + 0.018*\"millions\"\n",
            "\n",
            "6: 0.075*\"saison\" + 0.044*\"jour\" + 0.043*\"lundi\" + 0.039*\"Mis\" + 0.030*\"USA\" + 0.026*\"aussi\" + 0.025*\"intéresser\" + 0.019*\"chez\" + 0.018*\"The\" + 0.018*\"grand\"\n",
            "\n",
            "7: 0.086*\"Expéditeur\" + 0.049*\"déjà\" + 0.045*\"uniquement\" + 0.041*\"ligne\" + 0.039*\"CANALSAT\" + 0.039*\"Eurosport\" + 0.039*\"disponible\" + 0.028*\"attentat\" + 0.021*\"faire\" + 0.021*\"Les\"\n",
            "\n",
            "8: 0.132*\"raison\" + 0.067*\"Copyright\" + 0.066*\"signalement\" + 0.066*\"Veuillez\" + 0.066*\"préciser\" + 0.066*\"Autre\" + 0.018*\"être\" + 0.015*\"peut\" + 0.015*\"suivantes\" + 0.015*\"annonces\"\n",
            "\n",
            "9: 0.084*\"développement\" + 0.044*\"Union\" + 0.023*\"unies\" + 0.023*\"Commission\" + 0.022*\"mise\" + 0.021*\"Nations\" + 0.021*\"politiques\" + 0.020*\"œuvre\" + 0.020*\"européenne\" + 0.018*\"considérant\"\n",
            "\n",
            "10: 0.032*\"plus\" + 0.026*\"recommandations\" + 0.026*\"compte\" + 0.026*\"personnalisées\" + 0.026*\"Connexion\" + 0.026*\"Créez\" + 0.026*\"connectez\" + 0.023*\"projet\" + 0.021*\"comme\" + 0.019*\"monde\"\n",
            "\n",
            "11: 0.046*\"vidéos\" + 0.033*\"secondes\" + 0.031*\"similaires\" + 0.031*\"Vidéo\" + 0.030*\"suivante\" + 0.025*\"bien\" + 0.025*\"euros\" + 0.025*\"2016\" + 0.023*\"ans\" + 0.020*\"septembre\"\n",
            "\n",
            "12: 0.051*\"contre\" + 0.049*\"INFOS\" + 0.048*\"clés\" + 0.039*\"Mots\" + 0.030*\"lieu\" + 0.028*\"Cordialement\" + 0.027*\"Mondefr\" + 0.021*\"City\" + 0.021*\"selon\" + 0.019*\"vendredi\"\n",
            "\n",
            "13: 0.081*\"plus\" + 0.036*\"Fraude\" + 0.026*\"Les\" + 0.024*\"janvier\" + 0.023*\"Français\" + 0.020*\"près\" + 0.018*\"fois\" + 0.018*\"avoir\" + 0.018*\"important\" + 0.018*\"Plus\"\n",
            "\n",
            "14: 0.050*\"LIRE\" + 0.050*\"AUSSI\" + 0.028*\"annonce\" + 0.028*\"Lire\" + 0.028*\"réagir\" + 0.022*\"bande\" + 0.020*\"face\" + 0.019*\"mobile\" + 0.018*\"suite\" + 0.017*\"lors\"\n",
            "\n",
            "15: 0.093*\"sujet\" + 0.091*\"Sur\" + 0.027*\"être\" + 0.021*\"sans\" + 0.021*\"Crédit\" + 0.020*\"Belga\" + 0.019*\"accord\" + 0.019*\"manière\" + 0.019*\"aucune\" + 0.019*\"quelque\"\n",
            "\n",
            "16: 0.067*\"USA\" + 0.048*\"Partager\" + 0.044*\"ALL\" + 0.039*\"Par\" + 0.037*\"rédaction\" + 0.029*\"conseille\" + 0.018*\"Muguruza\" + 0.017*\"Facebook\" + 0.015*\"plus\" + 0.014*\"Rédaction\"\n",
            "\n",
            "17: 0.105*\"plus\" + 0.064*\"AFP\" + 0.061*\"Fraude\" + 0.054*\"savoir\" + 0.041*\"Pour\" + 0.034*\"2016\" + 0.024*\"tard\" + 0.021*\"Facebook\" + 0.018*\"Nice\" + 0.018*\"Ligue\"\n",
            "\n",
            "18: 0.087*\"octobre\" + 0.068*\"2016\" + 0.028*\"Publié\" + 0.028*\"sécurité\" + 0.023*\"plus\" + 0.021*\"jusqu\" + 0.019*\"jour\" + 0.018*\"durant\" + 0.017*\"cette\" + 0.017*\"tous\"\n",
            "\n",
            "19: 0.064*\"mois\" + 0.046*\"deux\" + 0.039*\"Modifié\" + 0.036*\"août\" + 0.034*\"Dossier\" + 0.034*\"Notre\" + 0.033*\"100\" + 0.029*\"Voir\" + 0.029*\"deal\" + 0.029*\"Posté\"\n",
            "\n"
          ],
          "name": "stdout"
        }
      ]
    },
    {
      "cell_type": "markdown",
      "metadata": {
        "id": "_iUVTO1Oke2U"
      },
      "source": [
        "Ainsi que le sujet trouvé par document, et son pourcentage d'appartenance à ce sujet :"
      ]
    },
    {
      "cell_type": "code",
      "metadata": {
        "colab": {
          "base_uri": "https://localhost:8080/"
        },
        "id": "hssaGKKnaJ9n",
        "outputId": "6077fb01-a3b6-40cc-ab14-412f39ac1218"
      },
      "source": [
        "lda_model[corpus[0]] # corpus[0] means the first document."
      ],
      "execution_count": null,
      "outputs": [
        {
          "output_type": "execute_result",
          "data": {
            "text/plain": [
              "[(0, 0.9136363)]"
            ]
          },
          "metadata": {
            "tags": []
          },
          "execution_count": 154
        }
      ]
    },
    {
      "cell_type": "markdown",
      "metadata": {
        "id": "AhwuPK7ukpfg"
      },
      "source": [
        "Un grand avantage de cette librairy concerne les possibiltés de visualisation qu'elle offre avec `pyLDAvis`. Cela nous permet de comparer des sujets sur deux dimensions réduites et d'observer la répartition des mots dans les sujets."
      ]
    },
    {
      "cell_type": "code",
      "metadata": {
        "id": "V-MEavqEbPWe"
      },
      "source": [
        "%matplotlib inline\n",
        "!pip install pyLDAvis\n",
        "import pyLDAvis\n",
        "import pyLDAvis.gensim_models"
      ],
      "execution_count": null,
      "outputs": []
    },
    {
      "cell_type": "code",
      "metadata": {
        "colab": {
          "base_uri": "https://localhost:8080/",
          "height": 985
        },
        "id": "kzaiwY7Nl_06",
        "outputId": "7e77a951-3087-462e-b8af-a0a379807031"
      },
      "source": [
        "vis = pyLDAvis.gensim_models.prepare(topic_model=lda_model, corpus=corpus, dictionary=dictionary_LDA)\n",
        "pyLDAvis.enable_notebook()\n",
        "pyLDAvis.display(vis)"
      ],
      "execution_count": null,
      "outputs": [
        {
          "output_type": "stream",
          "text": [
            "/usr/local/lib/python3.7/dist-packages/pyLDAvis/_prepare.py:302: SettingWithCopyWarning: \n",
            "A value is trying to be set on a copy of a slice from a DataFrame.\n",
            "Try using .loc[row_indexer,col_indexer] = value instead\n",
            "\n",
            "See the caveats in the documentation: https://pandas.pydata.org/pandas-docs/stable/user_guide/indexing.html#returning-a-view-versus-a-copy\n",
            "  token_table['Freq'] = token_table['Freq'].round()\n"
          ],
          "name": "stderr"
        },
        {
          "output_type": "execute_result",
          "data": {
            "text/html": [
              "\n",
              "<link rel=\"stylesheet\" type=\"text/css\" href=\"https://cdn.jsdelivr.net/gh/bmabey/pyLDAvis@3.3.1/pyLDAvis/js/ldavis.v1.0.0.css\">\n",
              "\n",
              "\n",
              "<div id=\"ldavis_el4161400334028370724944006046\"></div>\n",
              "<script type=\"text/javascript\">\n",
              "\n",
              "var ldavis_el4161400334028370724944006046_data = {\"mdsDat\": {\"x\": [-0.23674841545399444, -0.04554885315093358, -0.24942886239253784, -0.026596825110357568, 0.05280847826373212, 0.05829771469628133, 0.14090284876647516, -0.0029702160797510676, -0.04399453098619393, 0.1959934768709225, 0.19067652622801062, 0.047609585062316336, 0.15776801192047277, 0.024061683854429937, -0.1561001870879576, -0.0343856137602177, -0.10540376405538847, -0.022337325253856694, 0.14626815122699355, -0.0908718835584449], \"y\": [-0.056419867757576354, -0.2306022914770638, 0.186003431510459, -0.27165130392468184, 0.19500503947549708, 0.1506917910617339, 0.018916793171621867, 0.004693512377550102, 0.021964099684730263, -0.0544957985358962, 0.0027164689113898105, -0.0011006189982870358, 0.035898560750104475, 0.05683947314860366, 0.16006110630365003, -0.061299175659602176, -0.07611245312768777, -0.03869817014603162, 0.03315051386397288, -0.07556111063248586], \"topics\": [1, 2, 3, 4, 5, 6, 7, 8, 9, 10, 11, 12, 13, 14, 15, 16, 17, 18, 19, 20], \"cluster\": [1, 1, 1, 1, 1, 1, 1, 1, 1, 1, 1, 1, 1, 1, 1, 1, 1, 1, 1, 1], \"Freq\": [19.241716251332186, 19.114734521220683, 11.546312474939064, 8.716130322984865, 4.329995465201825, 3.9168846629928304, 3.825367678843678, 3.182117964716799, 2.8438398702229954, 2.55422286689445, 2.538447089372692, 2.5203626967921835, 2.509013198395681, 2.353355682482928, 2.194749630011905, 2.082385874730891, 1.7209712202708398, 1.6917016098124769, 1.62238844924366, 1.4953024695373665]}, \"tinfo\": {\"Term\": [\"AFP\", \"raison\", \"aussi\", \"Envoyer\", \"2016\", \"Publicit\\u00e9\", \"Les\", \"plus\", \"int\\u00e9resser\", \"d\\u00e9veloppement\", \"Copyright\", \"pourront\", \"suivantes\", \"annonces\", \"signalement\", \"Veuillez\", \"pr\\u00e9ciser\", \"Autre\", \"\\u00eatre\", \"peut\", \"Lire\", \"sujet\", \"Sur\", \"octobre\", \"Fraude\", \"USA\", \"contre\", \"Union\", \"article\", \"saison\", \"Copyright\", \"signalement\", \"Veuillez\", \"pr\\u00e9ciser\", \"Autre\", \"raison\", \"r\\u00e9sultats\", \"contr\\u00f4le\", \"\\u00e9trang\\u00e8res\", \"engagement\", \"pratique\", \"international\", \"haute\", \"presse\", \"chef\", \"d\\u00e9cembre\", \"essentiel\", \"g\\u00e9n\\u00e9ral\", \"vue\", \"devrait\", \"2011\", \"troisi\\u00e8me\", \"coalition\", \"pr\\u00e9sidentielle\", \"cours\", \"internationale\", \"autorit\\u00e9s\", \"importance\", \"prochaine\", \"experts\", \"femmes\", \"commission\", \"2015\", \"suivantes\", \"annonces\", \"pourront\", \"lors\", \"int\\u00e9resser\", \"\\u00eatre\", \"peut\", \"gouvernement\", \"aussi\", \"aide\", \"Les\", \"Envoyer\", \"invite\", \"d\\u00e9veloppement\", \"Union\", \"2016\", \"politiques\", \"homme\", \"consid\\u00e9rant\", \"droits\", \"Commission\", \"puis\", \"leurs\", \"\\u00e9nergie\", \"notamment\", \"processus\", \"industrielle\", \"paragraphe\", \"travailleurs\", \"d\\u00e9nonce\", \"faveur\", \"assurer\", \"sociaux\", \"annonc\\u00e9\", \"Metz\", \"r\\u00e9gions\", \"affaires\", \"demande\", \"d\\u00e9fenseurs\", \"123\", \"entreprise\", \"f\\u00e9vrier\", \"strat\\u00e9gique\", \"instamment\", \"information\", \"nombre\", \"toute\", \"consid\\u00e9rant\", \"soci\\u00e9t\\u00e9\", \"\\u00c9tats\", \"droits\", \"europ\\u00e9enne\", \"pays\", \"europ\\u00e9en\", \"Europe\", \"Union\", \"membres\", \"politique\", \"place\", \"sans\", \"invite\", \"homme\", \"Commission\", \"ainsi\", \"fait\", \"afin\", \"2015\", \"r\\u00e9solution\", \"contre\", \"entre\", \"politiques\", \"Bank\", \"Deutsche\", \"Reuters\", \"recevoir\", \"argent\", \"Suite\", \"Envoyer\", \"Banque\", \"apport\\u00e9\", \"heures\", \"pourront\", \"suivantes\", \"annonces\", \"int\\u00e9resser\", \"September\", \"Les\", \"peut\", \"\\u00eatre\", \"vid\\u00e9o\", \"proche\", \"Obs\", \"aussi\", \"apr\\u00e8s\", \"\\u00e9lection\", \"tour\", \"doit\", \"affaire\", \"heure\", \"semaine\", \"petit\", \"Fraude\", \"raison\", \"autorit\\u00e9s\", \"information\", \"2016\", \"nationale\", \"sanctions\", \"haut\", \"moins\", \"suivre\", \"moyen\", \"juillet\", \"d\\u00e9veloppement\", \"femme\", \"niveau\", \"justice\", \"\\u00e9cran\", \"\\u0153uvre\", \"dont\", \"2012\", \"service\", \"devant\", \"publi\\u00e9\", \"unies\", \"juin\", \"examen\", \"Parlement\", \"Nations\", \"pr\\u00e9senter\", \"travail\", \"mise\", \"strat\\u00e9gie\", \"position\", \"Iran\", \"dialogue\", \"mondial\", \"politiques\", \"cadre\", \"Commission\", \"Union\", \"r\\u00e9solution\", \"europ\\u00e9enne\", \"afin\", \"Conseil\", \"consid\\u00e9rant\", \"membres\", \"politique\", \"\\u00c9tats\", \"octobre\", \"demande\", \"article\", \"toutes\", \"2016\", \"Belga\", \"sujet\", \"contacter\", \"adresse\", \"r\\u00e9utilis\\u00e9e\", \"pr\\u00e9alable\", \"\\u00e9crit\", \"traduite\", \"commercialement\", \"exploit\\u00e9e\", \"cons\\u00e9quent\", \"reproduite\", \"modifi\\u00e9e\", \"rediffus\\u00e9e\", \"Sur\", \"quelque\", \"lettre\", \"Discuter\", \"aucune\", \"\\u00e9quipe\", \"Cr\\u00e9dit\", \"tourner\", \"utilisez\", \"Source\", \"informations\", \"Bordeaux\", \"mani\\u00e8re\", \"Maria\", \"actuel\", \"Selon\", \"Par\", \"suivante\", \"avoir\", \"sans\", \"accord\", \"Pour\", \"\\u00eatre\", \"Facebook\", \"cette\", \"peut\", \"ALL\", \"Virus\", \"R\\u00e9daction\", \"r\\u00e9daction\", \"conseille\", \"Muguruza\", \"USA\", \"Partager\", \"BEL\", \"Par\", \"Midi\", \"Maria\", \"heureux\", \"suffit\", \"WTA\", \"Garbine\", \"Iran\", \"hommes\", \"am\\u00e9ricain\", \"car\", \"vie\", \"Chine\", \"faut\", \"dur\", \"2011\", \"Nice\", \"Source\", \"\\u00e9quipe\", \"Premier\", \"Facebook\", \"Cr\\u00e9dit\", \"ligne\", \"chez\", \"Plus\", \"plus\", \"\\u00eatre\", \"peut\", \"Unis\", \"comme\", \"ici\", \"bien\", \"encore\", \"titre\", \"vente\", \"aujourdhui\", \"permet\", \"occasion\", \"durant\", \"nombreux\", \"Publi\\u00e9\", \"1999\", \"m\\u00e9moire\", \"rendez\", \"Cour\", \"octobre\", \"celui\", \"porte\", \"secr\\u00e9taire\", \"samedi\", \"d\\u00e9cision\", \"jusqu\", \"prix\", \"s\\u00e9curit\\u00e9\", \"probl\\u00e8mes\", \"mis\", \"national\", \"mondiale\", \"conditions\", \"heure\", \"g\\u00e9n\\u00e9ral\", \"semaine\", \"Garbine\", \"plein\", \"Mis\", \"tous\", \"avant\", \"2016\", \"jour\", \"cette\", \"premier\", \"plus\", \"accord\", \"Paris\", \"nationale\", \"\\u00eatre\", \"Hollande\", \"conna\\u00eetre\", \"Abonnez\", \"coll\\u00e9gien\", \"\\u00e9crou\\u00e9\", \"Lire\", \"enfants\", \"photo\", \"appuyer\", \"Votre\", \"October\", \"impression\", \"the\", \"Pierre\", \"fran\\u00e7ais\", \"Oise\", \"Val\", \"suite\", \"accueil\", \"quel\", \"ici\", \"maison\", \"Derni\\u00e8res\", \"dit\", \"minutes\", \"2000\", \"membre\", \"porte\", \"d\\u00e9clar\\u00e9\", \"donn\\u00e9\", \"toutes\", \"INFOS\", \"aussi\", \"cet\", \"lieu\", \"service\", \"article\", \"Paris\", \"France\", \"2016\", \"social\", \"fait\", \"chroniques\", \"pr\\u00e9c\\u00e9dents\", \"lire\", \"var\", \"exports\", \"podcasts\", \"sound\", \"Identifiez\", \"Parisien\", \"Cet\", \"jours\", \"\\u00e9dition\", \"reste\", \"actuel\", \"tour\", \"Figaro\", \"grande\", \"04102016\", \"publi\\u00e9\", \"Votre\", \"heureux\", \"suffit\", \"Telegram\", \"quel\", \"Twitter\", \"extrait\", \"Selon\", \"appuyer\", \"enfants\", \"cha\\u00eene\", \"pourrait\", \"\\u00e9galement\", \"article\", \"monde\", \"semaine\", \"plus\", \"Les\", \"Paris\", \"deux\", \"entre\", \"000\", \"aussi\", \"AFP\", \"30092016\", \"01102016\", \"Avec\", \"passe\", \"ouragan\", \"Matthew\", \"guerre\", \"propres\", \"04102016\", \"venir\", \"extrait\", \"plein\", \"gaz\", \"TF1\", \"Lyon\", \"naturel\", \"Chine\", \"France\", \"faut\", \"film\", \"part\", \"2016\", \"000\", \"main\", \"Paris\", \"reste\", \"d\\u00e9nonce\", \"dernier\", \"sociaux\", \"octobre\", \"titre\", \"insiste\", \"d\\u00e9veloppement\", \"faire\", \"Pour\", \"tard\", \"approfondir\", \"savoir\", \"veut\", \"Nice\", \"Ligue\", \"Bordeaux\", \"03102016\", \"Malaisie\", \"Fraude\", \"Pour\", \"majorit\\u00e9\", \"Mais\", \"Etat\", \"grand\", \"Etienne\", \"r\\u00e9cup\\u00e9rer\", \"faut\", \"Lyon\", \"impression\", \"celui\", \"Cour\", \"rendez\", \"Facebook\", \"experts\", \"quelques\", \"plus\", \"moment\", \"club\", \"secr\\u00e9taire\", \"AFP\", \"site\", \"dimanche\", \"bien\", \"2016\", \"pr\\u00e9sident\", \"Paris\", \"faire\", \"Partager\", \"octobre\", \"avoir\", \"annonce\", \"R\\u00e9solution\", \"leurs\", \"sans\", \"important\", \"Bruxelles\", \"Fran\\u00e7ais\", \"Des\", \"certain\", \"pr\\u00e8s\", \"montr\\u00e9\", \"r\\u00e9alis\\u00e9\", \"Maroc\", \"venir\", \"d\\u00e9tention\", \"majorit\\u00e9\", \"Malaisie\", \"janvier\", \"petit\", \"quelques\", \"infos\", \"tant\", \"2012\", \"mercredi\", \"chaque\", \"Midi\", \"Etat\", \"alors\", \"peuvent\", \"actualit\\u00e9\", \"vid\\u00e9o\", \"fois\", \"Minutes\", \"Plus\", \"plus\", \"Fraude\", \"premier\", \"trois\", \"avoir\", \"Les\", \"mois\", \"2016\", \"ans\", \"liste\", \"direct\", \"similaires\", \"Vid\\u00e9o\", \"vid\\u00e9os\", \"secondes\", \"Derni\\u00e8res\", \"r\\u00e9cup\\u00e9rer\", \"longue\", \"1er\", \"suivante\", \"lanc\\u00e9\", \"Seine\", \"donner\", \"Charles\", \"Web\", \"appel\", \"services\", \"journ\\u00e9e\", \"2017\", \"sortie\", \"participer\", \"gauche\", \"Philippe\", \"Voici\", \"TF1\", \"bien\", \"euros\", \"Oise\", \"Val\", \"ans\", \"septembre\", \"avoir\", \"social\", \"2016\", \"sans\", \"Sur\", \"Rebloguer\", \"Publicit\\u00e9\", \"Quentin\", \"leparisienfr\", \"ph\\u00e9nom\\u00e8ne\", \"Twitter\", \"Etienne\", \"cas\", \"dollars\", \"Afrique\", \"victoire\", \"proche\", \"devant\", \"Plus\", \"sortie\", \"d\\u00e9j\\u00e0\", \"alors\", \"actualit\\u00e9\", \"Saint\", \"commerce\", \"millions\", \"extrait\", \"issue\", \"critiques\", \"Une\", \"prochaine\", \"collaboration\", \"recommande\", \"montr\\u00e9\", \"devrait\", \"apr\\u00e8s\", \"d\\u00e9cembre\", \"urgence\", \"enqu\\u00eate\", \"sous\", \"Publi\\u00e9\", \"titre\", \"Suite\", \"2016\", \"saison\", \"lundi\", \"Clinton\", \"peuvent\", \"Mis\", \"The\", \"propose\", \"fin\", \"chez\", \"Web\", \"grand\", \"jour\", \"Pas\", \"r\\u00e9alis\\u00e9\", \"remport\\u00e9\", \"veut\", \"mercredi\", \"Philippe\", \"mardi\", \"Selon\", \"lemondefr\", \"newsletters\", \"City\", \"longue\", \"Livraison\", \"s\\u00e9rie\", \"naturel\", \"moment\", \"nouvelle\", \"donner\", \"articles\", \"USA\", \"enqu\\u00eate\", \"sous\", \"30092016\", \"int\\u00e9resser\", \"aussi\", \"Les\", \"raison\", \"peut\", \"\\u00eatre\", \"toute\", \"droits\", \"Pour\", \"contre\", \"AUSSI\", \"LIRE\", \"bande\", \"r\\u00e9agir\", \"jeune\", \"mobile\", \"contact\", \"Voici\", \"maison\", \"autour\", \"annonce\", \"film\", \"troisi\\u00e8me\", \"hommes\", \"lanc\\u00e9\", \"Seine\", \"bord\", \"face\", \"T\\u00e9l\\u00e9chargez\", \"gratuitement\", \"Mon\", \"propres\", \"dollars\", \"Minutes\", \"issue\", \"quand\", \"application\", \"sommet\", \"am\\u00e9ricain\", \"pris\", \"vendredi\", \"Lire\", \"lors\", \"suite\", \"millions\", \"fait\", \"avoir\", \"ans\", \"homme\", \"premier\", \"europ\\u00e9en\", \"personnalis\\u00e9es\", \"Connexion\", \"Cr\\u00e9ez\", \"connectez\", \"porteparole\", \"projet\", \"moment\", \"recommandations\", \"essentiel\", \"proc\\u00e9dure\", \"contact\", \"participer\", \"jeune\", \"Maroc\", \"Pas\", \"campagne\", \"Clinton\", \"Henry\", \"derni\\u00e8re\", \"engagement\", \"paix\", \"voie\", \"prises\", \"compte\", \"monde\", \"centre\", \"m\\u00e9moire\", \"pr\\u00e9sidentielle\", \"accueil\", \"Inscrivez\", \"dimanche\", \"comme\", \"plus\", \"raison\", \"deux\", \"Lire\", \"contre\", \"pays\", \"ainsi\", \"Les\", \"instamment\", \"r\\u00e9gions\", \"afin\", \"groupe\", \"accord\", \"gouvernement\", \"novembre\", \"toutes\", \"Cordialement\", \"cl\\u00e9s\", \"Mots\", \"City\", \"Mondefr\", \"INFOS\", \"lemondefr\", \"newsletters\", \"Henry\", \"club\", \"temps\", \"lieu\", \"proc\\u00e9dure\", \"commerce\", \"Mais\", \"Etat\", \"derni\\u00e8re\", \"Inscrivez\", \"quand\", \"s\\u00e9rie\", \"international\", \"2000\", \"Ligue\", \"services\", \"appel\", \"vendredi\", \"Charles\", \"selon\", \"samedi\", \"candidats\", \"contre\", \"2014\", \"article\", \"vue\", \"compte\", \"cet\", \"soci\\u00e9t\\u00e9\", \"entre\", \"cette\", \"notamment\", \"septembre\", \"s\\u00e9curit\\u00e9\", \"r\\u00e8glement\", \"France\", \"Dossier\", \"Notre\", \"Modifi\\u00e9\", \"Post\\u00e9\", \"deal\", \"cha\\u00eene\", \"Voir\", \"derni\\u00e8res\", \"100\", \"Livraison\", \"ao\\u00fbt\", \"mois\", \"remport\\u00e9\", \"WTA\", \"pratique\", \"donc\", \"Cet\", \"deux\", \"dur\", \"mis\", \"milliards\", \"Premier\", \"quatre\", \"possible\", \"d\\u00e8s\", \"Etats\", \"Unis\", \"toujours\", \"premier\", \"donn\\u00e9\", \"dont\", \"Sur\", \"2015\", \"plus\", \"Partager\", \"jour\", \"depuis\", \"2016\", \"ans\", \"Exp\\u00e9diteur\", \"Eurosport\", \"disponible\", \"CANALSAT\", \"uniquement\", \"attentat\", \"Telegram\", \"T\\u00e9l\\u00e9chargez\", \"gratuitement\", \"ligne\", \"d\\u00e9j\\u00e0\", \"Minutes\", \"chef\", \"03102016\", \"Mon\", \"Philippe\", \"nom\", \"application\", \"recommande\", \"femme\", \"club\", \"contr\\u00f4le\", \"entreprise\", \"victoire\", \"face\", \"nouveau\", \"faire\", \"01102016\", \"mati\\u00e8re\", \"Metz\", \"avant\", \"Les\", \"lors\", \"raison\", \"pays\", \"tout\", \"encore\", \"contre\", \"depuis\"], \"Freq\": [61.0, 155.0, 87.0, 81.0, 72.0, 28.0, 86.0, 59.0, 61.0, 60.0, 78.0, 59.0, 59.0, 59.0, 77.0, 77.0, 77.0, 77.0, 82.0, 69.0, 27.0, 25.0, 28.0, 29.0, 24.0, 21.0, 28.0, 72.0, 27.0, 13.0, 71.79117683265342, 71.08414510405747, 71.06778624306362, 71.06575835107122, 71.04972682697378, 141.95069899409526, 6.7494797235046455, 2.5831317140622274, 3.02432047475722, 1.9717624469805222, 1.959106210385455, 1.9142210116960405, 1.9488909040693851, 3.0376761694232406, 1.3082231135494335, 5.791180500703154, 1.3109916302194284, 2.261617023301876, 2.593577802870051, 2.45678042053104, 1.9585643081453588, 1.1567883828577656, 2.6344562432607423, 1.8767944536455208, 1.7249706361474855, 2.2098825744990895, 9.1363749641247, 2.8155673569406683, 1.3728645410058955, 1.325645569962033, 6.974752376828222, 4.621254481447252, 9.826444054829455, 16.329079324143486, 16.32811228312939, 16.304919266444603, 5.1978728951625595, 16.18983639587564, 19.08680285836183, 16.370252916629035, 4.697553418672305, 16.29291558293838, 4.430758379432398, 15.189327180079687, 13.489946704596196, 6.281803619615552, 11.108289353307901, 11.289139994640378, 10.92738182720989, 5.99580548110505, 4.6662328663644175, 5.869114625442752, 5.235358957671764, 5.096892955543727, 10.917396415937272, 13.70046486016559, 5.219267031647769, 11.579650498613123, 10.353522165777777, 7.755949681933213, 4.569341409048678, 16.510549738437717, 5.701949714867751, 4.63567150835274, 3.8246148804642996, 5.746942571439148, 5.616857514566329, 5.46551303926353, 4.642010471300011, 4.778129637959907, 22.798265630240323, 3.509868863448944, 3.530272710245597, 5.847218441903056, 4.937248612391969, 2.3666563767689452, 6.3971195120093265, 6.16565219076438, 4.906692411816533, 9.790525297884209, 35.17168336914118, 6.3225925804174885, 13.625658355919525, 20.873449544364373, 24.89001434967704, 16.619259879667016, 15.100420960640255, 8.055942045235625, 35.964261929952244, 13.475236371236438, 13.502178450850929, 8.46930855527022, 13.00557612276683, 11.722834327450414, 9.532684956257134, 14.350530764787992, 11.275369371827775, 10.742421607301708, 11.425582172716387, 11.723930807434725, 8.187507250948023, 10.54939156044348, 8.349035804586114, 8.86946724017735, 7.178711831611655, 7.178711831611655, 3.5953279826793008, 19.341044451267027, 19.341046846681166, 14.88540407968173, 65.23612895141319, 2.4069926719337067, 2.407066929771993, 8.233638444474298, 41.145372309583266, 41.093305587873836, 41.092831295874454, 41.522338632522754, 2.400866999128617, 55.186734252039656, 41.964699761437004, 46.4983563760916, 2.400866999128617, 2.4074245950455135, 2.400866999128617, 43.58526449757227, 4.7958667307523095, 2.41606066186751, 2.400866999128617, 4.821214703736711, 2.400866999128617, 2.400866999128617, 3.5953279826793008, 1.2220688052044677, 9.428100326305284, 4.332375054870849, 2.5346969904731362, 2.4454338288845068, 2.530805939632285, 2.426609466878915, 3.4476253460143256, 6.168909934487833, 4.827617271741771, 3.338210662177734, 4.274801268990555, 6.959261760714367, 40.66207017908116, 2.371814270029623, 7.362717699068617, 4.797671120178194, 2.41059241837924, 9.914738924865109, 4.258252520137274, 2.0114550583787305, 7.689212258457699, 1.8992563313314705, 3.9629766757018863, 11.352507714862144, 2.6413056746490042, 6.1070990668748335, 6.815456220784314, 10.410565786866195, 4.093940400987878, 4.672166081547852, 10.528971594420735, 4.1849759241891, 3.3380180824249135, 1.2860347054781525, 3.2960976292352617, 3.6814515228895393, 9.974324727822282, 7.19787937608757, 11.270826775757431, 21.453561673734104, 5.426189500458886, 9.587753874791026, 7.344716916961676, 4.649707485021751, 8.667499320179603, 5.462060869910298, 5.208920661674755, 4.949550543641986, 4.9602310348160135, 4.906791961668932, 4.799046754421933, 4.544624489428176, 4.595920773776269, 4.7421559239086735, 22.4761636613753, 2.8255862277195605, 2.825586676873019, 4.516356599077288, 4.506473875535719, 4.505868865827475, 4.505692797671847, 4.503444335459916, 4.503090402534826, 4.500707194285425, 4.499421267934495, 4.498941572041099, 4.498741698752184, 21.92954569931576, 4.517929085334573, 1.926776259374071, 1.926746390669098, 4.518091678886455, 2.8255862277195605, 4.963094060861569, 1.926746390669098, 1.926746390669098, 3.926303700992481, 4.439642086717473, 2.045634840720182, 4.529627287154334, 1.0279059921768128, 1.0281455032584172, 1.0279059921768128, 4.2656912404910345, 2.3484136784517418, 4.096752497705053, 4.98944903833049, 4.541181310713999, 3.8060181591095534, 6.542388137112755, 2.8984461051007933, 3.1049165600104445, 4.359001074825758, 9.652129974093796, 2.41930395547642, 3.0899609447577476, 7.979713033222499, 6.307295686050014, 3.9940377621140204, 14.669380796707692, 10.46672890966302, 2.41930395547642, 8.478901983482304, 1.6807792287262477, 1.6807792287262477, 1.583095485040771, 1.583095485040771, 1.583095485040771, 1.583095485040771, 1.583095485040771, 1.5833610028656724, 1.583095485040771, 1.58878106068386, 1.6807792287262477, 1.583095485040771, 1.4976498377966112, 1.583095485040771, 1.5910450724662732, 1.6807792287262477, 2.7932678330226572, 1.6807792287262477, 1.583095485040771, 3.629477116060678, 2.7932678330226572, 2.41930395547642, 1.8366485526236425, 2.41930395547642, 3.229992648433782, 2.7237403552099373, 2.0924817824610615, 1.6693379904855243, 1.7335766457630613, 1.6929211333618335, 1.6882658359505638, 1.6878059030082708, 1.5995014190457286, 3.202406950268712, 3.063561824287161, 3.0302956185624637, 2.7454215533907202, 3.806765076848997, 2.8489787365564316, 5.9112183963710345, 2.5478464529417417, 2.7823625986053226, 2.099543811737905, 2.0682535117728427, 18.527019345978832, 2.03667949404131, 2.099543811737905, 2.5312559077443635, 2.2290945024131132, 2.540287854515713, 4.556858901459445, 3.277978252630594, 5.880362204429075, 1.909369776913153, 2.0375435436028333, 2.5643294631535065, 1.8748562050361484, 1.935137699037701, 2.2290945024131132, 1.7056387945478977, 3.338096658517434, 1.1200922471067758, 1.1206118672678846, 3.4901967611020277, 3.622282261696414, 2.7475365403771357, 14.480113567549004, 4.140928655813908, 3.6255479920713105, 2.3851489957693994, 4.892146637672482, 2.8547592380432243, 2.8269382309904, 2.3783883783620725, 2.5244823940749246, 2.7874717955162116, 2.787471465432889, 3.5139733047312296, 2.3352744783190174, 2.332975943104712, 18.1624968000435, 2.004922798354234, 4.912757826902749, 1.9007560937768089, 1.9007560937768089, 3.67418683708897, 1.9007560937768089, 1.8723667825239663, 2.9047566714854556, 5.4073612785893586, 1.339693665993656, 1.339693665993656, 6.839426781807416, 1.7216893573452723, 1.016279594774542, 3.5166499503911424, 0.9976345907562381, 1.0140404745582368, 1.0140404745582368, 1.0140404745582368, 1.0891995392994633, 1.1073939795829317, 1.0000815809447139, 1.090526886858956, 1.9022713412674772, 4.558808490232185, 2.156412558588921, 16.65169751222536, 2.9055485413754703, 1.9025208842590784, 2.638297569786925, 3.8396932555185685, 2.9040800006748966, 1.9292795839001353, 3.8666788874436544, 1.9171533128915992, 1.928004802109707, 3.219842240449623, 3.219842240449623, 7.662568820720811, 3.81754361318294, 3.81754361318294, 3.81754361318294, 3.81754361318294, 2.8466548148314255, 5.3146011057197615, 2.4706221769166055, 3.240823948050404, 2.4706221769166055, 3.7649683968464505, 1.5905683667248027, 2.5703780634757103, 2.4706221769166055, 2.636036831474178, 1.6166760288587356, 2.4830490730500943, 0.9622415064223259, 0.862485619863221, 0.862485619863221, 0.862485619863221, 0.8639990102608099, 0.862485619863221, 0.862485619863221, 0.862485619863221, 0.862485619863221, 0.862485619863221, 0.862485619863221, 1.6418578538964583, 1.7747537526091095, 6.421477482148857, 1.707996576317591, 1.7164319154178405, 4.876142828554113, 5.271765099748536, 1.7532565438690493, 1.5418560902560436, 1.6746354665366403, 1.2898807558406673, 1.627321016762287, 48.71662547909292, 7.149161983752262, 4.529074232423622, 2.698623298193125, 2.9257159929237067, 1.8401709385226905, 1.8401709385226905, 1.685063531535573, 0.9892386922967671, 1.685063531535573, 0.984171696928371, 0.9817186450900874, 0.9895384847204878, 1.8458760029184178, 0.9817186450900874, 0.9817186450900874, 0.9838432897615997, 1.0320560848617466, 3.1356859433543574, 0.9817186450900874, 0.9817186450900874, 0.9879259247214865, 15.829623925171063, 2.2270019919664192, 0.9862999846805958, 3.5772774015060076, 0.9817186450900874, 1.002832020002458, 0.9817186450900874, 0.9967379408244702, 2.9338910660424884, 1.084740728417534, 1.0190951297299091, 1.3379302675238207, 1.0080720948236122, 0.9817186450900874, 3.4547414142665898, 2.3378910360820395, 7.617603982019898, 1.6799765280456025, 2.567358905327373, 2.4749793517849787, 1.7836383347700837, 1.6799765280456025, 1.0206996945861297, 8.677532263403329, 5.844745363960316, 0.9008999105829492, 0.8962560891457592, 0.8962560891457592, 1.7167770223940668, 0.8962560891457592, 0.8962560891457592, 1.0905924854862454, 0.8962560891457592, 0.8962560891457592, 0.9303745896606729, 0.9030279557122307, 0.8962560891457592, 2.9943635001118554, 0.9041440817111471, 0.9017742476821887, 14.825376239888715, 0.8962560891457592, 0.8962560891457592, 0.9060345509790256, 9.066760650506646, 1.8037508528589614, 1.6799765280456025, 1.9089031535302112, 4.822117216933122, 1.2974947951078375, 2.3290181141627273, 1.7108491458855195, 1.3084985927915216, 1.150155762312639, 1.0227435447786601, 0.9276422368540068, 0.9128625036175159, 0.9479010921941726, 0.940379831444766, 2.4869268454440356, 2.4370547445862862, 3.2237097496776013, 2.233832992443563, 2.215168340396821, 2.7954449790355143, 2.381067062981711, 1.6286294537404853, 1.6161231277146846, 1.629266319108956, 2.3932174398288693, 1.4698080152102704, 1.496409431976238, 3.4050979478313685, 1.6248961050287603, 1.7224121929910605, 1.2439564966485104, 1.5181788026942746, 1.120113895013406, 2.1976278759873638, 1.0766767879829129, 0.8621906757146028, 0.8621906757146028, 1.146919887785461, 0.8621906757146028, 1.6161231277146846, 1.2439564966485104, 2.529596825131575, 0.9077436738138053, 2.469777232317773, 11.306100428242498, 5.011541689269544, 1.6151589407364744, 1.905563404942973, 2.4993033670135776, 3.622597144406585, 1.7158448456774378, 2.0596524056787, 1.4503016603499852, 2.851475267962852, 2.6496225443710584, 4.297800512856225, 4.297800512856225, 6.377599858085948, 4.649717266334282, 1.9854457623851471, 1.870055096683073, 1.87005522681392, 1.87005522681392, 4.213555884599451, 1.439382764205714, 1.87005522681392, 1.840533742862615, 1.87005522681392, 1.87005522681392, 1.6928646410846113, 1.65965941311632, 1.870055096683073, 1.738362679515126, 1.9854457623851471, 0.9988840562748202, 2.427196133867948, 0.9976617372289126, 0.9976617372289126, 0.9976617372289126, 3.556587961145015, 3.5053478990904536, 0.9976617372289126, 0.9976617372289126, 3.169099680376748, 2.8606690123036778, 2.1524788547207194, 1.8725111862894244, 3.4479271423265945, 2.110181254341419, 1.87005522681392, 4.349064191832335, 25.550480792935705, 2.591365199856569, 5.391464057368418, 2.233692201574551, 1.7670324937180861, 1.7670326157757017, 3.199411078977187, 2.1716942563557113, 3.002426199159811, 1.78482263529295, 1.7061071908242915, 1.2875647920363789, 3.742798645091451, 1.8760658293016548, 3.2114232571493466, 1.37424095624579, 1.8760660734168857, 1.7670326157757017, 0.9427188895964294, 2.3944147402867655, 0.9426998486084108, 0.9426998486084108, 1.2915679156520468, 2.700398779555369, 0.9427138852341937, 0.9427154109543875, 0.9427290203785161, 0.9426998486084108, 1.1915115515159127, 1.7177865178789733, 1.7922957348597661, 1.2220335229639447, 1.3656656764109774, 1.3197472352857205, 1.25008956440596, 1.325257282222394, 1.4668901319274796, 1.545864460598621, 9.20642962706108, 5.3054579195797675, 1.74120387403306, 1.7212058498141833, 4.780857908888003, 2.2599564766038585, 1.340233249305015, 1.8488129622156193, 2.342312169855073, 1.6974610631840936, 2.246878608157878, 5.414945568299233, 0.9289204675400337, 0.9290432347665412, 0.9296631608820346, 0.9289204675400337, 2.1418561121755313, 0.9289204675400337, 1.340233249305015, 0.9289204675400337, 0.9289204675400337, 0.9289204675400337, 0.9289204675400337, 0.9289204675400337, 0.9289204675400337, 0.9289204675400337, 0.9290349250701712, 0.9289204675400337, 1.340233249305015, 0.9297308905990229, 2.0833726967863844, 3.6880902632680206, 1.8526126562543948, 1.7425434426204869, 1.848643694838877, 3.016097866949307, 3.2230218280225937, 1.4901845660880957, 1.5656261366336417, 1.3983516072111675, 1.3995427395785056, 1.1243314012084142, 1.0542492433271469, 0.990572153875293, 0.9386774739716279, 5.750321118117354, 5.750321118117354, 2.4981769832429985, 3.2607788124161514, 1.7355751540698454, 2.2595195419193033, 1.6347067449789736, 1.6347067449789736, 1.6347067449789736, 1.5975568300420901, 3.2676357495224395, 1.6347067449789736, 1.0686118721948195, 1.4925312516253908, 1.231875406450842, 1.6347067449789736, 1.6347067449789736, 2.285661614637027, 1.0458068969240162, 1.0458068969240162, 0.8721049158058206, 0.8723218951821836, 1.120408273049055, 1.036243387805953, 0.8721049158058206, 0.8763320175090473, 1.362814413812363, 0.8725188938792896, 0.8721049158058206, 0.8723566723644578, 1.7355751540698454, 3.2607788124161514, 2.007546975938797, 2.0338892874637766, 1.237024805508201, 1.8790271428187664, 1.6452531955128056, 1.4284034235558143, 1.3319495565403334, 1.0732991235411495, 1.0816334428720615, 2.4596487004393692, 2.459648521921821, 2.459648521921821, 2.459648521921821, 1.786102882845459, 2.176904752482584, 1.7807073684620691, 2.47647612158836, 0.8988415688468977, 0.8947833294187081, 0.8947833294187081, 0.8947833294187081, 0.8947833294187081, 0.8947833294187081, 0.8947833294187081, 1.681137063621269, 0.8947833294187081, 0.8947833294187081, 0.8947833294187081, 0.8980084274484302, 1.7856897932384195, 0.9035105168082258, 0.9053696878162266, 2.474766994579805, 1.7896221777949741, 1.6911783186846927, 0.8989547489725949, 0.9059290725541949, 0.8989515356567233, 0.8947833294187081, 1.6772161041878129, 2.058298764418861, 3.0957267194186344, 1.2507564253594539, 1.0057874154593676, 0.9982747722105126, 0.9716782460006614, 0.9668106972667182, 0.9619277067648367, 0.9982747722105126, 0.9333780200577426, 0.9197482944947917, 0.9544869168292202, 0.9284828011037946, 0.9415876850743962, 0.9283554288329983, 0.9181078074836031, 0.9235321524510626, 2.6738559346398167, 4.48750805572687, 3.636933959000483, 1.9357868184360552, 2.5449048381290007, 4.579784945317031, 1.6683372093605446, 1.6683372093605446, 1.4034104085063765, 1.6683372093605446, 1.747467033118063, 2.7904585811295815, 0.9765022630507915, 0.9762191238260055, 0.9727087940753892, 0.9727087940753892, 0.9727087940753892, 1.4285561899473038, 0.9750304128816606, 0.9727087940753892, 0.9755848463373231, 0.9727087940753892, 1.6670863780036964, 0.9727087940753892, 0.9727087940753892, 1.823282364357603, 0.9727087940753892, 1.9357868184360552, 0.9727087940753892, 0.9727087940753892, 4.844513013495606, 1.6157164819725947, 1.3453974011873222, 0.9845779166762345, 0.9909103381609745, 0.9875695234343081, 0.9833607777465067, 0.9904374158115488, 0.9866798327806576, 0.9848942218839672, 0.9846373171271735, 0.9822068121176298, 0.9788291462988005, 0.9784329970580479, 3.0612494413176026, 3.0612494413176026, 3.5150831181916447, 2.5968985561534037, 2.5968985561534037, 2.044223080722435, 2.5968985561534037, 1.8423550840353995, 2.9424430551735536, 1.6473370558098843, 3.236052800803898, 5.802576089592322, 1.027980369444052, 1.0271966359815234, 1.0293074319776079, 1.7149816513713847, 1.0271966359815234, 4.194277946981854, 1.0271966359815234, 1.0280885808712381, 1.1020709497486274, 1.0271966359815234, 1.0715104776004154, 1.0732468250343081, 1.1146550299563378, 1.0271966359815234, 1.1255661244756228, 1.1434146148847693, 1.107829211323435, 1.0271966359815234, 1.0730440337905145, 2.1630294668664845, 2.0813130101920807, 2.1699605518255223, 1.3894999380219701, 1.191075269337955, 1.103286014296503, 1.165509015406191, 1.0825061385927346, 7.183322953108949, 3.219455334516034, 3.219455334516034, 3.219455334516034, 3.778572819379687, 2.3669274286386055, 1.6139900562867389, 1.4424893903013964, 1.4424893903013964, 3.4186354709145306, 4.085877728996223, 1.40643900973169, 0.8700571358668181, 1.477947565583197, 0.861052839043643, 0.861052839043643, 1.6245839853501196, 1.4126835337457841, 0.8812266735796016, 0.8612257853233747, 0.861052839043643, 0.8819089195091079, 1.684039659037658, 0.861571832991609, 0.8612728608353913, 0.8889041699751314, 1.7467791405173025, 0.861052839043643, 0.8306079343512647, 0.861052839043643, 0.8743193697867688, 1.7306790051900716, 0.907469914327128, 1.0044267784744805, 0.8988592835649027, 0.8740316430164531, 0.8690483084198455, 0.8687492587092422, 0.8685949254820378], \"Total\": [61.0, 155.0, 87.0, 81.0, 72.0, 28.0, 86.0, 59.0, 61.0, 60.0, 78.0, 59.0, 59.0, 59.0, 77.0, 77.0, 77.0, 77.0, 82.0, 69.0, 27.0, 25.0, 28.0, 29.0, 24.0, 21.0, 28.0, 72.0, 27.0, 13.0, 78.3945296725054, 77.68886523673763, 77.6998581131011, 77.70308126120094, 77.71454691972559, 155.32756383889878, 8.573162239567319, 3.996244474197926, 4.963698480993009, 3.2782085167507096, 3.405349989048721, 3.388241651807431, 3.5889945432199704, 5.825239135393059, 2.514444958710988, 11.139719680622358, 2.5449487886179827, 4.42797333484191, 5.12945486664345, 4.936853657239797, 4.077939897493425, 2.553348400374384, 6.032841632882929, 4.304221893171868, 3.973311982925496, 5.256040185341413, 21.791334128662214, 6.9369692007502595, 3.397786947487398, 3.3727477525783676, 17.969306852561044, 11.927680678911965, 27.58353222090927, 59.01387994739038, 59.0143544976864, 59.03296016354096, 14.878211973098884, 61.91393261330535, 82.80948966289132, 69.00883878094248, 13.316090522439653, 87.34180339871413, 12.563428049387182, 86.65043811326228, 81.13336081254202, 23.219486705426473, 60.13567301820863, 72.36023847903692, 72.23063065191587, 26.11165986490666, 17.442352957631243, 52.7638879208123, 31.54329711416379, 33.212400052068084, 11.952646925648912, 16.691545970059387, 6.492682813135743, 14.927358795819236, 13.428636664070712, 10.076610238475064, 6.024736619591962, 21.8768808652462, 7.57637301763881, 6.162758016551723, 5.128968628661477, 7.725922789687862, 7.558713398282069, 7.386727221471812, 6.276972767902143, 6.529286095891897, 31.438589096370606, 4.917637818700344, 5.024531011113763, 8.456210626778537, 7.1510831190001465, 3.510418724934339, 9.514683781797006, 9.184177321437616, 7.356386453545943, 14.683481961504096, 52.7638879208123, 9.50790757785188, 20.51819256307683, 31.54329711416379, 39.08484010718521, 26.279327008318226, 24.733845667650517, 12.449602720267645, 72.36023847903692, 23.268979061169514, 24.614119612766185, 13.810681722283384, 24.336439610918028, 23.219486705426473, 17.442352957631243, 33.212400052068084, 23.622090290319157, 22.532467133668995, 26.28296662702285, 27.58353222090927, 15.889980281137461, 28.200417817983922, 20.901336510310067, 26.11165986490666, 7.361701279637352, 7.361701279637352, 3.7783174307049987, 21.20096481481512, 22.03688380426318, 18.270091509799077, 81.13336081254202, 3.3106175770859925, 3.3133058567947606, 11.557375624435197, 59.03296016354096, 59.01387994739038, 59.0143544976864, 61.91393261330535, 3.692858671460022, 86.65043811326228, 69.00883878094248, 82.80948966289132, 4.381862973398188, 4.4299409858586944, 4.580240937655822, 87.34180339871413, 9.775521027839115, 5.083241059332591, 5.1456950486193795, 11.041628149450679, 5.653994536932041, 5.721584162068977, 8.813216519828561, 3.122001874596551, 24.631577065142643, 155.32756383889878, 21.791334128662214, 9.184177321437616, 72.23063065191587, 9.994692918318323, 3.9044241292639708, 7.415647724951764, 5.975666847504121, 4.558984029416309, 5.994153223990755, 10.063643389212329, 60.13567301820863, 3.53147186970771, 11.301358515856425, 7.652014463115934, 3.8697104859885623, 16.131164600541723, 6.9479334545616664, 3.4184307249242734, 13.20683018875247, 3.483167269768369, 7.398645614095031, 21.350644257398713, 5.157268872922092, 12.10101537947726, 13.50504627563632, 20.740088747584316, 8.431989565357407, 9.648693972110495, 22.106726445318973, 9.289381962175685, 7.866917569438125, 3.1539624943519935, 8.211030437382497, 9.257975277031552, 26.11165986490666, 19.484118544944575, 33.212400052068084, 72.36023847903692, 15.889980281137461, 39.08484010718521, 26.28296662702285, 13.253629571866178, 52.7638879208123, 23.268979061169514, 24.614119612766185, 20.51819256307683, 29.763186282623757, 31.438589096370606, 27.183049235058462, 18.122351771701467, 72.23063065191587, 5.264998937928748, 25.292816103356675, 3.1936672825599364, 3.250745896882331, 5.229634590129343, 5.221543460285192, 5.22103883025421, 5.220891572112391, 5.2190044724378195, 5.218705957396003, 5.216685271111303, 5.215587474373278, 5.215176398357323, 5.215004942845373, 28.31521708699076, 6.490810514618771, 2.9413904268512057, 3.0301675781037365, 7.56403404374574, 4.866084425788269, 8.62161465406172, 3.3692493346186048, 3.5753424139070584, 7.6014445602843, 9.299068551464657, 4.841364695238839, 11.6990085193241, 2.885079906886291, 2.9435916166738996, 2.9863321568131505, 13.568912131073663, 8.057794015378317, 16.25657536926366, 24.336439610918028, 24.027118245875307, 17.06822689821012, 82.80948966289132, 10.96505551963164, 17.801131090400954, 69.00883878094248, 10.259981129620396, 2.7172575596436417, 3.534671557962795, 9.50217720087303, 8.684832568195569, 5.515304974058718, 21.3750551232504, 15.921875015196616, 3.8277519763277965, 13.568912131073663, 2.7210053364316136, 2.885079906886291, 2.7346220559699943, 2.7348359733294263, 2.8995581085308046, 2.9915483246727352, 3.1539624943519935, 3.5845658299107095, 3.597995761797797, 3.627495157167804, 4.049596280337218, 3.84241639657557, 3.7379391322113578, 4.008663526227461, 4.077939897493425, 4.565370262280212, 7.6014445602843, 4.866084425788269, 4.780784209487252, 10.96505551963164, 8.62161465406172, 7.4614125215081035, 5.582291609083293, 10.160629505279628, 59.170796281243895, 82.80948966289132, 69.00883878094248, 6.645317960633188, 16.075278758149775, 10.089638574040082, 10.895984596641684, 11.287895904901982, 11.437810938130925, 3.513274826925367, 3.439274832413106, 3.4408576741544383, 3.3263839963612853, 4.678920215227732, 3.521991271220449, 7.7175054729628085, 3.576066126041098, 4.2257324267666645, 3.2782099144684187, 3.2602725760295743, 29.763186282623757, 3.2894888579992814, 3.3921349245981545, 4.156575217728698, 4.263398818870454, 5.045022687176926, 9.405283539758177, 6.87787534323949, 12.398214668303902, 4.0975318516907215, 4.399533458341924, 6.383240886676479, 4.67963059450497, 4.896137217069245, 5.721584162068977, 4.42797333484191, 8.813216519828561, 2.9915483246727352, 3.0065949849041624, 9.914326585397108, 11.060626376718314, 8.13127809027103, 72.23063065191587, 14.495994816537138, 17.801131090400954, 6.932319150537486, 59.170796281243895, 24.027118245875307, 22.684835724454313, 9.994692918318323, 82.80948966289132, 3.2140405693651486, 3.231340247753385, 4.334557898459041, 3.084337176798357, 3.084823825826415, 27.703399888831186, 3.061571372831582, 7.586296033462401, 3.022052150836059, 3.0393521926590585, 5.916683025928387, 3.072788283141348, 3.2686775762695572, 5.914696646832687, 11.549697051896267, 3.077351192237689, 3.077351192237689, 16.831524467284705, 4.660153827940363, 2.7851449602411704, 10.089638574040082, 2.9796162489913054, 3.1745024522603695, 3.325665458008415, 3.381179607153635, 3.6411350816269263, 3.752557701694211, 3.3921349245981545, 3.731462520718831, 6.58908436067786, 18.122351771701467, 8.135853476241138, 87.34180339871413, 11.76981555921655, 7.569441623617064, 13.20683018875247, 27.183049235058462, 22.684835724454313, 11.933925916227041, 72.23063065191587, 13.072811242297833, 22.532467133668995, 3.6083774724270374, 3.6083774724270374, 8.937595585657869, 4.497748796500297, 4.497748806194595, 4.497748806194595, 4.497748806194595, 3.702244454934025, 7.1869693604034355, 3.7777049489283643, 5.067492507880823, 3.869680784348728, 6.790161837334694, 2.9435916166738996, 5.1456950486193795, 5.009573448230338, 7.521079083422972, 4.815126263840619, 7.398645614095031, 3.0393521926590585, 2.7346220559699943, 2.7348359733294263, 2.7368008429692487, 2.7851449602411704, 2.946113026302186, 2.954245061894419, 2.9863321568131505, 3.022052150836059, 3.061571372831582, 3.0829330340057055, 5.882406741817431, 6.3778948831445925, 27.183049235058462, 8.176373556151566, 8.813216519828561, 59.170796281243895, 86.65043811326228, 22.684835724454313, 15.628896073129878, 20.901336510310067, 10.249201377397716, 87.34180339871413, 61.46335894629735, 9.766684934745179, 6.9065562994961285, 4.209005769896528, 4.801084794279956, 3.3023020511879935, 3.320714642982061, 3.1009395967805307, 2.762822852719634, 4.815126263840619, 2.8952807331497645, 2.954245061894419, 3.0065949849041624, 5.622512593146411, 2.990925186669091, 3.0720436882460755, 3.4103094442014026, 3.84241639657557, 11.933925916227041, 3.7379391322113578, 3.777957279724013, 4.399571275343714, 72.23063065191587, 10.249201377397716, 4.638618471467464, 22.684835724454313, 6.790161837334694, 7.57637301763881, 7.4699011019357195, 7.725922789687862, 29.763186282623757, 11.437810938130925, 8.694459458412728, 60.13567301820863, 13.712326788687333, 17.06822689821012, 3.723257495036792, 2.883297159757968, 10.423638034809496, 2.9252939770727258, 4.565370262280212, 6.2955023942114146, 4.841364695238839, 4.634936612616055, 2.8341668175056673, 24.631577065142643, 17.06822689821012, 2.768196697468671, 2.881602910475797, 2.8990484734776323, 5.664419341144585, 2.999234153654879, 3.0249494274454505, 3.7379391322113578, 3.0720436882460755, 3.072788283141348, 3.2894888579992814, 3.2602725760295743, 3.2782099144684187, 10.96505551963164, 3.3727477525783676, 3.5189183494134983, 59.170796281243895, 3.7738876880799217, 3.8257679261634965, 4.156575217728698, 61.46335894629735, 9.547158518187466, 9.085816202191356, 10.895984596641684, 72.23063065191587, 6.7880601362287925, 22.684835724454313, 13.712326788687333, 15.921875015196616, 29.763186282623757, 16.25657536926366, 6.90849353723695, 4.352081991600379, 16.691545970059387, 24.336439610918028, 2.779682657559641, 2.7528856424647428, 3.7088601040084432, 2.7688745634895393, 2.8146510118248735, 3.5525100709767705, 3.752570656848769, 2.8438821768575178, 2.82797873016203, 2.8952807331497645, 4.264818328660475, 2.768196697468671, 2.8341668175056673, 6.502241980278203, 3.122001874596551, 3.5189183494134983, 2.8291492125895, 4.593140981391615, 3.4184307249242734, 6.758365669989587, 3.382468336403649, 2.7210053364316136, 2.8990484734776323, 3.875437232821961, 2.9261025890532335, 5.495211315720847, 4.381862973398188, 9.976765475981951, 3.60211944887792, 10.160629505279628, 59.170796281243895, 24.631577065142643, 6.932319150537486, 10.120058354688176, 16.25657536926366, 86.65043811326228, 14.442307476129601, 72.23063065191587, 13.332718950698276, 3.1463064538234797, 3.1317112816446935, 6.0386740179362555, 6.038674095402301, 9.022226152025153, 6.980080546495643, 3.1745024522603695, 3.0249494274454505, 3.1235786301096637, 3.349328504610609, 8.057794015378317, 2.9623813658902187, 3.969461434179225, 3.9266023584696126, 4.021193652207797, 4.079252734318792, 3.8050548192190217, 3.791532361156568, 4.419010863218494, 4.163688001852519, 5.14623637388004, 2.801146276959028, 7.157310928893098, 2.9549687565154183, 2.957533934062599, 2.990925186669091, 10.895984596641684, 10.805705790907181, 3.077351192237689, 3.077351192237689, 13.332718950698276, 12.950919245405675, 16.25657536926366, 13.072811242297833, 72.23063065191587, 24.336439610918028, 28.31521708699076, 4.856684314781989, 28.910177160042945, 3.039846274150132, 6.801286490877206, 2.8751908481200084, 2.946113026302186, 2.999234153654879, 5.636853734152627, 3.8407752946308995, 6.035150559926353, 4.472980560654852, 4.4299409858586944, 3.483167269768369, 10.160629505279628, 5.14623637388004, 8.974231872244465, 3.875437232821961, 5.495211315720847, 5.215858946156465, 2.8233599583647417, 7.231737959873589, 2.954245061894419, 3.100772683749676, 4.325440468540403, 9.358899270017908, 3.397786947487398, 3.404541409328841, 3.4378306460741332, 3.752570656848769, 4.936853657239797, 9.775521027839115, 11.139719680622358, 5.762830768247042, 9.32165807738702, 8.864512994688514, 7.7175054729628085, 11.437810938130925, 18.270091509799077, 72.23063065191587, 13.336402197233108, 7.7421897875126975, 2.9126206580319565, 2.9261025890532335, 9.914326585397108, 4.7232464791485205, 3.150924449861441, 4.366425059179516, 5.582291609083293, 4.079252734318792, 5.664419341144585, 14.495994816537138, 2.8367899540581485, 2.8438821768575178, 2.862949200900046, 2.9252939770727258, 6.758365669989587, 2.9549687565154183, 4.2957621426715535, 2.9863321568131505, 3.005581331116897, 3.005581331116897, 3.0408133327258917, 3.1235786301096637, 3.1372984979058853, 3.3510369976830403, 3.4103094442014026, 3.7738876880799217, 5.580766142732799, 3.9266023584696126, 9.074203652940799, 21.3750551232504, 9.32165807738702, 8.864512994688514, 9.766684934745179, 61.91393261330535, 87.34180339871413, 86.65043811326228, 155.32756383889878, 69.00883878094248, 82.80948966289132, 14.683481961504096, 31.54329711416379, 17.06822689821012, 28.200417817983922, 6.275334770272605, 6.275334770272605, 2.833220288378331, 4.516499426095517, 2.8077985995966097, 3.702714264135781, 2.7893860352418436, 2.957533934062599, 2.9796162489913054, 3.111721302186563, 6.90849353723695, 3.777957279724013, 2.553348400374384, 3.5845658299107095, 2.9623813658902187, 3.969461434179225, 3.9984754955955952, 5.626978740789648, 2.7485262140439692, 2.7485262140439692, 2.747140408149303, 2.762822852719634, 3.8407752946308995, 3.60211944887792, 3.100772683749676, 3.331754724212164, 5.271150836110425, 3.5345902949070274, 3.597995761797797, 3.608611656785124, 7.199704749636397, 27.703399888831186, 14.878211973098884, 16.831524467284705, 7.231737959873589, 22.532467133668995, 16.25657536926366, 13.332718950698276, 17.442352957631243, 6.932319150537486, 24.733845667650517, 2.844275783407324, 2.8442756048897757, 2.8442756048897757, 2.8442756048897757, 2.6957331775300406, 3.7617747690543317, 3.7738876880799217, 5.452512184919796, 2.5449487886179827, 2.7709929104350683, 2.7893860352418436, 2.801146276959028, 2.8077985995966097, 2.82797873016203, 2.8367899540581485, 5.388529888249551, 2.9126206580319565, 3.0296355990689667, 3.152938385922403, 3.2782085167507096, 6.859262855263132, 3.5706519922474453, 3.5788671808607355, 10.757153629852143, 8.176373556151566, 7.744869764059189, 4.2257324267666645, 4.304221893171868, 4.660153827940363, 4.69612665165354, 9.085816202191356, 16.075278758149775, 59.170796281243895, 155.32756383889878, 15.628896073129878, 27.703399888831186, 28.200417817983922, 26.279327008318226, 23.622090290319157, 86.65043811326228, 9.514683781797006, 6.276972767902143, 26.28296662702285, 10.842634679012948, 24.027118245875307, 13.316090522439653, 9.666314829366845, 18.122351771701467, 3.0870813140132674, 5.842446112575397, 4.892150311386715, 3.0408133327258917, 4.008323294746393, 8.135853476241138, 3.005581331116897, 3.005581331116897, 3.0296355990689667, 3.8257679261634965, 4.084770855446177, 7.569441623617064, 2.7709929104350683, 2.8233599583647417, 2.881602910475797, 2.8990484734776323, 3.152938385922403, 4.69612665165354, 3.331754724212164, 3.3510369976830403, 3.388241651807431, 3.6411350816269263, 6.2955023942114146, 3.791532361156568, 3.8050548192190217, 7.199704749636397, 4.021193652207797, 8.019419287863492, 4.263398818870454, 4.661236888728988, 28.200417817983922, 14.362195357412677, 27.183049235058462, 5.12945486664345, 10.757153629852143, 11.76981555921655, 9.50790757785188, 20.901336510310067, 17.801131090400954, 14.927358795819236, 12.950919245405675, 12.398214668303902, 6.055097094075534, 11.933925916227041, 3.246013236748297, 3.246013236748297, 4.207554563456868, 3.199727280428791, 3.199727296022203, 3.0829330340057055, 4.129485550990036, 3.2067862369162445, 5.473408685563769, 3.1372984979058853, 6.658260209638865, 14.442307476129601, 2.862949200900046, 2.8995581085308046, 3.405349989048721, 6.023401522295338, 3.7777049489283643, 15.628896073129878, 4.008663526227461, 4.399533458341924, 4.84749140123781, 4.780784209487252, 5.280226538618272, 6.044695927364495, 6.301654774834793, 5.940769502181835, 6.645317960633188, 7.073970167086906, 6.932319150537486, 6.58908436067786, 6.9479334545616664, 28.31521708699076, 27.58353222090927, 59.170796281243895, 15.921875015196616, 14.495994816537138, 10.866806892682629, 72.23063065191587, 13.332718950698276, 7.902109704236092, 3.6070393790079422, 3.607039390165289, 3.6070393917048547, 4.490885006995131, 3.5544564763457984, 2.7368008429692487, 2.7485262140439692, 2.7485262140439692, 7.4614125215081035, 8.974231872244465, 3.60211944887792, 2.514444958710988, 4.634936612616055, 2.747140408149303, 2.9549687565154183, 5.66809391582845, 5.271150836110425, 3.4378306460741332, 3.53147186970771, 3.8257679261634965, 3.996244474197926, 8.456210626778537, 4.472980560654852, 5.626978740789648, 6.388947888901919, 13.712326788687333, 6.9065562994961285, 6.84551658592869, 7.386727221471812, 8.13127809027103, 86.65043811326228, 14.878211973098884, 155.32756383889878, 26.279327008318226, 12.827436749713186, 11.287895904901982, 28.200417817983922, 10.866806892682629], \"Category\": [\"Default\", \"Default\", \"Default\", \"Default\", \"Default\", \"Default\", \"Default\", \"Default\", \"Default\", \"Default\", \"Default\", \"Default\", \"Default\", \"Default\", \"Default\", \"Default\", \"Default\", \"Default\", \"Default\", \"Default\", \"Default\", \"Default\", \"Default\", \"Default\", \"Default\", \"Default\", \"Default\", \"Default\", \"Default\", \"Default\", \"Topic1\", \"Topic1\", \"Topic1\", \"Topic1\", \"Topic1\", \"Topic1\", \"Topic1\", \"Topic1\", \"Topic1\", \"Topic1\", \"Topic1\", \"Topic1\", \"Topic1\", \"Topic1\", \"Topic1\", \"Topic1\", \"Topic1\", \"Topic1\", \"Topic1\", \"Topic1\", \"Topic1\", \"Topic1\", \"Topic1\", \"Topic1\", \"Topic1\", \"Topic1\", \"Topic1\", \"Topic1\", \"Topic1\", \"Topic1\", \"Topic1\", \"Topic1\", \"Topic1\", \"Topic1\", \"Topic1\", \"Topic1\", \"Topic1\", \"Topic1\", \"Topic1\", \"Topic1\", \"Topic1\", \"Topic1\", \"Topic1\", \"Topic1\", \"Topic1\", \"Topic1\", \"Topic1\", \"Topic1\", \"Topic1\", \"Topic1\", \"Topic1\", \"Topic1\", \"Topic1\", \"Topic1\", \"Topic2\", \"Topic2\", \"Topic2\", \"Topic2\", \"Topic2\", \"Topic2\", \"Topic2\", \"Topic2\", \"Topic2\", \"Topic2\", \"Topic2\", \"Topic2\", \"Topic2\", \"Topic2\", \"Topic2\", \"Topic2\", \"Topic2\", \"Topic2\", \"Topic2\", \"Topic2\", \"Topic2\", \"Topic2\", \"Topic2\", \"Topic2\", \"Topic2\", \"Topic2\", \"Topic2\", \"Topic2\", \"Topic2\", \"Topic2\", \"Topic2\", \"Topic2\", \"Topic2\", \"Topic2\", \"Topic2\", \"Topic2\", \"Topic2\", \"Topic2\", \"Topic2\", \"Topic2\", \"Topic2\", \"Topic2\", \"Topic2\", \"Topic2\", \"Topic2\", \"Topic2\", \"Topic2\", \"Topic2\", \"Topic2\", \"Topic2\", \"Topic3\", \"Topic3\", \"Topic3\", \"Topic3\", \"Topic3\", \"Topic3\", \"Topic3\", \"Topic3\", \"Topic3\", \"Topic3\", \"Topic3\", \"Topic3\", \"Topic3\", \"Topic3\", \"Topic3\", \"Topic3\", \"Topic3\", \"Topic3\", \"Topic3\", \"Topic3\", \"Topic3\", \"Topic3\", \"Topic3\", \"Topic3\", \"Topic3\", \"Topic3\", \"Topic3\", \"Topic3\", \"Topic3\", \"Topic3\", \"Topic3\", \"Topic3\", \"Topic3\", \"Topic3\", \"Topic3\", \"Topic3\", \"Topic4\", \"Topic4\", \"Topic4\", \"Topic4\", \"Topic4\", \"Topic4\", \"Topic4\", \"Topic4\", \"Topic4\", \"Topic4\", \"Topic4\", \"Topic4\", \"Topic4\", \"Topic4\", \"Topic4\", \"Topic4\", \"Topic4\", \"Topic4\", \"Topic4\", \"Topic4\", \"Topic4\", \"Topic4\", \"Topic4\", \"Topic4\", \"Topic4\", \"Topic4\", \"Topic4\", \"Topic4\", \"Topic4\", \"Topic4\", \"Topic4\", \"Topic4\", \"Topic4\", \"Topic4\", \"Topic4\", \"Topic4\", \"Topic4\", \"Topic4\", \"Topic4\", \"Topic4\", \"Topic4\", \"Topic4\", \"Topic4\", \"Topic4\", \"Topic4\", \"Topic4\", \"Topic4\", \"Topic5\", \"Topic5\", \"Topic5\", \"Topic5\", \"Topic5\", \"Topic5\", \"Topic5\", \"Topic5\", \"Topic5\", \"Topic5\", \"Topic5\", \"Topic5\", \"Topic5\", \"Topic5\", \"Topic5\", \"Topic5\", \"Topic5\", \"Topic5\", \"Topic5\", \"Topic5\", \"Topic5\", \"Topic5\", \"Topic5\", \"Topic5\", \"Topic5\", \"Topic5\", \"Topic5\", \"Topic5\", \"Topic5\", \"Topic5\", \"Topic5\", \"Topic5\", \"Topic5\", \"Topic5\", \"Topic5\", \"Topic5\", \"Topic5\", \"Topic5\", \"Topic5\", \"Topic5\", \"Topic6\", \"Topic6\", \"Topic6\", \"Topic6\", \"Topic6\", \"Topic6\", \"Topic6\", \"Topic6\", \"Topic6\", \"Topic6\", \"Topic6\", \"Topic6\", \"Topic6\", \"Topic6\", \"Topic6\", \"Topic6\", \"Topic6\", \"Topic6\", \"Topic6\", \"Topic6\", \"Topic6\", \"Topic6\", \"Topic6\", \"Topic6\", \"Topic6\", \"Topic6\", \"Topic6\", \"Topic6\", \"Topic6\", \"Topic6\", \"Topic6\", \"Topic6\", \"Topic6\", \"Topic6\", \"Topic6\", \"Topic6\", \"Topic6\", \"Topic6\", \"Topic6\", \"Topic6\", \"Topic6\", \"Topic6\", \"Topic6\", \"Topic7\", \"Topic7\", \"Topic7\", \"Topic7\", \"Topic7\", \"Topic7\", \"Topic7\", \"Topic7\", \"Topic7\", \"Topic7\", \"Topic7\", \"Topic7\", \"Topic7\", \"Topic7\", \"Topic7\", \"Topic7\", \"Topic7\", \"Topic7\", \"Topic7\", \"Topic7\", \"Topic7\", \"Topic7\", \"Topic7\", \"Topic7\", \"Topic7\", \"Topic7\", \"Topic7\", \"Topic7\", \"Topic7\", \"Topic7\", \"Topic7\", \"Topic7\", \"Topic7\", \"Topic7\", \"Topic7\", \"Topic7\", \"Topic7\", \"Topic7\", \"Topic7\", \"Topic7\", \"Topic7\", \"Topic7\", \"Topic8\", \"Topic8\", \"Topic8\", \"Topic8\", \"Topic8\", \"Topic8\", \"Topic8\", \"Topic8\", \"Topic8\", \"Topic8\", \"Topic8\", \"Topic8\", \"Topic8\", \"Topic8\", \"Topic8\", \"Topic8\", \"Topic8\", \"Topic8\", \"Topic8\", \"Topic8\", \"Topic8\", \"Topic8\", \"Topic8\", \"Topic8\", \"Topic8\", \"Topic8\", \"Topic8\", \"Topic8\", \"Topic8\", \"Topic8\", \"Topic8\", \"Topic8\", \"Topic8\", \"Topic8\", \"Topic8\", \"Topic8\", \"Topic8\", \"Topic8\", \"Topic8\", \"Topic8\", \"Topic8\", \"Topic8\", \"Topic9\", \"Topic9\", \"Topic9\", \"Topic9\", \"Topic9\", \"Topic9\", \"Topic9\", \"Topic9\", \"Topic9\", \"Topic9\", \"Topic9\", \"Topic9\", \"Topic9\", \"Topic9\", \"Topic9\", \"Topic9\", \"Topic9\", \"Topic9\", \"Topic9\", \"Topic9\", \"Topic9\", \"Topic9\", \"Topic9\", \"Topic9\", \"Topic9\", \"Topic9\", \"Topic9\", \"Topic9\", \"Topic9\", \"Topic9\", \"Topic9\", \"Topic9\", \"Topic9\", \"Topic9\", \"Topic9\", \"Topic9\", \"Topic9\", \"Topic9\", \"Topic9\", \"Topic9\", \"Topic9\", \"Topic9\", \"Topic10\", \"Topic10\", \"Topic10\", \"Topic10\", \"Topic10\", \"Topic10\", \"Topic10\", \"Topic10\", \"Topic10\", \"Topic10\", \"Topic10\", \"Topic10\", \"Topic10\", \"Topic10\", \"Topic10\", \"Topic10\", \"Topic10\", \"Topic10\", \"Topic10\", \"Topic10\", \"Topic10\", \"Topic10\", \"Topic10\", \"Topic10\", \"Topic10\", \"Topic10\", \"Topic10\", \"Topic10\", \"Topic10\", \"Topic10\", \"Topic10\", \"Topic10\", \"Topic10\", \"Topic10\", \"Topic10\", \"Topic10\", \"Topic11\", \"Topic11\", \"Topic11\", \"Topic11\", \"Topic11\", \"Topic11\", \"Topic11\", \"Topic11\", \"Topic11\", \"Topic11\", \"Topic11\", \"Topic11\", \"Topic11\", \"Topic11\", \"Topic11\", \"Topic11\", \"Topic11\", \"Topic11\", \"Topic11\", \"Topic11\", \"Topic11\", \"Topic11\", \"Topic11\", \"Topic11\", \"Topic11\", \"Topic11\", \"Topic11\", \"Topic11\", \"Topic11\", \"Topic11\", \"Topic11\", \"Topic11\", \"Topic11\", \"Topic11\", \"Topic11\", \"Topic11\", \"Topic11\", \"Topic11\", \"Topic11\", \"Topic11\", \"Topic11\", \"Topic11\", \"Topic11\", \"Topic11\", \"Topic11\", \"Topic12\", \"Topic12\", \"Topic12\", \"Topic12\", \"Topic12\", \"Topic12\", \"Topic12\", \"Topic12\", \"Topic12\", \"Topic12\", \"Topic12\", \"Topic12\", \"Topic12\", \"Topic12\", \"Topic12\", \"Topic12\", \"Topic12\", \"Topic12\", \"Topic12\", \"Topic12\", \"Topic12\", \"Topic12\", \"Topic12\", \"Topic12\", \"Topic12\", \"Topic12\", \"Topic12\", \"Topic12\", \"Topic12\", \"Topic12\", \"Topic12\", \"Topic12\", \"Topic12\", \"Topic12\", \"Topic12\", \"Topic12\", \"Topic12\", \"Topic12\", \"Topic12\", \"Topic13\", \"Topic13\", \"Topic13\", \"Topic13\", \"Topic13\", \"Topic13\", \"Topic13\", \"Topic13\", \"Topic13\", \"Topic13\", \"Topic13\", \"Topic13\", \"Topic13\", \"Topic13\", \"Topic13\", \"Topic13\", \"Topic13\", \"Topic13\", \"Topic13\", \"Topic13\", \"Topic13\", \"Topic13\", \"Topic13\", \"Topic13\", \"Topic13\", \"Topic13\", \"Topic13\", \"Topic13\", \"Topic13\", \"Topic13\", \"Topic13\", \"Topic13\", \"Topic13\", \"Topic13\", \"Topic13\", \"Topic13\", \"Topic13\", \"Topic14\", \"Topic14\", \"Topic14\", \"Topic14\", \"Topic14\", \"Topic14\", \"Topic14\", \"Topic14\", \"Topic14\", \"Topic14\", \"Topic14\", \"Topic14\", \"Topic14\", \"Topic14\", \"Topic14\", \"Topic14\", \"Topic14\", \"Topic14\", \"Topic14\", \"Topic14\", \"Topic14\", \"Topic14\", \"Topic14\", \"Topic14\", \"Topic14\", \"Topic14\", \"Topic14\", \"Topic14\", \"Topic14\", \"Topic14\", \"Topic14\", \"Topic14\", \"Topic14\", \"Topic14\", \"Topic14\", \"Topic14\", \"Topic14\", \"Topic14\", \"Topic14\", \"Topic15\", \"Topic15\", \"Topic15\", \"Topic15\", \"Topic15\", \"Topic15\", \"Topic15\", \"Topic15\", \"Topic15\", \"Topic15\", \"Topic15\", \"Topic15\", \"Topic15\", \"Topic15\", \"Topic15\", \"Topic15\", \"Topic15\", \"Topic15\", \"Topic15\", \"Topic15\", \"Topic15\", \"Topic15\", \"Topic15\", \"Topic15\", \"Topic15\", \"Topic15\", \"Topic15\", \"Topic15\", \"Topic15\", \"Topic15\", \"Topic15\", \"Topic15\", \"Topic15\", \"Topic15\", \"Topic15\", \"Topic15\", \"Topic15\", \"Topic15\", \"Topic15\", \"Topic15\", \"Topic15\", \"Topic15\", \"Topic15\", \"Topic15\", \"Topic15\", \"Topic16\", \"Topic16\", \"Topic16\", \"Topic16\", \"Topic16\", \"Topic16\", \"Topic16\", \"Topic16\", \"Topic16\", \"Topic16\", \"Topic16\", \"Topic16\", \"Topic16\", \"Topic16\", \"Topic16\", \"Topic16\", \"Topic16\", \"Topic16\", \"Topic16\", \"Topic16\", \"Topic16\", \"Topic16\", \"Topic16\", \"Topic16\", \"Topic16\", \"Topic16\", \"Topic16\", \"Topic16\", \"Topic16\", \"Topic16\", \"Topic16\", \"Topic16\", \"Topic16\", \"Topic16\", \"Topic16\", \"Topic16\", \"Topic16\", \"Topic16\", \"Topic16\", \"Topic16\", \"Topic16\", \"Topic17\", \"Topic17\", \"Topic17\", \"Topic17\", \"Topic17\", \"Topic17\", \"Topic17\", \"Topic17\", \"Topic17\", \"Topic17\", \"Topic17\", \"Topic17\", \"Topic17\", \"Topic17\", \"Topic17\", \"Topic17\", \"Topic17\", \"Topic17\", \"Topic17\", \"Topic17\", \"Topic17\", \"Topic17\", \"Topic17\", \"Topic17\", \"Topic17\", \"Topic17\", \"Topic17\", \"Topic17\", \"Topic17\", \"Topic17\", \"Topic17\", \"Topic17\", \"Topic17\", \"Topic17\", \"Topic17\", \"Topic17\", \"Topic17\", \"Topic17\", \"Topic17\", \"Topic17\", \"Topic17\", \"Topic17\", \"Topic17\", \"Topic17\", \"Topic17\", \"Topic17\", \"Topic17\", \"Topic17\", \"Topic18\", \"Topic18\", \"Topic18\", \"Topic18\", \"Topic18\", \"Topic18\", \"Topic18\", \"Topic18\", \"Topic18\", \"Topic18\", \"Topic18\", \"Topic18\", \"Topic18\", \"Topic18\", \"Topic18\", \"Topic18\", \"Topic18\", \"Topic18\", \"Topic18\", \"Topic18\", \"Topic18\", \"Topic18\", \"Topic18\", \"Topic18\", \"Topic18\", \"Topic18\", \"Topic18\", \"Topic18\", \"Topic18\", \"Topic18\", \"Topic18\", \"Topic18\", \"Topic18\", \"Topic18\", \"Topic18\", \"Topic18\", \"Topic18\", \"Topic18\", \"Topic18\", \"Topic18\", \"Topic18\", \"Topic18\", \"Topic18\", \"Topic18\", \"Topic19\", \"Topic19\", \"Topic19\", \"Topic19\", \"Topic19\", \"Topic19\", \"Topic19\", \"Topic19\", \"Topic19\", \"Topic19\", \"Topic19\", \"Topic19\", \"Topic19\", \"Topic19\", \"Topic19\", \"Topic19\", \"Topic19\", \"Topic19\", \"Topic19\", \"Topic19\", \"Topic19\", \"Topic19\", \"Topic19\", \"Topic19\", \"Topic19\", \"Topic19\", \"Topic19\", \"Topic19\", \"Topic19\", \"Topic19\", \"Topic19\", \"Topic19\", \"Topic19\", \"Topic19\", \"Topic19\", \"Topic19\", \"Topic19\", \"Topic19\", \"Topic19\", \"Topic20\", \"Topic20\", \"Topic20\", \"Topic20\", \"Topic20\", \"Topic20\", \"Topic20\", \"Topic20\", \"Topic20\", \"Topic20\", \"Topic20\", \"Topic20\", \"Topic20\", \"Topic20\", \"Topic20\", \"Topic20\", \"Topic20\", \"Topic20\", \"Topic20\", \"Topic20\", \"Topic20\", \"Topic20\", \"Topic20\", \"Topic20\", \"Topic20\", \"Topic20\", \"Topic20\", \"Topic20\", \"Topic20\", \"Topic20\", \"Topic20\", \"Topic20\", \"Topic20\", \"Topic20\", \"Topic20\", \"Topic20\", \"Topic20\", \"Topic20\", \"Topic20\"], \"logprob\": [30.0, 29.0, 28.0, 27.0, 26.0, 25.0, 24.0, 23.0, 22.0, 21.0, 20.0, 19.0, 18.0, 17.0, 16.0, 15.0, 14.0, 13.0, 12.0, 11.0, 10.0, 9.0, 8.0, 7.0, 6.0, 5.0, 4.0, 3.0, 2.0, 1.0, -2.7031, -2.713, -2.7132, -2.7133, -2.7135, -2.0214, -5.0674, -6.0279, -5.8702, -6.298, -6.3044, -6.3276, -6.3096, -5.8658, -6.7082, -5.2205, -6.7061, -6.1608, -6.0238, -6.078, -6.3047, -6.8312, -6.0082, -6.3473, -6.4317, -6.1839, -4.7646, -5.9417, -6.66, -6.695, -5.0346, -5.4462, -4.6918, -4.1839, -4.184, -4.1854, -5.3286, -4.1925, -4.0279, -4.1814, -5.4298, -4.1862, -5.4883, -4.2563, -4.3749, -5.1392, -4.5692, -4.553, -4.5856, -5.1858, -5.4365, -5.2072, -5.3214, -5.3483, -4.5799, -4.3528, -5.3179, -4.521, -4.6329, -4.9218, -5.4509, -4.1663, -5.2295, -5.4365, -5.6288, -5.2216, -5.2445, -5.2718, -5.4351, -5.4062, -3.8436, -5.7147, -5.7089, -5.2043, -5.3735, -6.1088, -5.1144, -5.1513, -5.3797, -4.6888, -3.41, -5.1261, -4.3583, -3.9318, -3.7558, -4.1597, -4.2555, -4.8839, -3.3877, -4.3694, -4.3674, -4.8338, -4.4049, -4.5087, -4.7155, -4.3065, -4.5476, -4.5961, -4.5344, -4.5086, -4.8677, -4.6142, -4.8481, -4.7876, -4.495, -4.495, -5.1865, -3.5039, -3.5039, -3.7658, -2.2882, -5.5878, -5.5878, -4.3579, -2.7491, -2.7503, -2.7503, -2.7399, -5.5903, -2.4554, -2.7293, -2.6267, -5.5903, -5.5876, -5.5903, -2.6914, -4.8984, -5.584, -5.5903, -4.8931, -5.5903, -5.5903, -5.1865, -6.2656, -4.2225, -5.0001, -5.5361, -5.5719, -5.5376, -5.5797, -4.9473, -4.3655, -4.6106, -4.9795, -4.7322, -4.2449, -2.4797, -5.3213, -4.1885, -4.6168, -5.3051, -3.891, -4.7361, -5.4861, -4.1452, -5.5435, -4.808, -3.7555, -5.2137, -4.3755, -4.2658, -3.8422, -4.7755, -4.6434, -3.8308, -4.7535, -4.9796, -5.9334, -4.9922, -4.8817, -3.885, -4.2112, -3.7628, -3.1191, -4.4937, -3.9245, -4.191, -4.6482, -4.0254, -4.4871, -4.5346, -4.5857, -4.5835, -4.5944, -4.6166, -4.671, -4.6598, -3.9289, -2.3729, -4.4467, -4.4467, -3.9777, -3.9799, -3.98, -3.98, -3.9805, -3.9806, -3.9811, -3.9814, -3.9815, -3.9816, -2.3975, -3.9773, -4.8295, -4.8295, -3.9773, -4.4467, -3.8833, -4.8295, -4.8295, -4.1177, -3.9948, -4.7697, -3.9747, -5.4578, -5.4576, -5.4578, -4.0348, -4.6316, -4.0752, -3.878, -3.9722, -4.1488, -3.6071, -4.4212, -4.3524, -4.0131, -3.1179, -4.5016, -4.2569, -3.3082, -3.5434, -4.0003, -2.6993, -3.0369, -4.5016, -3.2475, -4.8658, -4.8658, -4.9257, -4.9257, -4.9257, -4.9257, -4.9257, -4.9255, -4.9257, -4.9221, -4.8658, -4.9257, -4.9812, -4.9257, -4.9207, -4.8658, -4.3579, -4.8658, -4.9257, -4.096, -4.3579, -4.5016, -4.7772, -4.5016, -4.2126, -4.3831, -4.6467, -4.8727, -4.8349, -4.8586, -4.8614, -4.8617, -4.9154, -4.1976, -4.2419, -4.2528, -4.3515, -4.0247, -4.3145, -3.5846, -4.4262, -4.3382, -4.6197, -4.6348, -2.4422, -4.6501, -4.6197, -4.4327, -4.5599, -4.4292, -3.8448, -4.1742, -3.5898, -4.7147, -4.6497, -4.4198, -4.7329, -4.7013, -4.5599, -4.8275, -4.1561, -5.248, -5.2476, -4.1115, -4.0744, -4.3508, -2.6887, -3.9405, -4.0734, -4.4922, -3.7738, -4.3125, -4.3223, -4.495, -4.4354, -4.1522, -4.1522, -3.9206, -4.3292, -4.3302, -2.278, -4.4817, -3.5855, -4.5351, -4.5351, -3.876, -4.5351, -4.5501, -4.111, -3.4896, -4.8849, -4.8849, -3.2546, -4.634, -5.1612, -3.9198, -5.1797, -5.1634, -5.1634, -5.1634, -5.0919, -5.0753, -5.1773, -5.0907, -4.5343, -3.6603, -4.4089, -2.3648, -4.1107, -4.5342, -4.2072, -3.832, -4.1112, -4.5202, -3.825, -4.5265, -4.5209, -3.8956, -3.8956, -3.0286, -3.7253, -3.7253, -3.7253, -3.7253, -4.0188, -3.3945, -4.1605, -3.8891, -4.1605, -3.7392, -4.6009, -4.1209, -4.1605, -4.0957, -4.5846, -4.1555, -5.1034, -5.2129, -5.2129, -5.2129, -5.2111, -5.2129, -5.2129, -5.2129, -5.2129, -5.2129, -5.2129, -4.5691, -4.4913, -3.2053, -4.5296, -4.5247, -3.4806, -3.4026, -4.5035, -4.632, -4.5494, -4.8104, -4.578, -1.0715, -2.9906, -3.447, -3.9648, -3.884, -4.3477, -4.3477, -4.4357, -4.9684, -4.4357, -4.9735, -4.976, -4.9681, -4.3446, -4.976, -4.976, -4.9738, -4.926, -3.8147, -4.976, -4.976, -4.9697, -2.1957, -4.1569, -4.9713, -3.6829, -4.976, -4.9547, -4.976, -4.9608, -3.8812, -4.8762, -4.9386, -4.6664, -4.9495, -4.976, -3.7116, -4.1021, -2.9209, -4.4326, -4.0085, -4.0451, -4.3727, -4.4326, -4.9309, -2.7906, -3.1858, -5.0557, -5.0609, -5.0609, -4.4109, -5.0609, -5.0609, -4.8646, -5.0609, -5.0609, -5.0235, -5.0534, -5.0609, -3.8546, -5.0521, -5.0547, -2.255, -5.0609, -5.0609, -5.05, -2.7467, -4.3615, -4.4326, -4.3048, -3.3781, -4.6909, -4.1059, -4.4144, -4.6825, -4.8115, -4.9289, -5.0265, -5.0425, -5.0049, -5.0128, -4.0332, -4.0534, -3.7737, -4.1405, -4.1489, -3.9162, -4.0767, -4.4565, -4.4642, -4.4561, -4.0716, -4.5591, -4.5411, -3.7189, -4.4588, -4.4005, -4.7259, -4.5267, -4.8308, -4.1568, -4.8703, -5.0925, -5.0925, -4.8071, -5.0925, -4.4642, -4.7259, -4.0161, -5.041, -4.0401, -2.5189, -3.3325, -4.4648, -4.2994, -4.0282, -3.657, -4.4043, -4.2217, -4.5724, -3.8919, -3.9653, -3.4816, -3.4816, -3.0869, -3.4029, -4.2538, -4.3137, -4.3137, -4.3137, -3.5014, -4.5755, -4.3137, -4.3296, -4.3137, -4.3137, -4.4133, -4.4331, -4.3137, -4.3867, -4.2538, -4.9408, -4.053, -4.942, -4.942, -4.942, -3.6709, -3.6854, -4.942, -4.942, -3.7862, -3.8886, -4.1731, -4.3124, -3.7019, -4.1929, -4.3137, -3.4057, -1.635, -3.9235, -3.1908, -4.072, -4.3063, -4.3063, -3.7127, -4.1001, -3.7762, -4.2963, -4.3414, -4.6229, -3.5558, -4.2465, -3.7089, -4.5577, -4.2465, -4.3063, -4.9346, -4.0025, -4.9347, -4.9347, -4.6198, -3.8822, -4.9346, -4.9346, -4.9346, -4.9347, -4.7004, -4.3346, -4.2921, -4.6751, -4.564, -4.5982, -4.6524, -4.594, -4.4925, -4.4401, -2.586, -3.1371, -4.2513, -4.2628, -3.2412, -3.9905, -4.513, -4.1913, -3.9547, -4.2767, -3.9963, -3.1167, -4.8796, -4.8795, -4.8788, -4.8796, -4.0442, -4.8796, -4.513, -4.8796, -4.8796, -4.8796, -4.8796, -4.8796, -4.8796, -4.8796, -4.8795, -4.8796, -4.513, -4.8787, -4.0719, -3.5008, -4.1893, -4.2505, -4.1914, -3.7019, -3.6355, -4.407, -4.3576, -4.4706, -4.4697, -4.6887, -4.753, -4.8153, -4.8692, -3.0041, -3.0041, -3.8378, -3.5713, -4.202, -3.9382, -4.2619, -4.2619, -4.2619, -4.2848, -3.5692, -4.2619, -4.687, -4.3528, -4.5448, -4.2619, -4.2619, -3.9267, -4.7085, -4.7085, -4.8902, -4.8899, -4.6396, -4.7177, -4.8902, -4.8853, -4.4438, -4.8897, -4.8902, -4.8899, -4.202, -3.5713, -4.0564, -4.0434, -4.5406, -4.1226, -4.2554, -4.3968, -4.4667, -4.6826, -4.6748, -3.6627, -3.6627, -3.6627, -3.6627, -3.9827, -3.7848, -3.9857, -3.6559, -4.6693, -4.6739, -4.6739, -4.6739, -4.6739, -4.6739, -4.6739, -4.0432, -4.6739, -4.6739, -4.6739, -4.6703, -3.9829, -4.6642, -4.6621, -3.6565, -3.9807, -4.0373, -4.6692, -4.6615, -4.6692, -4.6739, -4.0456, -3.8408, -3.4327, -4.3389, -4.5569, -4.5644, -4.5914, -4.5964, -4.6015, -4.5644, -4.6316, -4.6463, -4.6093, -4.6369, -4.6229, -4.637, -4.6481, -4.6422, -3.562, -3.0442, -3.2544, -3.885, -3.6114, -3.0239, -4.0337, -4.0337, -4.2066, -4.0337, -3.9874, -3.5193, -4.5693, -4.5696, -4.5732, -4.5732, -4.5732, -4.1889, -4.5708, -4.5732, -4.5703, -4.5732, -4.0345, -4.5732, -4.5732, -3.9449, -4.5732, -3.885, -4.5732, -4.5732, -2.9677, -4.0658, -4.2488, -4.5611, -4.5547, -4.558, -4.5623, -4.5551, -4.5589, -4.5608, -4.561, -4.5635, -4.5669, -4.5673, -3.3849, -3.3849, -3.2466, -3.5494, -3.5494, -3.7887, -3.5494, -3.8927, -3.4245, -4.0045, -3.3293, -2.7454, -4.4761, -4.4769, -4.4748, -3.9643, -4.4769, -3.07, -4.4769, -4.476, -4.4065, -4.4769, -4.4346, -4.433, -4.3952, -4.4769, -4.3854, -4.3697, -4.4013, -4.4769, -4.4332, -3.7322, -3.7707, -3.729, -4.1748, -4.3288, -4.4054, -4.3505, -4.4244, -2.4504, -3.2529, -3.2529, -3.2529, -3.0928, -3.5605, -3.9434, -4.0558, -4.0558, -3.1929, -3.0146, -4.0811, -4.5613, -4.0315, -4.5717, -4.5717, -3.9369, -4.0766, -4.5486, -4.5715, -4.5717, -4.5478, -3.9009, -4.5711, -4.5715, -4.5399, -3.8644, -4.5717, -4.6077, -4.5717, -4.5564, -3.8736, -4.5192, -4.4177, -4.5288, -4.5568, -4.5625, -4.5628, -4.563], \"loglift\": [30.0, 29.0, 28.0, 27.0, 26.0, 25.0, 24.0, 23.0, 22.0, 21.0, 20.0, 19.0, 18.0, 17.0, 16.0, 15.0, 14.0, 13.0, 12.0, 11.0, 10.0, 9.0, 8.0, 7.0, 6.0, 5.0, 4.0, 3.0, 2.0, 1.0, 1.5601, 1.5592, 1.5589, 1.5588, 1.5584, 1.558, 1.4089, 1.2117, 1.1526, 1.1397, 1.0952, 1.0771, 1.0375, 0.997, 0.9947, 0.9939, 0.9848, 0.9762, 0.9661, 0.9502, 0.9147, 0.8563, 0.8195, 0.8181, 0.8137, 0.7817, 0.7788, 0.7464, 0.7419, 0.7143, 0.7017, 0.6999, 0.6159, 0.3633, 0.3632, 0.3615, 0.5964, 0.3067, 0.1805, 0.2093, 0.6062, -0.031, 0.6059, -0.0932, -0.1461, 0.3408, -0.0408, -0.2097, -0.2405, 0.1768, 0.3295, -0.548, -0.1478, -0.2262, 1.5641, 1.4572, 1.4364, 1.4008, 1.3946, 1.393, 1.3782, 1.3733, 1.3705, 1.37, 1.3613, 1.3588, 1.3578, 1.3535, 1.353, 1.3425, 1.3334, 1.3175, 1.3018, 1.2858, 1.2843, 1.2605, 1.2577, 1.2562, 1.2497, 1.2494, 1.2491, 1.2467, 1.2454, 1.2418, 1.2034, 1.1965, 1.1613, 1.2194, 0.9556, 1.1084, 1.0542, 1.1657, 1.0281, 0.9713, 1.0505, 0.8156, 0.9151, 0.914, 0.8216, 0.7991, 0.9916, 0.6714, 0.737, 0.5749, 2.1336, 2.1336, 2.1092, 2.067, 2.0283, 1.9539, 1.9407, 1.84, 1.8393, 1.8197, 1.7978, 1.7969, 1.7969, 1.7593, 1.7282, 1.7076, 1.6614, 1.5817, 1.5572, 1.549, 1.5129, 1.4637, 1.4467, 1.415, 1.3965, 1.3302, 1.3023, 1.2904, 1.2622, 1.2209, 1.1985, -1.4206, 0.0074, 0.8355, -1.1925, 0.7432, 2.3156, 2.2559, 2.2267, 2.1283, 2.1019, 2.0711, 2.0487, 2.0419, 2.0115, 1.9732, 1.9667, 1.9533, 1.9504, 1.9097, 1.8991, 1.8335, 1.8157, 1.8084, 1.7709, 1.7562, 1.7561, 1.7507, 1.7175, 1.7148, 1.6982, 1.6426, 1.5827, 1.5429, 1.5273, 1.5178, 1.4776, 1.4442, 1.3593, 1.2242, 1.3655, 1.0347, 1.1651, 1.3925, 0.6337, 0.9907, 0.887, 1.018, 0.6482, 0.5826, 0.7058, 1.0568, -0.3147, 3.035, 3.0215, 3.0171, 2.9994, 2.993, 2.9923, 2.9923, 2.9923, 2.9921, 2.9921, 2.992, 2.9919, 2.9919, 2.9919, 2.884, 2.7773, 2.7166, 2.6868, 2.6243, 2.596, 2.5874, 2.5807, 2.5214, 2.479, 2.4003, 2.2781, 2.1907, 2.1076, 2.0877, 2.0731, 1.9824, 1.9067, 1.7613, 1.555, 1.4736, 1.639, 0.6014, 1.8091, 1.3933, 0.3776, 3.1788, 3.1237, 3.1054, 3.0653, 2.92, 2.9171, 2.8634, 2.8204, 2.7811, 2.7697, 2.7581, 2.6996, 2.6933, 2.6932, 2.6347, 2.6035, 2.5506, 2.4228, 2.4189, 2.4143, 2.3605, 2.3532, 2.3252, 2.3108, 2.2987, 2.2406, 2.2387, 2.1768, 2.1347, 2.1342, 2.1128, 2.1136, 2.1282, 1.8048, 0.3319, -0.1747, -0.256, 1.8584, 1.0128, 1.4548, 1.3752, 1.3396, 1.2726, 3.1709, 3.1478, 3.1365, 3.0716, 3.0572, 3.0514, 2.9969, 2.9245, 2.8456, 2.8179, 2.8084, 2.7895, 2.7841, 2.7838, 2.7675, 2.615, 2.5774, 2.5389, 2.5224, 2.5176, 2.4999, 2.4938, 2.3515, 2.3488, 2.3352, 2.3209, 2.3095, 2.2927, 2.2811, 2.2766, 2.2195, 2.1472, 2.1785, 1.6564, 2.0106, 1.6723, 2.1966, 0.7707, 1.1333, 1.181, 1.8279, -0.227, 3.3052, 3.2999, 3.2378, 3.1694, 3.1683, 3.0254, 3.0243, 3.0131, 2.9839, 2.9782, 2.9712, 2.9673, 2.8904, 2.7365, 2.6887, 2.616, 2.616, 2.5471, 2.4519, 2.4395, 2.3936, 2.3535, 2.3064, 2.2599, 2.2433, 2.2408, 2.2272, 2.2262, 2.2175, 2.2053, 2.0675, 2.1198, 1.7903, 2.0487, 2.0667, 1.837, 1.4904, 1.392, 1.6254, 0.5202, 1.5279, 0.9892, 3.4461, 3.4461, 3.4061, 3.396, 3.396, 3.396, 3.396, 3.2972, 3.2582, 3.1354, 3.113, 3.1113, 2.9703, 2.9445, 2.8659, 2.8531, 2.5116, 2.4686, 2.4682, 2.4099, 2.4061, 2.406, 2.4053, 2.3895, 2.3316, 2.3288, 2.318, 2.3061, 2.2931, 2.2862, 2.2839, 2.2808, 2.1171, 1.9941, 1.924, 1.0639, 0.7605, 0.9998, 1.2439, 1.0358, 1.4874, -0.4229, 3.435, 3.3554, 3.2455, 3.2229, 3.1721, 3.0827, 3.0771, 3.0575, 2.6403, 2.6175, 2.5884, 2.5657, 2.5561, 2.5536, 2.5534, 2.5266, 2.4243, 2.3529, 2.3309, 2.3304, 2.3198, 2.1738, 2.1494, 2.1409, 2.1192, 1.8203, 1.7335, 1.6452, 1.6381, 1.6196, 1.3505, 1.3118, 1.5237, -0.1381, 1.0572, 0.8118, 3.5988, 3.4639, 3.36, 3.119, 3.098, 2.74, 2.6751, 2.6588, 2.6524, 2.6303, 2.6019, 2.5511, 2.5057, 2.4997, 2.4799, 2.4657, 2.4572, 2.4418, 2.4417, 2.4415, 2.4107, 2.3898, 2.3768, 2.3756, 2.3571, 2.3121, 2.2895, 2.236, 2.2223, 2.1502, 1.7598, 2.0072, 1.9857, 1.9318, 0.967, 2.0189, 1.3974, 1.5923, 1.1748, 0.4202, 0.9076, 1.6658, 2.1118, 0.8052, 0.4202, 3.5695, 3.5589, 3.5406, 3.466, 3.4413, 3.4411, 3.2259, 3.1233, 3.1212, 3.1058, 3.103, 3.0477, 3.0421, 3.0339, 3.0277, 2.9663, 2.8591, 2.5737, 2.565, 2.5574, 2.536, 2.5315, 2.4681, 2.4632, 2.4588, 2.4569, 2.4216, 2.3086, 2.3025, 2.2664, 2.0257, 2.0885, 2.224, 2.011, 1.8083, 0.5061, 1.5505, 0.1234, 1.4623, 3.5869, 3.5181, 3.3452, 3.3452, 3.3384, 3.279, 3.216, 3.2044, 3.1723, 3.1025, 3.0369, 2.9635, 2.9326, 2.9276, 2.9197, 2.9053, 2.8754, 2.8591, 2.8253, 2.8118, 2.7329, 2.6541, 2.6039, 2.5995, 2.5986, 2.5874, 2.5657, 2.5595, 2.5589, 2.5589, 2.2485, 2.1752, 1.6634, 1.742, 0.6432, 1.2401, 0.9678, 3.6389, 3.6258, 3.5897, 3.517, 3.4969, 3.2381, 3.2203, 3.183, 3.1792, 3.0511, 2.8306, 2.7952, 2.7541, 2.7506, 2.7402, 2.7217, 2.7126, 2.6746, 2.6669, 2.6524, 2.644, 2.6071, 2.5587, 2.5407, 2.5064, 2.4672, 2.4652, 2.4555, 2.3679, 2.3278, 2.0105, 1.9223, 2.1984, 1.8286, 1.8447, 1.9291, 1.594, 1.2272, -0.095, 3.4485, 3.4412, 3.3046, 3.2885, 3.0897, 3.082, 2.9642, 2.9597, 2.9506, 2.9423, 2.8944, 2.8344, 2.7027, 2.7003, 2.6943, 2.672, 2.67, 2.6619, 2.6543, 2.6513, 2.6449, 2.6449, 2.6332, 2.6064, 2.602, 2.5361, 2.5187, 2.4173, 2.3926, 2.3785, 2.3477, 2.062, 2.2034, 2.1924, 2.1546, 0.7973, 0.5196, -0.2439, -0.7781, -0.0798, -0.2613, 1.2496, 0.4206, 0.9724, 0.4165, 3.7843, 3.7843, 3.7458, 3.5459, 3.3906, 3.3777, 3.3373, 3.2788, 3.2713, 3.205, 3.123, 3.0339, 3.0006, 2.9955, 2.9942, 2.9845, 2.9772, 2.9707, 2.9054, 2.9054, 2.7242, 2.7188, 2.6397, 2.6257, 2.6032, 2.5361, 2.519, 2.4727, 2.4544, 2.4518, 2.449, 1.7321, 1.8687, 1.7584, 2.1059, 1.3875, 1.5811, 1.638, 1.2994, 2.0062, 0.742, 3.917, 3.917, 3.917, 3.917, 3.6506, 3.5153, 3.3112, 3.273, 3.0215, 2.9319, 2.9253, 2.9211, 2.9187, 2.9115, 2.9084, 2.8975, 2.8821, 2.8427, 2.8028, 2.7674, 2.7165, 2.6881, 2.6878, 2.5929, 2.543, 2.5407, 2.5146, 2.5039, 2.4167, 2.4044, 2.3727, 2.0069, 1.1119, -0.7595, 1.3189, 0.739, 0.6942, 0.7597, 0.8613, -0.4013, 1.7405, 2.1417, 0.7468, 1.6046, 0.8229, 1.399, 1.7082, 1.0856, 3.9357, 3.8156, 3.7829, 3.6278, 3.6252, 3.5048, 3.4908, 3.4908, 3.3099, 3.2495, 3.2303, 3.0815, 3.0365, 3.0174, 2.9934, 2.9874, 2.9034, 2.8894, 2.8506, 2.8425, 2.8344, 2.7595, 2.7507, 2.719, 2.7154, 2.706, 2.6602, 2.6581, 2.6017, 2.5125, 2.3179, 1.8946, 1.0735, 2.4289, 1.6947, 1.6014, 1.8105, 1.03, 1.1868, 1.361, 1.5028, 1.5439, 2.2571, 1.5782, 4.0627, 4.0627, 3.9415, 3.9125, 3.9125, 3.7104, 3.6574, 3.567, 3.5006, 3.4771, 3.3998, 3.2094, 3.097, 3.0835, 2.9248, 2.865, 2.819, 2.8059, 2.7596, 2.6675, 2.64, 2.5835, 2.5264, 2.3928, 2.389, 2.3663, 2.3456, 2.2989, 2.2875, 2.2627, 2.2533, 1.5494, 1.5371, 0.8156, 1.6825, 1.6223, 1.8339, -0.0054, 1.6103, 4.1075, 4.0892, 4.0892, 4.0892, 4.0301, 3.7962, 3.6748, 3.5581, 3.5581, 3.4223, 3.416, 3.2624, 3.1416, 3.0599, 3.0427, 2.9698, 2.9532, 2.8861, 2.8416, 2.7917, 2.7115, 2.6918, 2.5891, 2.5558, 2.3259, 2.2305, 2.1423, 2.1208, 2.0937, 2.0536, 1.9728, 0.2895, 1.4058, -0.8383, 0.8274, 1.5166, 1.6388, 0.7228, 1.6763]}, \"token.table\": {\"Topic\": [2, 9, 10, 10, 19, 20, 9, 11, 20, 9, 10, 13, 4, 14, 19, 1, 2, 4, 2, 7, 3, 13, 1, 8, 18, 1, 6, 4, 12, 1, 2, 4, 18, 1, 2, 4, 19, 1, 2, 3, 4, 6, 7, 8, 10, 11, 12, 13, 14, 19, 5, 8, 13, 10, 15, 6, 10, 11, 13, 6, 16, 2, 8, 1, 14, 1, 2, 3, 9, 15, 17, 20, 7, 10, 6, 7, 3, 1, 3, 5, 5, 6, 11, 12, 20, 9, 19, 13, 16, 18, 6, 10, 13, 15, 18, 15, 17, 1, 2, 4, 19, 17, 1, 2, 4, 1, 2, 3, 9, 15, 17, 20, 18, 7, 11, 5, 6, 17, 8, 13, 12, 3, 5, 6, 19, 1, 3, 11, 12, 18, 3, 6, 17, 18, 19, 11, 14, 2, 4, 9, 20, 20, 5, 6, 9, 11, 2, 9, 17, 1, 2, 6, 8, 10, 15, 16, 18, 12, 3, 10, 11, 12, 6, 7, 8, 17, 18, 8, 7, 8, 18, 9, 6, 15, 17, 18, 4, 6, 16, 1, 3, 8, 9, 12, 15, 16, 17, 20, 1, 11, 18, 3, 6, 8, 16, 17, 15, 19, 5, 10, 11, 6, 11, 18, 11, 12, 5, 6, 12, 17, 3, 10, 2, 11, 20, 6, 12, 12, 16, 20, 7, 15, 19, 6, 16, 20, 15, 18, 12, 18, 6, 7, 1, 2, 4, 6, 11, 19, 3, 7, 11, 8, 11, 12, 6, 8, 13, 5, 6, 1, 2, 7, 8, 9, 10, 11, 13, 17, 9, 14, 1, 2, 4, 5, 6, 11, 19, 6, 15, 17, 13, 15, 20, 8, 12, 13, 17, 6, 7, 12, 14, 19, 2, 5, 6, 9, 10, 11, 12, 15, 5, 6, 16, 19, 6, 14, 7, 14, 14, 14, 3, 6, 1, 2, 11, 2, 11, 12, 14, 13, 16, 5, 9, 15, 3, 7, 5, 6, 3, 10, 12, 14, 5, 12, 13, 19, 6, 10, 13, 9, 20, 12, 14, 15, 9, 14, 16, 20, 3, 6, 15, 3, 4, 7, 9, 12, 14, 1, 2, 4, 12, 2, 3, 6, 19, 6, 8, 13, 1, 2, 3, 9, 15, 17, 20, 9, 13, 6, 13, 16, 16, 19, 8, 9, 6, 19, 13, 15, 1, 2, 4, 5, 7, 13, 17, 8, 9, 17, 6, 12, 14, 5, 9, 5, 3, 4, 14, 16, 2, 4, 1, 2, 4, 7, 12, 17, 1, 2, 4, 5, 6, 1, 2, 4, 7, 15, 17, 8, 12, 14, 6, 12, 16, 4, 11, 16, 1, 3, 2, 13, 1, 2, 6, 8, 12, 13, 14, 16, 19, 4, 18, 19, 1, 13, 18, 1, 9, 16, 17, 20, 1, 3, 11, 8, 9, 3, 5, 14, 15, 19, 3, 6, 12, 1, 2, 4, 8, 9, 15, 18, 2, 6, 15, 20, 2, 4, 6, 20, 2, 5, 7, 1, 2, 3, 8, 9, 12, 14, 15, 1, 2, 3, 7, 3, 16, 1, 7, 16, 17, 20, 1, 2, 5, 7, 11, 12, 13, 16, 16, 1, 5, 6, 11, 13, 16, 7, 15, 16, 1, 2, 4, 8, 3, 4, 17, 1, 3, 9, 18, 1, 5, 6, 6, 14, 18, 7, 11, 1, 2, 4, 6, 8, 17, 12, 1, 2, 4, 8, 12, 15, 18, 1, 2, 4, 5, 6, 7, 17, 18, 19, 1, 6, 12, 9, 19, 1, 20, 5, 6, 15, 9, 11, 18, 20, 12, 18, 1, 2, 8, 12, 2, 14, 8, 1, 2, 6, 7, 9, 13, 17, 1, 14, 18, 5, 1, 2, 1, 2, 4, 17, 18, 2, 7, 8, 17, 6, 9, 12, 1, 2, 4, 5, 16, 17, 5, 1, 2, 3, 4, 5, 12, 15, 17, 18, 20, 1, 20, 1, 2, 2, 6, 14, 19, 1, 2, 4, 12, 1, 2, 4, 6, 12, 19, 20, 4, 5, 10, 11, 13, 16, 7, 17, 18, 13, 19, 2, 9, 12, 14, 16, 17, 18, 19, 4, 14, 1, 6, 14, 1, 2, 4, 3, 4, 5, 11, 15, 17, 13, 20, 5, 7, 8, 2, 3, 4, 14, 16, 6, 8, 13, 18, 19, 9, 13, 15, 1, 8, 9, 11, 15, 19, 4, 11, 19, 1, 2, 3, 9, 15, 6, 7, 19, 2, 7, 2, 7, 19, 1, 2, 9, 14, 7, 11, 17, 2, 8, 2, 16, 14, 16, 20, 2, 10, 1, 12, 1, 2, 4, 6, 10, 4, 5, 6, 7, 8, 13, 14, 20, 8, 9, 1, 17, 1, 2, 14, 15, 1, 2, 3, 4, 7, 9, 18, 2, 20, 1, 17, 1, 2, 4, 16, 1, 2, 4, 12, 19, 2, 4, 7, 9, 13, 1, 4, 8, 14, 1, 6, 11, 5, 9, 9, 10, 14, 13, 16, 18, 20, 1, 2, 4, 10, 11, 13, 14, 20, 1, 2, 3, 4, 5, 8, 12, 16, 6, 10, 11, 1, 2, 4, 20, 1, 2, 3, 11, 13, 6, 10, 16, 2, 8, 15, 2, 5, 6, 12, 4, 8, 12, 13, 15, 2, 12, 3, 6, 8, 13, 2, 10, 15, 1, 2, 5, 17, 19, 5, 6, 11, 15, 2, 9, 15, 16, 20, 2, 4, 12, 17, 9, 10, 1, 7, 4, 1, 3, 3, 7, 15, 3, 7, 11, 6, 9, 1, 2, 16, 17, 6, 16, 2, 6, 8, 9, 13, 15, 1, 2, 12, 8, 11, 2, 9, 18, 2, 3, 1, 5, 11, 13, 5, 6, 12, 1, 2, 4, 10, 1, 2, 4, 17, 1, 18, 1, 2, 8, 12, 1, 3, 15, 1, 2, 4, 8, 7, 14, 16, 12, 13, 18, 16, 17, 1, 6, 7, 15, 19, 20, 2, 11, 13, 1, 9, 1, 4, 19, 1, 4, 11, 1, 2, 6, 7, 8, 13, 1, 4, 6, 11, 13, 16, 15, 18, 14, 19, 1, 5, 2, 4, 11, 1, 8, 11, 17, 18, 2, 6, 20, 3, 9, 13, 13, 15, 1, 2, 4, 5, 8, 14, 16, 17, 20, 3, 15, 16, 2, 9, 10, 8, 16, 11, 12, 1, 2, 5, 3, 4, 6, 15, 2, 4, 16, 20, 2, 8, 1, 2, 4, 7, 4, 12, 15, 17, 2, 5, 19, 1, 9, 14, 16, 19, 3, 8, 13, 7, 8, 19, 1, 2, 4, 17, 9, 16, 5, 4, 2, 3, 4, 6, 12, 14, 19, 11, 15, 17, 2, 3, 9, 13, 17, 1, 2, 4, 1, 7, 15, 12, 14, 4, 8, 7, 17, 1, 4, 7, 1, 2, 3, 7, 2, 10, 15, 15, 18, 2, 4, 2, 20, 2, 14, 7, 2, 16, 18, 1, 2, 3, 4, 20, 1, 4, 6, 15, 1, 2, 14, 17, 7, 4, 7, 10, 11, 14, 3, 10, 2, 4, 13, 17, 1, 2, 2, 6, 10, 1, 13, 17, 6, 9, 10, 1, 2, 4, 12, 17, 20, 7, 17, 3, 12, 1, 2, 3, 5, 6, 15, 12, 15, 3, 8, 14, 1, 2, 4, 5, 8, 1, 7, 10, 1, 2, 3, 4, 5, 6, 7, 9, 11, 12, 16, 17, 19, 9, 1, 2, 3, 4, 1, 2, 4, 7, 8, 1, 17, 1, 4, 14, 15, 2, 13, 19, 1, 2, 6, 9, 13, 1, 3, 1, 19, 7, 12, 16, 19, 1, 6, 18, 1, 6, 13, 16, 2, 17, 4, 7, 11, 1, 6, 7, 1, 2, 4, 1, 6, 14, 3, 14, 1, 17, 18, 5, 6, 17, 7, 14, 15, 1, 10, 16, 12, 5, 1, 2, 3, 9, 15, 17, 20, 9, 1, 2, 4, 1, 5, 11, 17, 1, 8, 17, 1, 4, 9, 2, 9, 2, 16, 18, 1, 2, 9, 19, 1, 8, 9, 2, 5, 1, 11, 12, 1, 2, 3, 5, 9, 15, 16, 17, 20, 3, 9, 2, 17, 1, 14, 20, 5, 1, 15, 19, 7, 11, 5, 4, 9, 10, 2, 18, 6, 16, 12, 15, 11, 13, 6, 20, 2, 17, 1, 2, 4, 1, 2, 5, 5, 6, 7, 15, 7, 11, 18, 4, 2, 5, 7, 11, 12, 13, 2, 11, 12, 9, 13, 7, 11, 2, 5, 18, 19, 3, 7, 9, 2, 3, 4, 8, 9, 13, 18, 19, 1, 4, 8, 16, 1, 13, 18, 1, 2, 3, 9, 15, 17, 20, 9, 13, 2, 11, 15, 2, 4, 8, 13, 2, 10, 1, 2, 4, 18, 1, 5, 16, 7, 13, 14, 9, 1, 3, 6, 14, 15, 17, 1, 2, 4, 1, 2, 6, 9, 2, 3, 6, 8, 16, 17, 5, 9, 13, 1, 3, 1, 4, 5, 12, 1, 2, 7, 18, 4, 15, 18, 2, 12, 11, 8, 13, 18, 7, 8, 1, 2, 6, 7, 10, 14, 2, 7, 8, 19, 3, 9, 5, 7, 1, 2, 6, 7, 13, 17, 2, 4, 10, 13, 16, 20, 1, 2, 7, 15, 1, 2, 4, 5, 8, 17, 5, 2, 4, 8, 15, 2, 3, 4, 16, 1, 2, 12, 13, 14, 16, 18, 1, 16, 1, 2, 4, 20, 2, 8, 14, 2, 5, 9, 3, 4, 11, 16, 18, 10, 12, 7, 11, 15, 1, 6, 14, 20, 3, 5, 12, 8, 9, 13, 3, 6, 13, 2, 17, 1, 5, 18, 1, 2, 4, 3, 4, 5, 8, 7, 9, 1, 2, 8, 9, 1, 3, 8, 2, 15, 5, 6, 1, 15, 1, 2, 3, 5, 6, 7, 14, 15, 1, 2, 4, 15], \"Freq\": [0.4878428880348047, 0.09756857760696094, 0.1951371552139219, 0.7239497925130615, 0.1447899585026123, 0.1447899585026123, 0.21575268090572203, 0.43150536181144405, 0.21575268090572203, 0.41535774773323786, 0.41535774773323786, 0.20767887386661893, 0.1827015042084325, 0.1827015042084325, 0.5481045126252975, 0.19902355021555235, 0.7960942008622094, 0.19902355021555235, 0.27963688722586766, 0.838910661677603, 0.29856730942438847, 0.5971346188487769, 0.27463963230751154, 0.27463963230751154, 0.27463963230751154, 0.4904437167475994, 0.4904437167475994, 0.5850637795341911, 0.29253188976709554, 0.06962723839318032, 0.48739066875226217, 0.27850895357272126, 0.13925447678636063, 0.3625351503176832, 0.43504218038121983, 0.07250703006353663, 0.07250703006353663, 0.152289962038539, 0.08306725202102128, 0.04153362601051064, 0.06922271001751773, 0.013844542003503546, 0.19382358804904964, 0.055378168014014184, 0.22151267205605674, 0.06922271001751773, 0.027689084007007092, 0.04153362601051064, 0.027689084007007092, 0.013844542003503546, 0.24017169383370643, 0.24017169383370643, 0.48034338766741286, 0.7167222088937628, 0.2047777739696465, 0.016269856010858997, 0.7972229445320909, 0.14642870409773098, 0.016269856010858997, 0.9746606620094227, 0.9561242897228502, 0.23070403566543787, 0.9228161426617515, 0.3313918982038463, 0.49708784730576944, 0.9135998704764848, 0.012867603809527955, 0.02573520761905591, 0.012867603809527955, 0.012867603809527955, 0.012867603809527955, 0.012867603809527955, 0.23758579927643658, 0.7127573978293098, 0.5224998935063515, 0.26124994675317575, 0.9508671615570945, 0.3020584458082291, 0.6041168916164582, 0.9496678079040602, 0.4131066601875432, 0.2065533300937716, 0.4131066601875432, 0.7265103821055708, 0.8317070245750935, 0.5294219710216774, 0.2647109855108387, 0.4973647560847808, 0.2486823780423904, 0.2486823780423904, 0.5205057946823347, 0.26025289734116736, 0.26025289734116736, 0.32885938417783933, 0.6577187683556787, 0.6866668319764614, 0.3433334159882307, 0.15054618131063546, 0.42152930766977925, 0.331201598883398, 0.03010923626212709, 0.703166738329321, 0.07545102981621923, 0.45270617889731546, 0.3772551490810962, 0.9184314301110209, 0.012755992084875292, 0.025511984169750583, 0.012755992084875292, 0.012755992084875292, 0.012755992084875292, 0.012755992084875292, 0.9717917005885213, 0.6134456409272504, 0.3067228204636252, 0.5799377727517032, 0.34796266365102196, 0.703166738329321, 0.31500999449156547, 0.6300199889831309, 0.7223151335102205, 0.9508671615570945, 0.6600295028077588, 0.3300147514038794, 0.924210648939084, 0.16023001968372044, 0.8011500984186022, 0.34494076561625164, 0.34494076561625164, 0.34494076561625164, 0.1683283621141563, 0.3366567242283126, 0.1683283621141563, 0.1683283621141563, 0.1683283621141563, 0.3334184491002131, 0.6668368982004262, 0.6425907862084786, 0.16064769655211966, 0.08032384827605983, 0.8317070275027331, 0.8858393849236873, 0.27359642590307487, 0.3647952345374331, 0.09119880863435828, 0.27359642590307487, 0.19961779387689307, 0.39923558775378615, 0.19961779387689307, 0.08379472162134505, 0.1675894432426901, 0.08379472162134505, 0.1675894432426901, 0.25138416486403514, 0.08379472162134505, 0.08379472162134505, 0.08379472162134505, 0.8088738630927802, 0.3653846433055374, 0.04059829370061527, 0.3653846433055374, 0.2029914685030763, 0.6685501228594704, 0.3342750614297352, 0.33007269927357225, 0.33007269927357225, 0.33007269927357225, 0.9334045215840487, 0.12291273471434394, 0.24582546942868788, 0.6145636735717197, 0.8103192634948415, 0.21294144604211065, 0.21294144604211065, 0.21294144604211065, 0.21294144604211065, 0.3170614748243726, 0.6341229496487452, 0.9561242897228502, 0.17310933824008184, 0.6347342402136334, 0.01154062254933879, 0.05770311274669395, 0.04616249019735516, 0.01154062254933879, 0.01154062254933879, 0.01154062254933879, 0.02308124509867758, 0.15884355804859665, 0.3176871160971933, 0.3176871160971933, 0.07219330508261239, 0.036096652541306194, 0.6497397457435116, 0.10828995762391859, 0.036096652541306194, 0.3187455706454103, 0.6374911412908206, 0.32551620402603415, 0.32551620402603415, 0.32551620402603415, 0.3470290775889328, 0.3470290775889328, 0.3470290775889328, 0.3528373819858966, 0.3528373819858966, 0.346610850400759, 0.693221700801518, 0.7072188976065635, 0.35360944880328177, 0.3011399977150648, 0.6022799954301296, 0.6768897578166891, 0.13537795156333782, 0.13537795156333782, 0.735022446748614, 0.367511223374307, 0.27761433627957716, 0.27761433627957716, 0.27761433627957716, 0.3025924125213632, 0.5043206875356053, 0.9506709751884135, 0.3640148850905226, 0.3640148850905226, 0.3640148850905226, 0.24948087428742946, 0.7484426228622884, 0.20440909137081337, 0.8176363654832535, 0.7252545450911659, 0.18131363627279148, 0.24107900698266638, 0.24107900698266638, 0.48215801396533275, 0.43808056851912014, 0.6571208527786802, 0.924210648939084, 0.4366582516559936, 0.2183291258279968, 0.2183291258279968, 0.6760544687743112, 0.1690136171935778, 0.1690136171935778, 0.324954786610771, 0.324954786610771, 0.324954786610771, 0.2947915029119946, 0.5895830058239891, 0.13224693519671346, 0.17632924692895127, 0.13224693519671346, 0.13224693519671346, 0.08816462346447564, 0.17632924692895127, 0.08816462346447564, 0.04408231173223782, 0.04408231173223782, 0.6957035363956705, 0.1391407072791341, 0.14809279133001457, 0.22213918699502186, 0.518324769655051, 0.1256133462981654, 0.628066731490827, 0.0628066731490827, 0.0628066731490827, 0.3525111186217568, 0.3525111186217568, 0.3525111186217568, 0.33841305353740114, 0.33841305353740114, 0.33841305353740114, 0.5072111350979422, 0.16907037836598074, 0.16907037836598074, 0.16907037836598074, 0.19683819776725128, 0.09841909888362564, 0.19683819776725128, 0.39367639553450257, 0.9375799051217809, 0.05858839385975506, 0.23435357543902025, 0.11717678771951012, 0.05858839385975506, 0.05858839385975506, 0.35153036315853037, 0.05858839385975506, 0.05858839385975506, 0.2091707042571687, 0.4183414085143374, 0.2091707042571687, 0.2091707042571687, 0.06917979052595433, 0.8993372768374062, 0.7774532873374892, 0.12957554788958153, 0.9868920101358506, 0.8236071650416824, 1.0586722988104358, 0.848735151429189, 0.22977508280634962, 0.45955016561269924, 0.22977508280634962, 0.3834459521712695, 0.19172297608563474, 0.19172297608563474, 0.3834459521712695, 0.5038466888175083, 0.5038466888175083, 0.3348589331292421, 0.3348589331292421, 0.3348589331292421, 0.5415858493196201, 0.27079292465981003, 0.5262157696839661, 0.39466182726297455, 0.8210139501466001, 0.05473426334310667, 0.05473426334310667, 0.05473426334310667, 0.7769673787918001, 0.03531669903599091, 0.07063339807198182, 0.07063339807198182, 0.33434470526281257, 0.33434470526281257, 0.33434470526281257, 0.3653901242280625, 0.730780248456125, 0.21171878376761616, 0.21171878376761616, 0.4234375675352323, 0.3394302903765882, 0.6788605807531763, 0.36383134892087393, 0.36383134892087393, 0.09356701016525237, 0.7017525762393928, 0.18713402033050475, 0.10685017234917697, 0.10685017234917697, 0.21370034469835394, 0.10685017234917697, 0.10685017234917697, 0.3205505170475309, 0.15201718832348443, 0.4975107981495854, 0.2902146322539248, 0.013819744393044038, 0.3009637780837553, 0.15048188904187765, 0.3009637780837553, 0.15048188904187765, 0.324954786610771, 0.324954786610771, 0.324954786610771, 0.9137725823984301, 0.012870036371808873, 0.025740072743617746, 0.012870036371808873, 0.012870036371808873, 0.012870036371808873, 0.012870036371808873, 0.16559926636235853, 0.6623970654494341, 0.7360362262686253, 0.33811953549637075, 0.6762390709927415, 0.24216091511937898, 0.726482745358137, 0.6580349604861839, 0.32901748024309196, 0.6897602755798512, 0.3448801377899256, 0.4902858759335947, 0.4902858759335947, 0.08323927903186377, 0.2913374766115232, 0.16647855806372755, 0.20809819757965944, 0.12485891854779566, 0.04161963951593189, 0.04161963951593189, 0.42917038231845994, 0.21458519115922997, 0.21458519115922997, 0.36395324676202107, 0.36395324676202107, 0.36395324676202107, 0.33972103818190186, 0.6794420763638037, 0.9228651193183657, 0.35373221302849644, 0.17686610651424822, 0.17686610651424822, 0.17686610651424822, 0.7657805044177656, 0.1531561008835531, 0.11414236614049297, 0.4185220091818076, 0.2663321876611503, 0.038047455380164324, 0.038047455380164324, 0.038047455380164324, 0.31838443968285485, 0.15919221984142742, 0.23878832976214112, 0.07959610992071371, 0.07959610992071371, 0.12699976856956918, 0.4656658180884203, 0.16933302475942555, 0.08466651237971277, 0.04233325618985639, 0.04233325618985639, 0.25803540089122645, 0.25803540089122645, 0.25803540089122645, 0.5558650238655833, 0.27793251193279167, 0.27793251193279167, 0.2894987147660993, 0.14474935738304964, 0.4342480721491489, 0.2711204779953539, 0.6947462248630943, 0.7937858844289122, 0.1322976474048187, 0.07500345606157302, 0.07500345606157302, 0.15000691212314604, 0.15000691212314604, 0.07500345606157302, 0.22501036818471906, 0.07500345606157302, 0.07500345606157302, 0.07500345606157302, 0.30037876818101666, 0.15018938409050833, 0.450568152271525, 0.2628083030365506, 0.5256166060731012, 0.2628083030365506, 0.18971189235364372, 0.18971189235364372, 0.18971189235364372, 0.18971189235364372, 0.18971189235364372, 0.30181336804426023, 0.6036267360885205, 0.6936503208597082, 0.6618019478739618, 0.3309009739369809, 0.5114816883684054, 0.10229633767368107, 0.20459267534736214, 0.10229633767368107, 0.10229633767368107, 0.8621908691248046, 0.04537846679604234, 0.04537846679604234, 0.07357526312465948, 0.2575134209363082, 0.1839381578116487, 0.14715052624931896, 0.22072578937397844, 0.03678763156232974, 0.03678763156232974, 0.5510125396380743, 0.11020250792761485, 0.2204050158552297, 0.11020250792761485, 0.7798838888675154, 0.19497097221687884, 0.281336965765315, 0.56267393153063, 0.26440917484416715, 0.6610229371104179, 0.8722769031793551, 0.18318834026085104, 0.03434781379890957, 0.5037679357173404, 0.19463761152715423, 0.02289854253260638, 0.01144927126630319, 0.01144927126630319, 0.03434781379890957, 0.41300821449762776, 0.3671184128867802, 0.13766940483254259, 0.045889801610847526, 0.32136554109049353, 0.6427310821809871, 0.24596379287445283, 0.36894568931167926, 0.12298189643722642, 0.12298189643722642, 0.12298189643722642, 0.06151357080352249, 0.06151357080352249, 0.24605428321408995, 0.12302714160704498, 0.06151357080352249, 0.12302714160704498, 0.12302714160704498, 0.12302714160704498, 0.7059105175138899, 0.09177692856763178, 0.09177692856763178, 0.18355385713526357, 0.18355385713526357, 0.36710771427052713, 0.09177692856763178, 0.2500953178533971, 0.2500953178533971, 0.5001906357067942, 0.2052954046021166, 0.3079431069031749, 0.35926695805370407, 0.05132385115052915, 0.18557937336130229, 0.37115874672260457, 0.37115874672260457, 0.21453533125896912, 0.21453533125896912, 0.21453533125896912, 0.21453533125896912, 0.27567231841069034, 0.27567231841069034, 0.5513446368213807, 0.17740392906439806, 0.5322117871931942, 0.17740392906439806, 0.6079971954112139, 0.30399859770560694, 0.1291177296021937, 0.1291177296021937, 0.1291177296021937, 0.1291177296021937, 0.1291177296021937, 0.2582354592043874, 0.7105676659726649, 0.08496309861176485, 0.1699261972235297, 0.25488929583529457, 0.25488929583529457, 0.08496309861176485, 0.08496309861176485, 0.08496309861176485, 0.05617620559736443, 0.33705723358418654, 0.05617620559736443, 0.16852861679209327, 0.05617620559736443, 0.22470482238945771, 0.05617620559736443, 0.05617620559736443, 0.05617620559736443, 0.29564208753635596, 0.29564208753635596, 0.29564208753635596, 0.32436643578361596, 0.6487328715672319, 0.3977020839273582, 0.3977020839273582, 0.1791379007096007, 0.3582758014192014, 0.3582758014192014, 0.8313986058620869, 0.2613854314479567, 0.5227708628959133, 0.2613854314479567, 0.1711611850124865, 0.684644740049946, 0.49727809588901517, 0.1657593652963384, 0.1657593652963384, 0.1657593652963384, 0.5874506312420716, 0.2937253156210358, 0.6484375362865047, 0.12441463878105682, 0.3110365969526421, 0.12441463878105682, 0.12441463878105682, 0.06220731939052841, 0.06220731939052841, 0.12441463878105682, 0.35418792316484815, 0.35418792316484815, 0.35418792316484815, 0.9580371173095543, 0.41919297930568816, 0.5030315751668258, 0.09296139428788143, 0.2788841828636443, 0.18592278857576286, 0.18592278857576286, 0.09296139428788143, 0.4084852836696375, 0.4084852836696375, 0.9284073387461361, 0.703166738329321, 0.6908596052815568, 0.11514326754692614, 0.11514326754692614, 0.11371413738511386, 0.6633324680798309, 0.1705712060776708, 0.9584630354621445, 0.7170036612829738, 0.3585018306414869, 0.9393589671605681, 0.0709209350339683, 0.3900651426868257, 0.03546046751698415, 0.10638140255095246, 0.03546046751698415, 0.03546046751698415, 0.03546046751698415, 0.03546046751698415, 0.17730233758492076, 0.03546046751698415, 0.7507048228329726, 0.2502349409443242, 0.5033584094565429, 0.5033584094565429, 0.4623806556919021, 0.23119032784595106, 0.23119032784595106, 0.9375799005526197, 0.06361608639208582, 0.731584993508987, 0.15904021598021456, 0.03180804319604291, 0.09202335238637295, 0.27607005715911886, 0.27607005715911886, 0.09202335238637295, 0.09202335238637295, 0.09202335238637295, 0.09202335238637295, 0.4016117427876779, 0.13387058092922596, 0.13387058092922596, 0.13387058092922596, 0.13387058092922596, 0.13387058092922596, 0.31716445981466473, 0.31716445981466473, 0.31716445981466473, 0.3118386840033448, 0.6236773680066896, 0.3199202283132649, 0.12796809132530595, 0.06398404566265298, 0.06398404566265298, 0.06398404566265298, 0.06398404566265298, 0.06398404566265298, 0.2559361826506119, 0.5741900532192932, 0.2870950266096466, 0.40511632283590987, 0.20255816141795494, 0.20255816141795494, 0.12178739411892606, 0.36536218235677814, 0.36536218235677814, 0.11006165849566885, 0.11006165849566885, 0.2201233169913377, 0.2201233169913377, 0.11006165849566885, 0.2201233169913377, 0.9579427125301532, 0.8317070249300849, 0.30069169993991307, 0.30069169993991307, 0.30069169993991307, 0.18113270732627418, 0.4528317683156854, 0.27169906098941127, 0.5207281984957157, 0.26036409924785786, 0.16601914986051433, 0.16601914986051433, 0.16601914986051433, 0.16601914986051433, 0.33203829972102866, 0.2546731012482121, 0.5093462024964241, 0.2546731012482121, 0.15176615524423545, 0.3035323104884709, 0.15176615524423545, 0.15176615524423545, 0.15176615524423545, 0.15176615524423545, 0.5757107528676458, 0.14392768821691146, 0.14392768821691146, 0.1585122817663492, 0.6657515834186666, 0.03170245635326984, 0.03170245635326984, 0.03170245635326984, 0.49891939967388405, 0.24945969983694202, 0.24945969983694202, 0.21372452489047797, 0.8548980995619119, 0.6347539087627767, 0.15868847719069418, 0.15868847719069418, 0.5386131942293892, 0.17953773140979642, 0.08976886570489821, 0.17953773140979642, 0.5946454924028752, 0.19821516413429174, 0.19821516413429174, 0.5359828723711042, 0.2679914361855521, 0.8133986575402453, 0.20334966438506133, 0.33429044877683745, 0.11143014959227913, 0.44572059836911654, 0.7919356644704791, 0.13198927741174651, 0.23447657624236654, 0.46895315248473307, 0.18291971217598718, 0.0831453237163578, 0.681791654474134, 0.01662906474327156, 0.01662906474327156, 0.17718093937519944, 0.17718093937519944, 0.17718093937519944, 0.08859046968759972, 0.08859046968759972, 0.08859046968759972, 0.08859046968759972, 0.08859046968759972, 0.6532593091730678, 0.3266296545865339, 0.6100893185349776, 0.3050446592674888, 0.21455410436601483, 0.42910820873202965, 0.10727705218300741, 0.21455410436601483, 0.14353149132449883, 0.3827506435319969, 0.04784383044149961, 0.19137532176599845, 0.04784383044149961, 0.09568766088299922, 0.04784383044149961, 0.7095376717556702, 0.23651255725189008, 0.39293521522806096, 0.39293521522806096, 0.12129128807186303, 0.6064564403593151, 0.1617217174291507, 0.040430429357287676, 0.02558536755574865, 0.6396341888937163, 0.2558536755574865, 0.02558536755574865, 0.02558536755574865, 0.09254370046253556, 0.27763110138760666, 0.18508740092507112, 0.09254370046253556, 0.37017480185014223, 0.24791308050792626, 0.49582616101585253, 0.08263769350264209, 0.08263769350264209, 0.29649415650355976, 0.29649415650355976, 0.29649415650355976, 0.9580919179617601, 0.8893337917161886, 0.33849595380511416, 0.33849595380511416, 0.33849595380511416, 0.17771526178889874, 0.3554305235777975, 0.17771526178889874, 0.17771526178889874, 0.07292708344910506, 0.36463541724552534, 0.07292708344910506, 0.07292708344910506, 0.14585416689821012, 0.07292708344910506, 0.07292708344910506, 0.14585416689821012, 0.17752161697477972, 0.48818444668064426, 0.04438040424369493, 0.04438040424369493, 0.04438040424369493, 0.08876080848738986, 0.04438040424369493, 0.08876080848738986, 0.2675270957150129, 0.2675270957150129, 0.2675270957150129, 0.16226501143063454, 0.8113250571531727, 0.5663360983151579, 0.2831680491575789, 0.38955314511768924, 0.3339026958151622, 0.055650449302527036, 0.055650449302527036, 0.055650449302527036, 0.2646933053920218, 0.2646933053920218, 0.5293866107840436, 0.22902030527186182, 0.22902030527186182, 0.45804061054372364, 0.5011644317025384, 0.10023288634050768, 0.10023288634050768, 0.3006986590215231, 0.2597470727171541, 0.4329117878619235, 0.0865823575723847, 0.0865823575723847, 0.0865823575723847, 0.6991947816569488, 0.13983895633138976, 0.279434555780757, 0.279434555780757, 0.1397172778903785, 0.279434555780757, 0.3557128537938554, 0.3557128537938554, 0.1778564268969277, 0.3754855820163008, 0.3754855820163008, 0.07509711640326015, 0.07509711640326015, 0.07509711640326015, 0.17654060191771292, 0.17654060191771292, 0.35308120383542585, 0.35308120383542585, 0.3988789330260105, 0.3988789330260105, 0.1329596443420035, 0.36383134892087393, 0.36383134892087393, 0.46114253113018944, 0.2766855186781137, 0.0922285062260379, 0.0922285062260379, 0.3224829019688819, 0.6449658039377638, 0.4516739033324384, 0.4516739033324384, 0.8090999225612524, 0.5572591364838471, 0.27862956824192353, 0.34955354030426106, 0.34955354030426106, 0.17477677015213053, 0.6921986668916418, 0.17304966672291044, 0.08652483336145522, 0.7313624914396379, 0.36568124571981897, 0.2866585725071249, 0.5733171450142498, 0.05733171450142498, 0.05733171450142498, 0.5579476273838775, 0.27897381369193874, 0.19822315589637243, 0.19822315589637243, 0.39644631179274487, 0.09911157794818622, 0.09911157794818622, 0.09911157794818622, 0.43246552106293606, 0.43246552106293606, 0.7195065935173529, 0.6508746505487766, 0.3254373252743883, 0.7939177769776152, 0.0992397221222019, 0.0992397221222019, 0.6532974908917383, 0.21776583029724608, 0.21507530447068146, 0.4301506089413629, 0.10753765223534073, 0.10753765223534073, 0.35346315265030054, 0.35346315265030054, 0.35346315265030054, 0.23003155165268002, 0.5750788791317001, 0.11501577582634001, 0.11501577582634001, 0.1051007078041992, 0.6306042468251951, 0.1051007078041992, 0.1051007078041992, 0.5902766701817492, 0.2951383350908746, 0.3805145945378816, 0.1902572972689408, 0.1902572972689408, 0.1902572972689408, 0.25842325506814257, 0.6783610445538742, 0.04845436032527674, 0.258403645012436, 0.516807290024872, 0.129201822506218, 0.04306727416873934, 0.32250026106097157, 0.32250026106097157, 0.32250026106097157, 0.4613793225627759, 0.15379310752092532, 0.15379310752092532, 0.7123018012357922, 0.3561509006178961, 0.06898457212879192, 0.06898457212879192, 0.27593828851516766, 0.3449228606439596, 0.06898457212879192, 0.06898457212879192, 0.22629498567733117, 0.22629498567733117, 0.45258997135466233, 0.19733625623418838, 0.5920087687025651, 0.19873518194651946, 0.6955731368128182, 0.09936759097325973, 0.19390107916429092, 0.5817032374928728, 0.19390107916429092, 0.10632321670822392, 0.10632321670822392, 0.10632321670822392, 0.5316160835411196, 0.10632321670822392, 0.10632321670822392, 0.13068454128258344, 0.6534227064129173, 0.13068454128258344, 0.13068454128258344, 0.3375662605477847, 0.3375662605477847, 0.3327143370392151, 0.6654286740784302, 0.735155033787603, 0.1470310067575206, 0.33997526845510007, 0.6799505369102001, 0.8387479521137603, 0.05991056800812574, 0.05991056800812574, 0.13211014097525323, 0.26422028195050645, 0.13211014097525323, 0.13211014097525323, 0.39633042292575965, 0.13402288067003695, 0.2680457613400739, 0.40206864201011083, 0.11188691526887799, 0.8950953221510239, 0.9534989817518621, 0.6402912290156701, 0.3201456145078351, 0.33606188761394445, 0.0672123775227889, 0.0672123775227889, 0.0672123775227889, 0.0672123775227889, 0.0672123775227889, 0.1344247550455778, 0.0672123775227889, 0.0672123775227889, 0.12916242399700537, 0.6458121199850269, 0.12916242399700537, 0.43116285857570946, 0.21558142928785473, 0.21558142928785473, 0.3356136886213222, 0.6712273772426444, 0.36124600571716325, 0.36124600571716325, 0.17095465796921638, 0.42738664492304096, 0.42738664492304096, 0.23278756290218983, 0.23278756290218983, 0.23278756290218983, 0.23278756290218983, 0.2921620267652411, 0.2921620267652411, 0.14608101338262056, 0.14608101338262056, 0.532969819250757, 0.2664849096253785, 0.08595134297651814, 0.5586837293473679, 0.21487835744129535, 0.04297567148825907, 0.1479647667542589, 0.2959295335085178, 0.2959295335085178, 0.1479647667542589, 0.41258453795076333, 0.20629226897538167, 0.20629226897538167, 0.13827934661745958, 0.13827934661745958, 0.27655869323491916, 0.13827934661745958, 0.13827934661745958, 0.2957547708747203, 0.2957547708747203, 0.2957547708747203, 0.45459365610865266, 0.22729682805432633, 0.22729682805432633, 0.18094040336066974, 0.2714106050410046, 0.4975861092418418, 0.045235100840167436, 0.2700721494191239, 0.5401442988382478, 0.7669922730245368, 0.8367266997303187, 0.13848202604089555, 0.06924101302044777, 0.06924101302044777, 0.13848202604089555, 0.13848202604089555, 0.06924101302044777, 0.4154460781226867, 0.2649787388105288, 0.2649787388105288, 0.5299574776210576, 0.24460721935769222, 0.12230360967884611, 0.24460721935769222, 0.12230360967884611, 0.24460721935769222, 0.21602995689153254, 0.4320599137830651, 0.4320599137830651, 0.4273841619781888, 0.4273841619781888, 0.2136920809890944, 0.5329679792570529, 0.26648398962852643, 0.6673169421146198, 0.16682923552865495, 0.7099361003071039, 0.2366453667690346, 0.15666023227907094, 0.3133204645581419, 0.4699806968372129, 0.3001592969906644, 0.20010619799377627, 0.20010619799377627, 0.20010619799377627, 0.29322852261993826, 0.29322852261993826, 0.29322852261993826, 0.3327143370392151, 0.6654286740784302, 0.2654548119848455, 0.6193945612979729, 0.5292784566646545, 0.35285230444310295, 0.6796815299976374, 0.13593630599952747, 0.8517908674317732, 0.8038930506152828, 0.06699108755127356, 0.06699108755127356, 0.1565202936992294, 0.3130405873984588, 0.1565202936992294, 0.1565202936992294, 0.1565202936992294, 0.3583737337935893, 0.3583737337935893, 0.17918686689679464, 0.17918686689679464, 0.3103561236062599, 0.4138081648083466, 0.10345204120208665, 0.10345204120208665, 0.9018802409107562, 0.16799276638331842, 0.63837251225661, 0.10079565982999104, 0.03359855327666368, 0.03359855327666368, 0.30281905909856216, 0.6056381181971243, 0.291576521005518, 0.145788260502759, 0.145788260502759, 0.291576521005518, 0.16598235958532692, 0.8299117979266346, 0.45458974859857254, 0.22729487429928627, 0.22729487429928627, 0.35699670817820234, 0.35699670817820234, 0.35699670817820234, 0.20828626088658267, 0.20828626088658267, 0.624858782659748, 0.07610544970831778, 0.6468963225207012, 0.15221089941663557, 0.03805272485415889, 0.03805272485415889, 0.03805272485415889, 0.8718756438355808, 0.7031666941959064, 0.32030730286772413, 0.6406146057354483, 0.23185435782783478, 0.028981794728479348, 0.6086176892980663, 0.057963589456958696, 0.028981794728479348, 0.014490897364239674, 0.34175151744203164, 0.6835030348840633, 0.2636332659809475, 0.6590831649523687, 0.6956059982271207, 0.14481544359776402, 0.5792617743910561, 0.07240772179888201, 0.07240772179888201, 0.07240772179888201, 0.33260216458183034, 0.33260216458183034, 0.33260216458183034, 0.03380045775442716, 0.0845011443860679, 0.01690022887721358, 0.06760091550885432, 0.01690022887721358, 0.05070068663164074, 0.0845011443860679, 0.0845011443860679, 0.25350343315820373, 0.18590251764934937, 0.01690022887721358, 0.05070068663164074, 0.03380045775442716, 0.8893337917161886, 0.12188126356727548, 0.5687792299806189, 0.04062708785575849, 0.20313543927879246, 0.22978240491190804, 0.34467360736786207, 0.38297067485318004, 0.5895991888462184, 0.2947995944231092, 0.37095659479038195, 0.7419131895807639, 0.25422917964333586, 0.38134376946500376, 0.12711458982166793, 0.12711458982166793, 0.49630288041767695, 0.16543429347255897, 0.16543429347255897, 0.16999844517569684, 0.16999844517569684, 0.16999844517569684, 0.3399968903513937, 0.16999844517569684, 0.2710350278162347, 0.6945272587791014, 0.5873111446493924, 0.2936555723246962, 0.2885037397398147, 0.2885037397398147, 0.14425186986990735, 0.14425186986990735, 0.5150003167719868, 0.17166677225732893, 0.17166677225732893, 0.27711488381404, 0.27711488381404, 0.27711488381404, 0.27711488381404, 0.5588360503277995, 0.27941802516389974, 0.290787474356579, 0.4361812115348685, 0.1453937371782895, 0.2440493536584421, 0.2440493536584421, 0.4880987073168842, 0.07446772334495967, 0.7446772334495968, 0.07446772334495967, 0.294309212276974, 0.294309212276974, 0.294309212276974, 0.4514732829137954, 0.4514732829137954, 0.36088147184865654, 0.36088147184865654, 0.36088147184865654, 0.26583197065022285, 0.26583197065022285, 0.5316639413004457, 0.31736717776396517, 0.31736717776396517, 0.31736717776396517, 0.36194864937345955, 0.36194864937345955, 0.36194864937345955, 0.8444733273268789, 0.9575712694971821, 0.9137346788260771, 0.01286950251867714, 0.02573900503735428, 0.01286950251867714, 0.01286950251867714, 0.01286950251867714, 0.01286950251867714, 0.8313986058620869, 0.23719194438011926, 0.11859597219005963, 0.4743838887602385, 0.44195247829178697, 0.147317492763929, 0.147317492763929, 0.147317492763929, 0.464660059271749, 0.2323300296358745, 0.2323300296358745, 0.13515987278738117, 0.5406394911495247, 0.27031974557476235, 0.9202982459387595, 0.08366347690352359, 0.3001421421369674, 0.3001421421369674, 0.3001421421369674, 0.18938581378776975, 0.3787716275755395, 0.18938581378776975, 0.18938581378776975, 0.3590477387264641, 0.3590477387264641, 0.3590477387264641, 0.15406396439208542, 0.770319821960427, 0.2841782333956885, 0.2841782333956885, 0.568356466791377, 0.9141970458461465, 0.012876014730227415, 0.02575202946045483, 0.006438007365113707, 0.006438007365113707, 0.012876014730227415, 0.006438007365113707, 0.006438007365113707, 0.006438007365113707, 0.8961856295673347, 0.04716766471407025, 0.36680339853828664, 0.36680339853828664, 0.2908811116516052, 0.2908811116516052, 0.2908811116516052, 0.7670174896934132, 0.3492901654299779, 0.3492901654299779, 0.3492901654299779, 0.6100890584135494, 0.3050445292067747, 0.766931821133084, 0.14727189483196834, 0.5890875793278734, 0.14727189483196834, 0.6606004722721466, 0.16515011806803664, 0.221410412281286, 0.664231236843858, 0.7032640157441384, 0.3516320078720692, 0.33058403916672857, 0.6611680783334571, 0.8419123145025106, 0.10523903931281382, 0.7965623215012089, 0.15931246430024176, 0.06293274014865023, 0.5034619211892019, 0.3146637007432512, 0.8165015200217749, 0.11664307428882499, 0.9560897446711161, 0.14996548322567374, 0.07498274161283687, 0.07498274161283687, 0.6748446745155319, 0.4691092916636592, 0.2345546458318296, 0.2345546458318296, 0.7683591486679842, 0.5341783846708549, 0.20545322487340573, 0.041090644974681144, 0.041090644974681144, 0.041090644974681144, 0.08218128994936229, 0.09593579484058477, 0.7674863587246782, 0.09593579484058477, 0.14326482242415542, 0.7163241121207772, 0.7217480360283983, 0.24058267867613276, 0.4987892335363434, 0.12469730838408585, 0.2493946167681717, 0.12469730838408585, 0.45386380681792327, 0.34039785511344245, 0.22693190340896163, 0.23164378861093177, 0.07721459620364392, 0.15442919240728784, 0.07721459620364392, 0.07721459620364392, 0.23164378861093177, 0.07721459620364392, 0.07721459620364392, 0.07571839614108501, 0.6057471691286801, 0.22715518842325502, 0.07571839614108501, 0.26374560593093826, 0.5274912118618765, 0.26374560593093826, 0.9139018800653741, 0.012871857465709494, 0.025743714931418988, 0.012871857465709494, 0.012871857465709494, 0.012871857465709494, 0.012871857465709494, 0.16559926848671896, 0.6623970739468759, 0.6284592414140729, 0.209486413804691, 0.1047432069023455, 0.45896784469637675, 0.1529892815654589, 0.1529892815654589, 0.1529892815654589, 0.776606259644281, 0.12943437660738016, 0.10517561217459057, 0.6310536730475433, 0.10517561217459057, 0.10517561217459057, 0.2829182215095466, 0.2829182215095466, 0.2829182215095466, 0.19431676420374822, 0.38863352840749643, 0.38863352840749643, 0.8893337917161886, 0.22561871150714885, 0.11280935575357443, 0.11280935575357443, 0.11280935575357443, 0.22561871150714885, 0.11280935575357443, 0.10764978812064994, 0.3229493643619498, 0.4305991524825998, 0.28486630181665995, 0.5697326036333199, 0.7313052846694762, 0.3656526423347381, 0.2376492995494714, 0.05941232488736785, 0.05941232488736785, 0.415886274211575, 0.1188246497747357, 0.05941232488736785, 0.24820689089135262, 0.12410344544567631, 0.49641378178270523, 0.2711226581655648, 0.6947518115492598, 0.21934711627582318, 0.6580413488274696, 0.8698121992465807, 0.03953691814757185, 0.32262709648236854, 0.08065677412059213, 0.4839406447235528, 0.08065677412059213, 0.2984150878344273, 0.2984150878344273, 0.2984150878344273, 0.653147815874589, 0.43543187724972604, 0.8057460446931445, 0.24481177412111424, 0.24481177412111424, 0.4896235482422285, 0.3059341206547725, 0.611868241309545, 0.0874293171489869, 0.3497172685959476, 0.1748586342979738, 0.1748586342979738, 0.0874293171489869, 0.0874293171489869, 0.4240899988464913, 0.14136333294883044, 0.14136333294883044, 0.14136333294883044, 0.3886744125143234, 0.5830116187714851, 0.5936040350146415, 0.29680201750732077, 0.18082158567527706, 0.18082158567527706, 0.09041079283763853, 0.3616431713505541, 0.09041079283763853, 0.09041079283763853, 0.3897894877643265, 0.3118315902114612, 0.0779578975528653, 0.0779578975528653, 0.0779578975528653, 0.0779578975528653, 0.068103737425613, 0.6810373742561301, 0.136207474851226, 0.068103737425613, 0.16554142849630474, 0.22072190466173966, 0.27590238082717455, 0.055180476165434915, 0.27590238082717455, 0.055180476165434915, 0.957690833249192, 0.2072819394812387, 0.5182048487030967, 0.10364096974061934, 0.10364096974061934, 0.7770760422710143, 0.045710355427706725, 0.09142071085541345, 0.045710355427706725, 0.09881365946242239, 0.2964409783872672, 0.19762731892484478, 0.09881365946242239, 0.09881365946242239, 0.09881365946242239, 0.09881365946242239, 0.3916425975606679, 0.3916425975606679, 0.18734797656580626, 0.23418497070725783, 0.5152069355559672, 0.89069303573115, 0.520577494055504, 0.17352583135183466, 0.17352583135183466, 0.27969349064589905, 0.5593869812917981, 0.889333793633029, 0.1388945845384149, 0.1388945845384149, 0.1388945845384149, 0.2777891690768298, 0.2777891690768298, 0.3453896503197132, 0.6907793006394264, 0.8539041628648909, 0.6836919693115268, 0.3418459846557634, 0.22356457544130223, 0.22356457544130223, 0.44712915088260446, 0.22356457544130223, 0.4564268696081511, 0.22821343480407555, 0.22821343480407555, 0.11083739014628195, 0.11083739014628195, 0.6650243408776917, 0.24693819600128833, 0.49387639200257666, 0.24693819600128833, 0.5601217940987738, 0.2800608970493869, 0.5848574708218659, 0.1949524902739553, 0.1949524902739553, 0.04873723632945785, 0.6823213086124099, 0.24368618164728925, 0.2584172649661512, 0.5168345299323024, 0.9576638218100654, 0.6483352414668951, 0.2584192484415226, 0.5168384968830452, 0.15679154616404628, 0.4703746384921389, 0.15679154616404628, 0.31358309232809256, 0.19672488247710523, 0.39344976495421047, 0.19672488247710523, 0.7700976844093161, 0.1540195368818632, 0.6165121147716262, 0.4110080765144174, 0.6043880407900678, 0.20146268026335593, 0.22944230277649327, 0.024151821344894027, 0.5554918909325627, 0.0845313747071291, 0.036227732017341044, 0.036227732017341044, 0.012075910672447013, 0.012075910672447013, 0.18597541307707274, 0.061991804359024245, 0.6199180435902425, 0.061991804359024245], \"Term\": [\"000\", \"000\", \"000\", \"01102016\", \"01102016\", \"01102016\", \"03102016\", \"03102016\", \"03102016\", \"04102016\", \"04102016\", \"04102016\", \"100\", \"100\", \"100\", \"123\", \"123\", \"123\", \"1999\", \"1999\", \"1er\", \"1er\", \"2000\", \"2000\", \"2000\", \"2011\", \"2011\", \"2012\", \"2012\", \"2014\", \"2014\", \"2014\", \"2014\", \"2015\", \"2015\", \"2015\", \"2015\", \"2016\", \"2016\", \"2016\", \"2016\", \"2016\", \"2016\", \"2016\", \"2016\", \"2016\", \"2016\", \"2016\", \"2016\", \"2016\", \"2017\", \"2017\", \"2017\", \"30092016\", \"30092016\", \"AFP\", \"AFP\", \"AFP\", \"AFP\", \"ALL\", \"AUSSI\", \"Abonnez\", \"Abonnez\", \"Afrique\", \"Afrique\", \"Autre\", \"Autre\", \"Autre\", \"Autre\", \"Autre\", \"Autre\", \"Autre\", \"Avec\", \"Avec\", \"BEL\", \"BEL\", \"Bank\", \"Banque\", \"Banque\", \"Belga\", \"Bordeaux\", \"Bordeaux\", \"Bordeaux\", \"Bruxelles\", \"CANALSAT\", \"Cet\", \"Cet\", \"Charles\", \"Charles\", \"Charles\", \"Chine\", \"Chine\", \"Chine\", \"City\", \"City\", \"Clinton\", \"Clinton\", \"Commission\", \"Commission\", \"Commission\", \"Commission\", \"Connexion\", \"Conseil\", \"Conseil\", \"Conseil\", \"Copyright\", \"Copyright\", \"Copyright\", \"Copyright\", \"Copyright\", \"Copyright\", \"Copyright\", \"Cordialement\", \"Cour\", \"Cour\", \"Cr\\u00e9dit\", \"Cr\\u00e9dit\", \"Cr\\u00e9ez\", \"Derni\\u00e8res\", \"Derni\\u00e8res\", \"Des\", \"Deutsche\", \"Discuter\", \"Discuter\", \"Dossier\", \"Envoyer\", \"Envoyer\", \"Etat\", \"Etat\", \"Etat\", \"Etats\", \"Etats\", \"Etats\", \"Etats\", \"Etats\", \"Etienne\", \"Etienne\", \"Europe\", \"Europe\", \"Europe\", \"Eurosport\", \"Exp\\u00e9diteur\", \"Facebook\", \"Facebook\", \"Facebook\", \"Facebook\", \"Figaro\", \"Figaro\", \"Figaro\", \"France\", \"France\", \"France\", \"France\", \"France\", \"France\", \"France\", \"France\", \"Fran\\u00e7ais\", \"Fraude\", \"Fraude\", \"Fraude\", \"Fraude\", \"Garbine\", \"Garbine\", \"Henry\", \"Henry\", \"Henry\", \"Hollande\", \"INFOS\", \"INFOS\", \"INFOS\", \"Identifiez\", \"Inscrivez\", \"Inscrivez\", \"Inscrivez\", \"Inscrivez\", \"Iran\", \"Iran\", \"LIRE\", \"Les\", \"Les\", \"Les\", \"Les\", \"Les\", \"Les\", \"Les\", \"Les\", \"Les\", \"Ligue\", \"Ligue\", \"Ligue\", \"Lire\", \"Lire\", \"Lire\", \"Lire\", \"Lire\", \"Livraison\", \"Livraison\", \"Lyon\", \"Lyon\", \"Lyon\", \"Mais\", \"Mais\", \"Mais\", \"Malaisie\", \"Malaisie\", \"Maria\", \"Maria\", \"Maroc\", \"Maroc\", \"Matthew\", \"Matthew\", \"Metz\", \"Metz\", \"Metz\", \"Midi\", \"Midi\", \"Minutes\", \"Minutes\", \"Minutes\", \"Mis\", \"Mis\", \"Modifi\\u00e9\", \"Mon\", \"Mon\", \"Mon\", \"Mondefr\", \"Mondefr\", \"Mots\", \"Mots\", \"Muguruza\", \"Muguruza\", \"Nations\", \"Nations\", \"Nations\", \"Nice\", \"Nice\", \"Notre\", \"Obs\", \"Obs\", \"Obs\", \"October\", \"October\", \"October\", \"Oise\", \"Oise\", \"Oise\", \"Par\", \"Par\", \"Paris\", \"Paris\", \"Paris\", \"Paris\", \"Paris\", \"Paris\", \"Paris\", \"Paris\", \"Paris\", \"Parisien\", \"Parisien\", \"Parlement\", \"Parlement\", \"Parlement\", \"Partager\", \"Partager\", \"Partager\", \"Partager\", \"Pas\", \"Pas\", \"Pas\", \"Philippe\", \"Philippe\", \"Philippe\", \"Pierre\", \"Pierre\", \"Pierre\", \"Pierre\", \"Plus\", \"Plus\", \"Plus\", \"Plus\", \"Post\\u00e9\", \"Pour\", \"Pour\", \"Pour\", \"Pour\", \"Pour\", \"Pour\", \"Pour\", \"Pour\", \"Premier\", \"Premier\", \"Premier\", \"Premier\", \"Publicit\\u00e9\", \"Publicit\\u00e9\", \"Publi\\u00e9\", \"Publi\\u00e9\", \"Quentin\", \"Rebloguer\", \"Reuters\", \"R\\u00e9daction\", \"R\\u00e9solution\", \"R\\u00e9solution\", \"R\\u00e9solution\", \"Saint\", \"Saint\", \"Saint\", \"Saint\", \"Seine\", \"Seine\", \"Selon\", \"Selon\", \"Selon\", \"September\", \"September\", \"Source\", \"Source\", \"Suite\", \"Suite\", \"Suite\", \"Suite\", \"Sur\", \"Sur\", \"Sur\", \"Sur\", \"TF1\", \"TF1\", \"TF1\", \"Telegram\", \"Telegram\", \"The\", \"The\", \"The\", \"Twitter\", \"Twitter\", \"T\\u00e9l\\u00e9chargez\", \"T\\u00e9l\\u00e9chargez\", \"USA\", \"USA\", \"USA\", \"Une\", \"Une\", \"Une\", \"Une\", \"Une\", \"Une\", \"Union\", \"Union\", \"Union\", \"Union\", \"Unis\", \"Unis\", \"Unis\", \"Unis\", \"Val\", \"Val\", \"Val\", \"Veuillez\", \"Veuillez\", \"Veuillez\", \"Veuillez\", \"Veuillez\", \"Veuillez\", \"Veuillez\", \"Vid\\u00e9o\", \"Vid\\u00e9o\", \"Virus\", \"Voici\", \"Voici\", \"Voir\", \"Voir\", \"Votre\", \"Votre\", \"WTA\", \"WTA\", \"Web\", \"Web\", \"accord\", \"accord\", \"accord\", \"accord\", \"accord\", \"accord\", \"accord\", \"accueil\", \"accueil\", \"accueil\", \"actualit\\u00e9\", \"actualit\\u00e9\", \"actualit\\u00e9\", \"actuel\", \"actuel\", \"adresse\", \"affaire\", \"affaire\", \"affaire\", \"affaire\", \"affaires\", \"affaires\", \"afin\", \"afin\", \"afin\", \"afin\", \"afin\", \"afin\", \"aide\", \"aide\", \"aide\", \"aide\", \"aide\", \"ainsi\", \"ainsi\", \"ainsi\", \"ainsi\", \"ainsi\", \"ainsi\", \"alors\", \"alors\", \"alors\", \"am\\u00e9ricain\", \"am\\u00e9ricain\", \"am\\u00e9ricain\", \"annonce\", \"annonce\", \"annonce\", \"annonces\", \"annonces\", \"annonc\\u00e9\", \"annonc\\u00e9\", \"ans\", \"ans\", \"ans\", \"ans\", \"ans\", \"ans\", \"ans\", \"ans\", \"ans\", \"ao\\u00fbt\", \"ao\\u00fbt\", \"ao\\u00fbt\", \"appel\", \"appel\", \"appel\", \"application\", \"application\", \"application\", \"application\", \"application\", \"apport\\u00e9\", \"apport\\u00e9\", \"approfondir\", \"appuyer\", \"appuyer\", \"apr\\u00e8s\", \"apr\\u00e8s\", \"apr\\u00e8s\", \"apr\\u00e8s\", \"apr\\u00e8s\", \"argent\", \"argent\", \"argent\", \"article\", \"article\", \"article\", \"article\", \"article\", \"article\", \"article\", \"articles\", \"articles\", \"articles\", \"articles\", \"assurer\", \"assurer\", \"attentat\", \"attentat\", \"aucune\", \"aucune\", \"aujourdhui\", \"aussi\", \"aussi\", \"aussi\", \"aussi\", \"aussi\", \"aussi\", \"aussi\", \"aussi\", \"autorit\\u00e9s\", \"autorit\\u00e9s\", \"autorit\\u00e9s\", \"autorit\\u00e9s\", \"autour\", \"autour\", \"avant\", \"avant\", \"avant\", \"avant\", \"avant\", \"avoir\", \"avoir\", \"avoir\", \"avoir\", \"avoir\", \"avoir\", \"avoir\", \"avoir\", \"bande\", \"bien\", \"bien\", \"bien\", \"bien\", \"bien\", \"bien\", \"bord\", \"bord\", \"bord\", \"cadre\", \"cadre\", \"cadre\", \"cadre\", \"campagne\", \"campagne\", \"campagne\", \"candidats\", \"candidats\", \"candidats\", \"candidats\", \"car\", \"car\", \"car\", \"cas\", \"cas\", \"cas\", \"celui\", \"celui\", \"centre\", \"centre\", \"centre\", \"centre\", \"centre\", \"centre\", \"certain\", \"cet\", \"cet\", \"cet\", \"cet\", \"cet\", \"cet\", \"cet\", \"cette\", \"cette\", \"cette\", \"cette\", \"cette\", \"cette\", \"cette\", \"cette\", \"cette\", \"chaque\", \"chaque\", \"chaque\", \"cha\\u00eene\", \"cha\\u00eene\", \"chef\", \"chef\", \"chez\", \"chez\", \"chez\", \"chroniques\", \"club\", \"club\", \"club\", \"cl\\u00e9s\", \"cl\\u00e9s\", \"coalition\", \"coalition\", \"coalition\", \"coalition\", \"collaboration\", \"collaboration\", \"coll\\u00e9gien\", \"comme\", \"comme\", \"comme\", \"comme\", \"comme\", \"comme\", \"comme\", \"commerce\", \"commerce\", \"commerce\", \"commercialement\", \"commission\", \"commission\", \"compte\", \"compte\", \"compte\", \"compte\", \"compte\", \"conditions\", \"conditions\", \"conna\\u00eetre\", \"connectez\", \"conseille\", \"conseille\", \"conseille\", \"consid\\u00e9rant\", \"consid\\u00e9rant\", \"consid\\u00e9rant\", \"cons\\u00e9quent\", \"contact\", \"contact\", \"contacter\", \"contre\", \"contre\", \"contre\", \"contre\", \"contre\", \"contre\", \"contre\", \"contre\", \"contre\", \"contre\", \"contr\\u00f4le\", \"contr\\u00f4le\", \"cours\", \"cours\", \"critiques\", \"critiques\", \"critiques\", \"deal\", \"demande\", \"demande\", \"demande\", \"demande\", \"depuis\", \"depuis\", \"depuis\", \"depuis\", \"depuis\", \"depuis\", \"depuis\", \"dernier\", \"dernier\", \"dernier\", \"dernier\", \"dernier\", \"dernier\", \"derni\\u00e8re\", \"derni\\u00e8re\", \"derni\\u00e8re\", \"derni\\u00e8res\", \"derni\\u00e8res\", \"deux\", \"deux\", \"deux\", \"deux\", \"deux\", \"deux\", \"deux\", \"deux\", \"devant\", \"devant\", \"devrait\", \"devrait\", \"devrait\", \"dialogue\", \"dialogue\", \"dialogue\", \"dimanche\", \"dimanche\", \"dimanche\", \"dimanche\", \"dimanche\", \"dimanche\", \"direct\", \"disponible\", \"dit\", \"dit\", \"dit\", \"doit\", \"doit\", \"doit\", \"dollars\", \"dollars\", \"donc\", \"donc\", \"donc\", \"donc\", \"donc\", \"donner\", \"donner\", \"donner\", \"donn\\u00e9\", \"donn\\u00e9\", \"donn\\u00e9\", \"donn\\u00e9\", \"donn\\u00e9\", \"donn\\u00e9\", \"dont\", \"dont\", \"dont\", \"droits\", \"droits\", \"droits\", \"droits\", \"droits\", \"dur\", \"dur\", \"dur\", \"durant\", \"durant\", \"d\\u00e8s\", \"d\\u00e8s\", \"d\\u00e8s\", \"d\\u00e9cembre\", \"d\\u00e9cembre\", \"d\\u00e9cembre\", \"d\\u00e9cembre\", \"d\\u00e9cision\", \"d\\u00e9cision\", \"d\\u00e9cision\", \"d\\u00e9clar\\u00e9\", \"d\\u00e9clar\\u00e9\", \"d\\u00e9fenseurs\", \"d\\u00e9fenseurs\", \"d\\u00e9j\\u00e0\", \"d\\u00e9j\\u00e0\", \"d\\u00e9j\\u00e0\", \"d\\u00e9nonce\", \"d\\u00e9nonce\", \"d\\u00e9tention\", \"d\\u00e9tention\", \"d\\u00e9veloppement\", \"d\\u00e9veloppement\", \"d\\u00e9veloppement\", \"d\\u00e9veloppement\", \"d\\u00e9veloppement\", \"encore\", \"encore\", \"encore\", \"encore\", \"encore\", \"encore\", \"encore\", \"encore\", \"enfants\", \"enfants\", \"engagement\", \"engagement\", \"enqu\\u00eate\", \"enqu\\u00eate\", \"enqu\\u00eate\", \"enqu\\u00eate\", \"entre\", \"entre\", \"entre\", \"entre\", \"entre\", \"entre\", \"entre\", \"entreprise\", \"entreprise\", \"essentiel\", \"essentiel\", \"europ\\u00e9en\", \"europ\\u00e9en\", \"europ\\u00e9en\", \"europ\\u00e9en\", \"europ\\u00e9enne\", \"europ\\u00e9enne\", \"europ\\u00e9enne\", \"europ\\u00e9enne\", \"europ\\u00e9enne\", \"euros\", \"euros\", \"euros\", \"euros\", \"euros\", \"examen\", \"examen\", \"examen\", \"examen\", \"experts\", \"experts\", \"experts\", \"exploit\\u00e9e\", \"exports\", \"extrait\", \"extrait\", \"extrait\", \"face\", \"face\", \"face\", \"face\", \"faire\", \"faire\", \"faire\", \"faire\", \"faire\", \"faire\", \"faire\", \"faire\", \"fait\", \"fait\", \"fait\", \"fait\", \"fait\", \"fait\", \"fait\", \"fait\", \"faut\", \"faut\", \"faut\", \"faveur\", \"faveur\", \"femme\", \"femme\", \"femmes\", \"femmes\", \"femmes\", \"femmes\", \"femmes\", \"film\", \"film\", \"film\", \"fin\", \"fin\", \"fin\", \"fois\", \"fois\", \"fois\", \"fois\", \"fran\\u00e7ais\", \"fran\\u00e7ais\", \"fran\\u00e7ais\", \"fran\\u00e7ais\", \"fran\\u00e7ais\", \"f\\u00e9vrier\", \"f\\u00e9vrier\", \"gauche\", \"gauche\", \"gauche\", \"gauche\", \"gaz\", \"gaz\", \"gaz\", \"gouvernement\", \"gouvernement\", \"gouvernement\", \"gouvernement\", \"gouvernement\", \"grand\", \"grand\", \"grand\", \"grand\", \"grande\", \"grande\", \"grande\", \"gratuitement\", \"gratuitement\", \"groupe\", \"groupe\", \"groupe\", \"groupe\", \"guerre\", \"guerre\", \"g\\u00e9n\\u00e9ral\", \"g\\u00e9n\\u00e9ral\", \"haut\", \"haute\", \"haute\", \"heure\", \"heure\", \"heure\", \"heures\", \"heures\", \"heures\", \"heureux\", \"heureux\", \"homme\", \"homme\", \"homme\", \"homme\", \"hommes\", \"hommes\", \"ici\", \"ici\", \"ici\", \"ici\", \"ici\", \"ici\", \"importance\", \"importance\", \"important\", \"impression\", \"impression\", \"industrielle\", \"industrielle\", \"industrielle\", \"information\", \"information\", \"informations\", \"informations\", \"informations\", \"informations\", \"infos\", \"infos\", \"infos\", \"insiste\", \"insiste\", \"insiste\", \"insiste\", \"instamment\", \"instamment\", \"instamment\", \"instamment\", \"international\", \"international\", \"internationale\", \"internationale\", \"internationale\", \"internationale\", \"int\\u00e9resser\", \"int\\u00e9resser\", \"int\\u00e9resser\", \"invite\", \"invite\", \"invite\", \"invite\", \"issue\", \"issue\", \"issue\", \"janvier\", \"janvier\", \"janvier\", \"jeune\", \"jeune\", \"jour\", \"jour\", \"jour\", \"jour\", \"jour\", \"jour\", \"journ\\u00e9e\", \"journ\\u00e9e\", \"journ\\u00e9e\", \"jours\", \"jours\", \"juillet\", \"juillet\", \"juillet\", \"juin\", \"juin\", \"juin\", \"jusqu\", \"jusqu\", \"jusqu\", \"jusqu\", \"jusqu\", \"jusqu\", \"justice\", \"justice\", \"justice\", \"justice\", \"lanc\\u00e9\", \"lanc\\u00e9\", \"lemondefr\", \"lemondefr\", \"leparisienfr\", \"leparisienfr\", \"lettre\", \"lettre\", \"leurs\", \"leurs\", \"leurs\", \"lieu\", \"lieu\", \"lieu\", \"lieu\", \"lieu\", \"ligne\", \"ligne\", \"ligne\", \"lire\", \"lire\", \"liste\", \"longue\", \"longue\", \"lors\", \"lors\", \"lors\", \"lors\", \"lors\", \"lors\", \"lors\", \"lors\", \"lors\", \"lundi\", \"lundi\", \"lundi\", \"main\", \"main\", \"main\", \"maison\", \"maison\", \"majorit\\u00e9\", \"majorit\\u00e9\", \"mani\\u00e8re\", \"mani\\u00e8re\", \"mani\\u00e8re\", \"mardi\", \"mardi\", \"mardi\", \"mardi\", \"mati\\u00e8re\", \"mati\\u00e8re\", \"mati\\u00e8re\", \"mati\\u00e8re\", \"membre\", \"membre\", \"membres\", \"membres\", \"membres\", \"membres\", \"mercredi\", \"mercredi\", \"mercredi\", \"mercredi\", \"milliards\", \"milliards\", \"milliards\", \"millions\", \"millions\", \"millions\", \"millions\", \"millions\", \"minutes\", \"minutes\", \"minutes\", \"mis\", \"mis\", \"mis\", \"mise\", \"mise\", \"mise\", \"mise\", \"mobile\", \"mobile\", \"modifi\\u00e9e\", \"moins\", \"mois\", \"mois\", \"mois\", \"mois\", \"mois\", \"mois\", \"mois\", \"moment\", \"moment\", \"moment\", \"monde\", \"monde\", \"monde\", \"monde\", \"monde\", \"mondial\", \"mondial\", \"mondial\", \"mondiale\", \"mondiale\", \"mondiale\", \"montr\\u00e9\", \"montr\\u00e9\", \"moyen\", \"moyen\", \"m\\u00e9moire\", \"m\\u00e9moire\", \"national\", \"national\", \"national\", \"nationale\", \"nationale\", \"nationale\", \"nationale\", \"naturel\", \"naturel\", \"naturel\", \"newsletters\", \"newsletters\", \"niveau\", \"niveau\", \"nom\", \"nom\", \"nombre\", \"nombre\", \"nombreux\", \"notamment\", \"notamment\", \"notamment\", \"nouveau\", \"nouveau\", \"nouveau\", \"nouveau\", \"nouveau\", \"nouvelle\", \"nouvelle\", \"nouvelle\", \"nouvelle\", \"novembre\", \"novembre\", \"novembre\", \"novembre\", \"occasion\", \"octobre\", \"octobre\", \"octobre\", \"octobre\", \"octobre\", \"ouragan\", \"ouragan\", \"paix\", \"paix\", \"paix\", \"paix\", \"paragraphe\", \"paragraphe\", \"part\", \"part\", \"part\", \"participer\", \"participer\", \"participer\", \"passe\", \"passe\", \"passe\", \"pays\", \"pays\", \"pays\", \"pays\", \"pays\", \"pays\", \"permet\", \"personnalis\\u00e9es\", \"petit\", \"petit\", \"peut\", \"peut\", \"peut\", \"peut\", \"peut\", \"peut\", \"peuvent\", \"peuvent\", \"photo\", \"photo\", \"ph\\u00e9nom\\u00e8ne\", \"place\", \"place\", \"place\", \"place\", \"place\", \"plein\", \"plein\", \"plein\", \"plus\", \"plus\", \"plus\", \"plus\", \"plus\", \"plus\", \"plus\", \"plus\", \"plus\", \"plus\", \"plus\", \"plus\", \"plus\", \"podcasts\", \"politique\", \"politique\", \"politique\", \"politique\", \"politiques\", \"politiques\", \"politiques\", \"porte\", \"porte\", \"porteparole\", \"porteparole\", \"position\", \"position\", \"position\", \"position\", \"possible\", \"possible\", \"possible\", \"pourrait\", \"pourrait\", \"pourrait\", \"pourrait\", \"pourrait\", \"pourront\", \"pourront\", \"pratique\", \"pratique\", \"premier\", \"premier\", \"premier\", \"premier\", \"presse\", \"presse\", \"presse\", \"pris\", \"pris\", \"pris\", \"pris\", \"prises\", \"prises\", \"prix\", \"prix\", \"prix\", \"probl\\u00e8mes\", \"probl\\u00e8mes\", \"probl\\u00e8mes\", \"processus\", \"processus\", \"processus\", \"prochaine\", \"prochaine\", \"prochaine\", \"proche\", \"proche\", \"proc\\u00e9dure\", \"proc\\u00e9dure\", \"proc\\u00e9dure\", \"projet\", \"projet\", \"projet\", \"propose\", \"propose\", \"propose\", \"propres\", \"propres\", \"propres\", \"pr\\u00e8s\", \"pr\\u00e9alable\", \"pr\\u00e9ciser\", \"pr\\u00e9ciser\", \"pr\\u00e9ciser\", \"pr\\u00e9ciser\", \"pr\\u00e9ciser\", \"pr\\u00e9ciser\", \"pr\\u00e9ciser\", \"pr\\u00e9c\\u00e9dents\", \"pr\\u00e9senter\", \"pr\\u00e9senter\", \"pr\\u00e9senter\", \"pr\\u00e9sident\", \"pr\\u00e9sident\", \"pr\\u00e9sident\", \"pr\\u00e9sident\", \"pr\\u00e9sidentielle\", \"pr\\u00e9sidentielle\", \"pr\\u00e9sidentielle\", \"publi\\u00e9\", \"publi\\u00e9\", \"publi\\u00e9\", \"puis\", \"puis\", \"quand\", \"quand\", \"quand\", \"quatre\", \"quatre\", \"quatre\", \"quatre\", \"quel\", \"quel\", \"quel\", \"quelque\", \"quelque\", \"quelques\", \"quelques\", \"quelques\", \"raison\", \"raison\", \"raison\", \"raison\", \"raison\", \"raison\", \"raison\", \"raison\", \"raison\", \"recevoir\", \"recevoir\", \"recommandations\", \"recommandations\", \"recommande\", \"recommande\", \"recommande\", \"rediffus\\u00e9e\", \"remport\\u00e9\", \"remport\\u00e9\", \"remport\\u00e9\", \"rendez\", \"rendez\", \"reproduite\", \"reste\", \"reste\", \"reste\", \"r\\u00e8glement\", \"r\\u00e8glement\", \"r\\u00e9agir\", \"r\\u00e9agir\", \"r\\u00e9alis\\u00e9\", \"r\\u00e9alis\\u00e9\", \"r\\u00e9cup\\u00e9rer\", \"r\\u00e9cup\\u00e9rer\", \"r\\u00e9daction\", \"r\\u00e9daction\", \"r\\u00e9gions\", \"r\\u00e9gions\", \"r\\u00e9solution\", \"r\\u00e9solution\", \"r\\u00e9solution\", \"r\\u00e9sultats\", \"r\\u00e9sultats\", \"r\\u00e9utilis\\u00e9e\", \"saison\", \"saison\", \"saison\", \"saison\", \"samedi\", \"samedi\", \"samedi\", \"sanctions\", \"sans\", \"sans\", \"sans\", \"sans\", \"sans\", \"sans\", \"savoir\", \"savoir\", \"savoir\", \"secondes\", \"secondes\", \"secr\\u00e9taire\", \"secr\\u00e9taire\", \"selon\", \"selon\", \"selon\", \"selon\", \"semaine\", \"semaine\", \"semaine\", \"septembre\", \"septembre\", \"septembre\", \"septembre\", \"septembre\", \"septembre\", \"septembre\", \"septembre\", \"service\", \"service\", \"service\", \"service\", \"services\", \"services\", \"services\", \"signalement\", \"signalement\", \"signalement\", \"signalement\", \"signalement\", \"signalement\", \"signalement\", \"similaires\", \"similaires\", \"site\", \"site\", \"site\", \"social\", \"social\", \"social\", \"social\", \"sociaux\", \"sociaux\", \"soci\\u00e9t\\u00e9\", \"soci\\u00e9t\\u00e9\", \"soci\\u00e9t\\u00e9\", \"soci\\u00e9t\\u00e9\", \"sommet\", \"sommet\", \"sommet\", \"sortie\", \"sortie\", \"sortie\", \"sound\", \"sous\", \"sous\", \"sous\", \"sous\", \"sous\", \"sous\", \"strat\\u00e9gie\", \"strat\\u00e9gie\", \"strat\\u00e9gie\", \"strat\\u00e9gique\", \"strat\\u00e9gique\", \"suffit\", \"suffit\", \"suite\", \"suite\", \"suite\", \"suite\", \"suite\", \"suite\", \"suivante\", \"suivante\", \"suivante\", \"suivantes\", \"suivantes\", \"suivre\", \"suivre\", \"sujet\", \"sujet\", \"s\\u00e9curit\\u00e9\", \"s\\u00e9curit\\u00e9\", \"s\\u00e9curit\\u00e9\", \"s\\u00e9curit\\u00e9\", \"s\\u00e9rie\", \"s\\u00e9rie\", \"s\\u00e9rie\", \"tant\", \"tant\", \"tard\", \"temps\", \"temps\", \"temps\", \"the\", \"the\", \"titre\", \"titre\", \"titre\", \"titre\", \"titre\", \"titre\", \"toujours\", \"toujours\", \"toujours\", \"toujours\", \"tour\", \"tour\", \"tourner\", \"tourner\", \"tous\", \"tous\", \"tous\", \"tous\", \"tous\", \"tous\", \"tout\", \"tout\", \"tout\", \"tout\", \"tout\", \"tout\", \"toute\", \"toute\", \"toute\", \"toute\", \"toutes\", \"toutes\", \"toutes\", \"toutes\", \"toutes\", \"toutes\", \"traduite\", \"travail\", \"travail\", \"travail\", \"travail\", \"travailleurs\", \"travailleurs\", \"travailleurs\", \"travailleurs\", \"trois\", \"trois\", \"trois\", \"trois\", \"trois\", \"trois\", \"trois\", \"troisi\\u00e8me\", \"troisi\\u00e8me\", \"unies\", \"unies\", \"unies\", \"uniquement\", \"urgence\", \"urgence\", \"urgence\", \"utilisez\", \"utilisez\", \"var\", \"vendredi\", \"vendredi\", \"vendredi\", \"vendredi\", \"vendredi\", \"venir\", \"venir\", \"vente\", \"veut\", \"veut\", \"victoire\", \"victoire\", \"victoire\", \"victoire\", \"vid\\u00e9o\", \"vid\\u00e9o\", \"vid\\u00e9o\", \"vid\\u00e9os\", \"vid\\u00e9os\", \"vid\\u00e9os\", \"vie\", \"vie\", \"vie\", \"voie\", \"voie\", \"vue\", \"vue\", \"vue\", \"\\u00c9tats\", \"\\u00c9tats\", \"\\u00c9tats\", \"\\u00e9cran\", \"\\u00e9cran\", \"\\u00e9crit\", \"\\u00e9crou\\u00e9\", \"\\u00e9dition\", \"\\u00e9dition\", \"\\u00e9galement\", \"\\u00e9galement\", \"\\u00e9galement\", \"\\u00e9galement\", \"\\u00e9lection\", \"\\u00e9lection\", \"\\u00e9lection\", \"\\u00e9nergie\", \"\\u00e9nergie\", \"\\u00e9quipe\", \"\\u00e9quipe\", \"\\u00e9trang\\u00e8res\", \"\\u00e9trang\\u00e8res\", \"\\u00eatre\", \"\\u00eatre\", \"\\u00eatre\", \"\\u00eatre\", \"\\u00eatre\", \"\\u00eatre\", \"\\u00eatre\", \"\\u00eatre\", \"\\u0153uvre\", \"\\u0153uvre\", \"\\u0153uvre\", \"\\u0153uvre\"]}, \"R\": 30, \"lambda.step\": 0.01, \"plot.opts\": {\"xlab\": \"PC1\", \"ylab\": \"PC2\"}, \"topic.order\": [9, 3, 2, 10, 16, 17, 19, 1, 4, 5, 18, 14, 12, 6, 7, 15, 11, 13, 20, 8]};\n",
              "\n",
              "function LDAvis_load_lib(url, callback){\n",
              "  var s = document.createElement('script');\n",
              "  s.src = url;\n",
              "  s.async = true;\n",
              "  s.onreadystatechange = s.onload = callback;\n",
              "  s.onerror = function(){console.warn(\"failed to load library \" + url);};\n",
              "  document.getElementsByTagName(\"head\")[0].appendChild(s);\n",
              "}\n",
              "\n",
              "if(typeof(LDAvis) !== \"undefined\"){\n",
              "   // already loaded: just create the visualization\n",
              "   !function(LDAvis){\n",
              "       new LDAvis(\"#\" + \"ldavis_el4161400334028370724944006046\", ldavis_el4161400334028370724944006046_data);\n",
              "   }(LDAvis);\n",
              "}else if(typeof define === \"function\" && define.amd){\n",
              "   // require.js is available: use it to load d3/LDAvis\n",
              "   require.config({paths: {d3: \"https://d3js.org/d3.v5\"}});\n",
              "   require([\"d3\"], function(d3){\n",
              "      window.d3 = d3;\n",
              "      LDAvis_load_lib(\"https://cdn.jsdelivr.net/gh/bmabey/pyLDAvis@3.3.1/pyLDAvis/js/ldavis.v3.0.0.js\", function(){\n",
              "        new LDAvis(\"#\" + \"ldavis_el4161400334028370724944006046\", ldavis_el4161400334028370724944006046_data);\n",
              "      });\n",
              "    });\n",
              "}else{\n",
              "    // require.js not available: dynamically load d3 & LDAvis\n",
              "    LDAvis_load_lib(\"https://d3js.org/d3.v5.js\", function(){\n",
              "         LDAvis_load_lib(\"https://cdn.jsdelivr.net/gh/bmabey/pyLDAvis@3.3.1/pyLDAvis/js/ldavis.v3.0.0.js\", function(){\n",
              "                 new LDAvis(\"#\" + \"ldavis_el4161400334028370724944006046\", ldavis_el4161400334028370724944006046_data);\n",
              "            })\n",
              "         });\n",
              "}\n",
              "</script>"
            ],
            "text/plain": [
              "<IPython.core.display.HTML object>"
            ]
          },
          "metadata": {
            "tags": []
          },
          "execution_count": 156
        }
      ]
    },
    {
      "cell_type": "markdown",
      "metadata": {
        "id": "Hjni841MleE5"
      },
      "source": [
        "Ensuite on peut y associer notre article Le Monde, pour trouver à quels clusters il se rapproche. Toujours en appliquant le même data pre-processing, on visualise son appartenance aux clusters avec `lda_model[dictionary_LDA.doc2bow(article tokénisé)]`."
      ]
    },
    {
      "cell_type": "code",
      "metadata": {
        "colab": {
          "base_uri": "https://localhost:8080/"
        },
        "id": "7_DzHVPOpIvS",
        "outputId": "ef1f6375-092e-4876-ecd9-3713ec7e6b06"
      },
      "source": [
        "new_text = \" \".join(mainArticle[\"content\"])\n",
        "# Step 1 - Read text and tokenize\n",
        "phrases = tokenizer.tokenize(new_text)\n",
        "\n",
        "clean_sentences = []\n",
        "order = []\n",
        "idx = 0\n",
        "for sentence in phrases:\n",
        "  clean_words = []\n",
        "  order.append(idx)\n",
        "  idx += 1\n",
        "  for token in return_token(sentence, nlp):\n",
        "    if token not in stop_words:\n",
        "        mot = ''.join(e for e in token if e.isalnum())\n",
        "        if mot != '' and len(mot) > 2:\n",
        "            clean_words.append(mot)\n",
        "\n",
        "lda_model[dictionary_LDA.doc2bow(clean_words)]"
      ],
      "execution_count": null,
      "outputs": [
        {
          "output_type": "execute_result",
          "data": {
            "text/plain": [
              "[(6, 0.28551733), (11, 0.18504067), (16, 0.5109637)]"
            ]
          },
          "metadata": {
            "tags": []
          },
          "execution_count": 157
        }
      ]
    },
    {
      "cell_type": "markdown",
      "metadata": {
        "id": "UiH2mgHnmBTJ"
      },
      "source": [
        "L'article parle à 51% du sujet 16, à 28% du sujet 6 et à 18% du sujet 11.\n",
        "\n",
        "Sauf que vous l'aurez remarqué, les clusters trouvés ou du moins les mots constituants ces clusters n'ont aucun sens. L'erreur vient très certainement de moi, notamment de mon data pre processing puisqu'il semble que les stop words n'ont pas été correctement retirés. J'ai tenté des petites astuces qui ont donné de meilleurs résultats, en n'appliquant pas de stemmer (les mots étaient totalement dénaturés, mauvais pour la visualisation) et j'ai exclu tous les mots composés de 1 ou 2 lettres, mais cela n'a pas été suffisant."
      ]
    },
    {
      "cell_type": "markdown",
      "metadata": {
        "id": "KniWNvwSLxbK"
      },
      "source": [
        "\n",
        "\n",
        "---\n",
        "\n",
        "## Analyse et conclusion\n",
        "\n",
        "C'est indéniable, mon implémentation de BERTopic est la plus efficace. Dans ce type de projet, il est impossible de mettre un chiffre sur l'efficacité des algorithme, si ce n'est vérifier au cas par cas que les articles sont associés à un sujet cohérent. Les résultats n'en sont néanmoins que moyennement satisfaisant, beaucoup de sujets parmi ceux extraits n'ont quasiment aucun sens. Mais ce n'est pas forcément négatif.\n",
        "\n",
        "Comme je l'ai expliqué précédemment, le dataset d'articles trouvé sur internet est très mauvais, et très peu représentatif de la diversité des sujets d'articles de presse. Mais la technique de clusterisation semble fonctionner. L'article de sport du site Le Monde appartient au bon cluster et les mots extraits sont justes. Certains des sujets n'ayant que peu de sens sont en réalité composés de mots appartenant à un lexique d'annonce LeBonCoin par exemple (envoyer, lettre, annonce, vendeur...).\n",
        "\n",
        "Ce qui me laisse penser qu'avec un dataset plus cohérent, cet algorithme pourrait être très bon. Il faudrait par exemple le constituer \"à la main\" en scrappant un certain nombre d'url. C'est une piste d'amélioration car malheureusement, je manque de temps.\n",
        "\n",
        "<br>\n",
        "<br>\n",
        "\n",
        "\n",
        "---\n",
        "\n",
        "# Références\n",
        "\n",
        "\n",
        "*   https://medium.com/@vitalshchutski/french-nlp-entamez-le-camembert-avec-les-librairies-fast-bert-et-transformers-14e65f84c148\n",
        "*   https://towardsdatascience.com/topic-modeling-with-bert-779f7db187e6\n",
        "*   https://towardsdatascience.com/the-complete-guide-for-topics-extraction-in-python-a6aaa6cedbbc\n",
        "*   https://webhose.io/free-datasets/french-news-articles/\n",
        "*   https://www.newseye.eu/blog/news/multilingual-dynamic-topic-modelling/\n",
        "*   https://towardsdatascience.com/interactive-topic-modeling-with-bertopic-1ea55e7d73d8\n",
        "*   https://github.com/MaartenGr/BERTopic/\n",
        "*   https://www.lemonde.fr/\n",
        "\n"
      ]
    }
  ]
}